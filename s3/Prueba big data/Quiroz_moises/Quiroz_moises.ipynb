{
 "cells": [
  {
   "cell_type": "markdown",
   "metadata": {},
   "source": [
    "# Prueba 2"
   ]
  },
  {
   "cell_type": "markdown",
   "metadata": {},
   "source": [
    "Version posterior a encontrar el archivo donde desia como recodificar, no lo habia visto la 1ra vez que subi la prueba"
   ]
  },
  {
   "cell_type": "markdown",
   "metadata": {},
   "source": [
    "#### Moises Quiroz Diaz"
   ]
  },
  {
   "cell_type": "markdown",
   "metadata": {},
   "source": [
    "    Yelp es un directorio de servicios a nivel mundial, que permite a sus usuarios el evaluar los servicios\n",
    "    (restaurants, bancos, clínicas, gimnasios, entre otros) para encontrar y sugerir mejores servicios.\n",
    "    Para esta prueba utilizaremos los datos disponibilizados por Yelp para:\n",
    "    Identificar usuarios molestosos.\n",
    "    Probabilidad de cierre de los negocios."
   ]
  },
  {
   "cell_type": "code",
   "execution_count": 1,
   "metadata": {},
   "outputs": [
    {
     "name": "stdout",
     "output_type": "stream",
     "text": [
      "Starting Spark application\n"
     ]
    },
    {
     "data": {
      "text/html": [
       "<table>\n",
       "<tr><th>ID</th><th>YARN Application ID</th><th>Kind</th><th>State</th><th>Spark UI</th><th>Driver log</th><th>Current session?</th></tr><tr><td>0</td><td>application_1577155275878_0001</td><td>pyspark</td><td>idle</td><td><a target=\"_blank\" href=\"http://ip-172-31-38-183.ec2.internal:20888/proxy/application_1577155275878_0001/\">Link</a></td><td><a target=\"_blank\" href=\"http://ip-172-31-38-100.ec2.internal:8042/node/containerlogs/container_1577155275878_0001_01_000001/livy\">Link</a></td><td>✔</td></tr></table>"
      ],
      "text/plain": [
       "<IPython.core.display.HTML object>"
      ]
     },
     "metadata": {},
     "output_type": "display_data"
    },
    {
     "name": "stdout",
     "output_type": "stream",
     "text": [
      "SparkSession available as 'spark'.\n"
     ]
    }
   ],
   "source": [
    "from pyspark.sql.types import StructType, StructField, StringType, FloatType, IntegerType, DoubleType, LongType\n",
    "import pyspark.sql.functions as f\n",
    "from pyspark.ml.feature import VectorAssembler\n",
    "from pyspark.ml.evaluation import BinaryClassificationEvaluator\n",
    "from pyspark.ml.classification import LogisticRegression, GBTClassifier, DecisionTreeClassifier\n",
    "import pandas as pd\n",
    "from pyspark.sql.functions import when,col\n",
    "from pyspark.sql import Row\n",
    "from pyspark.sql.functions import monotonically_increasing_id"
   ]
  },
  {
   "cell_type": "code",
   "execution_count": 2,
   "metadata": {},
   "outputs": [],
   "source": [
    "userdf = spark.read.json(\"s3://bigdata-desafio/yelp-data/user.json\")"
   ]
  },
  {
   "cell_type": "code",
   "execution_count": 3,
   "metadata": {},
   "outputs": [
    {
     "name": "stdout",
     "output_type": "stream",
     "text": [
      "root\n",
      " |-- average_stars: double (nullable = true)\n",
      " |-- compliment_cool: long (nullable = true)\n",
      " |-- compliment_cute: long (nullable = true)\n",
      " |-- compliment_funny: long (nullable = true)\n",
      " |-- compliment_hot: long (nullable = true)\n",
      " |-- compliment_list: long (nullable = true)\n",
      " |-- compliment_more: long (nullable = true)\n",
      " |-- compliment_note: long (nullable = true)\n",
      " |-- compliment_photos: long (nullable = true)\n",
      " |-- compliment_plain: long (nullable = true)\n",
      " |-- compliment_profile: long (nullable = true)\n",
      " |-- compliment_writer: long (nullable = true)\n",
      " |-- cool: long (nullable = true)\n",
      " |-- elite: string (nullable = true)\n",
      " |-- fans: long (nullable = true)\n",
      " |-- friends: string (nullable = true)\n",
      " |-- funny: long (nullable = true)\n",
      " |-- name: string (nullable = true)\n",
      " |-- review_count: long (nullable = true)\n",
      " |-- useful: long (nullable = true)\n",
      " |-- user_id: string (nullable = true)\n",
      " |-- yelping_since: string (nullable = true)"
     ]
    }
   ],
   "source": [
    "userdf.printSchema()"
   ]
  },
  {
   "cell_type": "markdown",
   "metadata": {},
   "source": [
    "Identifique en una variable dummy todos los usuarios que se puedan clasificar como molestosos\n",
    "acorde al criterio.\n",
    "\n",
    "Recodificaciones en el archivo user.json :\n",
    "\n",
    "\n",
    "    friends , que corresponde a un string con todos los user_id de otros usuarios que\n",
    "    siguen al usuario . El objetivo es contar la cantidad de amigos existentes.\n",
    "    \n",
    "    elite , que corresponde a un string con todos los años en los que el usuario fue\n",
    "    considerado como un reviewer de elite. El objetivo es contar la cantidad de años en los\n",
    "    cuales se consideró como elite.\n",
    "    \n",
    "    Asegúrese de eliminar los siguientes registros: friends , yelping_since , name ,\n",
    "    elite , user_id ."
   ]
  },
  {
   "cell_type": "code",
   "execution_count": 4,
   "metadata": {},
   "outputs": [],
   "source": [
    "schema = StructType([\n",
    "    StructField('average_stars', DoubleType(), True),\n",
    "    StructField('compliment_cool', LongType(), True),\n",
    "    StructField('compliment_cute', LongType(), nullable= True),\n",
    "    StructField('compliment_funny', LongType(), nullable= True),\n",
    "    StructField('compliment_hot', LongType(), nullable= True),\n",
    "    StructField('compliment_list', LongType(), nullable= True),\n",
    "    StructField('compliment_more', LongType(), nullable= True),\n",
    "    StructField('compliment_note', LongType(), nullable= True),\n",
    "    StructField('compliment_photos', LongType(), nullable= True),\n",
    "    StructField('compliment_plain', LongType(), nullable= True),\n",
    "    StructField('compliment_profile', LongType(), nullable= True),\n",
    "    StructField('compliment_writer', LongType(), nullable= True),\n",
    "    StructField('cool', LongType(), nullable= True),\n",
    "    StructField('elite', StringType(), nullable= True),\n",
    "    StructField('fans', LongType(), nullable= True),\n",
    "    StructField('friends', StringType(), nullable= True),\n",
    "    StructField('funny',LongType(), nullable= True),\n",
    "    StructField('name', StringType(), nullable= True),\n",
    "    StructField('review_count', LongType(), nullable= True),\n",
    "    StructField('useful', LongType(), nullable= True),\n",
    "    StructField('user_id', StringType(), nullable= True),\n",
    "    StructField('yelping_since', StringType(), nullable= True),\n",
    "    StructField('molesto', IntegerType(), nullable= True),\n",
    "    StructField('friend_count', LongType(), nullable= True),\n",
    "    StructField('elite_count', LongType(), nullable= True)\n",
    "])"
   ]
  },
  {
   "cell_type": "code",
   "execution_count": 5,
   "metadata": {},
   "outputs": [],
   "source": [
    "userdf = spark.read.json(\"s3://bigdata-desafio/yelp-data/user.json\", schema=schema)"
   ]
  },
  {
   "cell_type": "code",
   "execution_count": 6,
   "metadata": {},
   "outputs": [
    {
     "name": "stdout",
     "output_type": "stream",
     "text": [
      "root\n",
      " |-- average_stars: double (nullable = true)\n",
      " |-- compliment_cool: long (nullable = true)\n",
      " |-- compliment_cute: long (nullable = true)\n",
      " |-- compliment_funny: long (nullable = true)\n",
      " |-- compliment_hot: long (nullable = true)\n",
      " |-- compliment_list: long (nullable = true)\n",
      " |-- compliment_more: long (nullable = true)\n",
      " |-- compliment_note: long (nullable = true)\n",
      " |-- compliment_photos: long (nullable = true)\n",
      " |-- compliment_plain: long (nullable = true)\n",
      " |-- compliment_profile: long (nullable = true)\n",
      " |-- compliment_writer: long (nullable = true)\n",
      " |-- cool: long (nullable = true)\n",
      " |-- elite: string (nullable = true)\n",
      " |-- fans: long (nullable = true)\n",
      " |-- friends: string (nullable = true)\n",
      " |-- funny: long (nullable = true)\n",
      " |-- name: string (nullable = true)\n",
      " |-- review_count: long (nullable = true)\n",
      " |-- useful: long (nullable = true)\n",
      " |-- user_id: string (nullable = true)\n",
      " |-- yelping_since: string (nullable = true)\n",
      " |-- molesto: integer (nullable = true)\n",
      " |-- friend_count: long (nullable = true)\n",
      " |-- elite_count: long (nullable = true)"
     ]
    }
   ],
   "source": [
    "userdf.printSchema()"
   ]
  },
  {
   "cell_type": "code",
   "execution_count": 7,
   "metadata": {},
   "outputs": [],
   "source": [
    "userdf.registerTempTable('userdf')\n",
    "query = \"select * from userdf where average_stars <= 2 or review_count < 100 or fans=0\""
   ]
  },
  {
   "cell_type": "code",
   "execution_count": 8,
   "metadata": {},
   "outputs": [],
   "source": [
    "userdf = userdf\\\n",
    "    .withColumn('molesto', when((userdf['average_stars'] <= 2) & (userdf['review_count'] < 100) & (userdf['fans'] == 0), 1)\\\n",
    "    .otherwise(0))"
   ]
  },
  {
   "cell_type": "code",
   "execution_count": 9,
   "metadata": {},
   "outputs": [
    {
     "name": "stdout",
     "output_type": "stream",
     "text": [
      "+-------+\n",
      "|molesto|\n",
      "+-------+\n",
      "|      0|\n",
      "|      0|\n",
      "|      0|\n",
      "|      0|\n",
      "|      0|\n",
      "|      0|\n",
      "|      0|\n",
      "|      0|\n",
      "|      0|\n",
      "|      0|\n",
      "|      0|\n",
      "|      0|\n",
      "|      0|\n",
      "|      0|\n",
      "|      0|\n",
      "|      0|\n",
      "|      0|\n",
      "|      0|\n",
      "|      0|\n",
      "|      0|\n",
      "+-------+\n",
      "only showing top 20 rows"
     ]
    }
   ],
   "source": [
    "userdf.select('molesto').show()"
   ]
  },
  {
   "cell_type": "code",
   "execution_count": 10,
   "metadata": {},
   "outputs": [],
   "source": [
    "userdf = userdf\\\n",
    "    .withColumn('friend_count', userdf['friends'])"
   ]
  },
  {
   "cell_type": "code",
   "execution_count": 11,
   "metadata": {},
   "outputs": [],
   "source": [
    "userdf = userdf.withColumn('friend_count', f.size(f.split(f.col('friends'), ',')))"
   ]
  },
  {
   "cell_type": "code",
   "execution_count": 12,
   "metadata": {},
   "outputs": [
    {
     "name": "stdout",
     "output_type": "stream",
     "text": [
      "+------------+\n",
      "|friend_count|\n",
      "+------------+\n",
      "|          99|\n",
      "|        1152|\n",
      "|          15|\n",
      "|         525|\n",
      "|         231|\n",
      "|        5450|\n",
      "|        4326|\n",
      "|        1193|\n",
      "|         382|\n",
      "|         898|\n",
      "|         194|\n",
      "|          83|\n",
      "|         582|\n",
      "|          25|\n",
      "|         248|\n",
      "|         367|\n",
      "|         286|\n",
      "|         258|\n",
      "|        3451|\n",
      "|          46|\n",
      "+------------+\n",
      "only showing top 20 rows"
     ]
    }
   ],
   "source": [
    "userdf.select('friend_count').show()"
   ]
  },
  {
   "cell_type": "code",
   "execution_count": 13,
   "metadata": {},
   "outputs": [],
   "source": [
    "userdf = userdf.withColumn('elite_count', f.size(f.split(f.col('elite'), ',')))"
   ]
  },
  {
   "cell_type": "code",
   "execution_count": 14,
   "metadata": {},
   "outputs": [
    {
     "name": "stdout",
     "output_type": "stream",
     "text": [
      "+-----------+\n",
      "|elite_count|\n",
      "+-----------+\n",
      "|          3|\n",
      "|          1|\n",
      "|          1|\n",
      "|          1|\n",
      "|          4|\n",
      "|          4|\n",
      "|          8|\n",
      "|          1|\n",
      "|          7|\n",
      "|          1|\n",
      "|          2|\n",
      "|          1|\n",
      "|          1|\n",
      "|          1|\n",
      "|          1|\n",
      "|          1|\n",
      "|          6|\n",
      "|          1|\n",
      "|          5|\n",
      "|          1|\n",
      "+-----------+\n",
      "only showing top 20 rows"
     ]
    }
   ],
   "source": [
    "userdf.select('elite_count').show()"
   ]
  },
  {
   "cell_type": "code",
   "execution_count": 15,
   "metadata": {},
   "outputs": [
    {
     "name": "stdout",
     "output_type": "stream",
     "text": [
      "root\n",
      " |-- average_stars: double (nullable = true)\n",
      " |-- compliment_cool: long (nullable = true)\n",
      " |-- compliment_cute: long (nullable = true)\n",
      " |-- compliment_funny: long (nullable = true)\n",
      " |-- compliment_hot: long (nullable = true)\n",
      " |-- compliment_list: long (nullable = true)\n",
      " |-- compliment_more: long (nullable = true)\n",
      " |-- compliment_note: long (nullable = true)\n",
      " |-- compliment_photos: long (nullable = true)\n",
      " |-- compliment_plain: long (nullable = true)\n",
      " |-- compliment_profile: long (nullable = true)\n",
      " |-- compliment_writer: long (nullable = true)\n",
      " |-- cool: long (nullable = true)\n",
      " |-- elite: string (nullable = true)\n",
      " |-- fans: long (nullable = true)\n",
      " |-- friends: string (nullable = true)\n",
      " |-- funny: long (nullable = true)\n",
      " |-- name: string (nullable = true)\n",
      " |-- review_count: long (nullable = true)\n",
      " |-- useful: long (nullable = true)\n",
      " |-- user_id: string (nullable = true)\n",
      " |-- yelping_since: string (nullable = true)\n",
      " |-- molesto: integer (nullable = false)\n",
      " |-- friend_count: integer (nullable = false)\n",
      " |-- elite_count: integer (nullable = false)"
     ]
    }
   ],
   "source": [
    "userdf.printSchema()"
   ]
  },
  {
   "cell_type": "code",
   "execution_count": 16,
   "metadata": {},
   "outputs": [],
   "source": [
    "columns_to_drop = ['friends', 'elite', 'yelping_since', 'user_id', 'name']\n",
    "userdf = userdf.drop(*columns_to_drop)"
   ]
  },
  {
   "cell_type": "code",
   "execution_count": 17,
   "metadata": {},
   "outputs": [
    {
     "name": "stdout",
     "output_type": "stream",
     "text": [
      "root\n",
      " |-- average_stars: double (nullable = true)\n",
      " |-- compliment_cool: long (nullable = true)\n",
      " |-- compliment_cute: long (nullable = true)\n",
      " |-- compliment_funny: long (nullable = true)\n",
      " |-- compliment_hot: long (nullable = true)\n",
      " |-- compliment_list: long (nullable = true)\n",
      " |-- compliment_more: long (nullable = true)\n",
      " |-- compliment_note: long (nullable = true)\n",
      " |-- compliment_photos: long (nullable = true)\n",
      " |-- compliment_plain: long (nullable = true)\n",
      " |-- compliment_profile: long (nullable = true)\n",
      " |-- compliment_writer: long (nullable = true)\n",
      " |-- cool: long (nullable = true)\n",
      " |-- fans: long (nullable = true)\n",
      " |-- funny: long (nullable = true)\n",
      " |-- review_count: long (nullable = true)\n",
      " |-- useful: long (nullable = true)\n",
      " |-- molesto: integer (nullable = false)\n",
      " |-- friend_count: integer (nullable = false)\n",
      " |-- elite_count: integer (nullable = false)"
     ]
    }
   ],
   "source": [
    "userdf.printSchema()"
   ]
  },
  {
   "cell_type": "code",
   "execution_count": 18,
   "metadata": {},
   "outputs": [
    {
     "name": "stdout",
     "output_type": "stream",
     "text": [
      "root\n",
      " |-- average_stars: double (nullable = true)\n",
      " |-- compliment_cool: long (nullable = true)\n",
      " |-- compliment_cute: long (nullable = true)\n",
      " |-- compliment_funny: long (nullable = true)\n",
      " |-- compliment_hot: long (nullable = true)\n",
      " |-- compliment_list: long (nullable = true)\n",
      " |-- compliment_more: long (nullable = true)\n",
      " |-- compliment_note: long (nullable = true)\n",
      " |-- compliment_photos: long (nullable = true)\n",
      " |-- compliment_plain: long (nullable = true)\n",
      " |-- compliment_profile: long (nullable = true)\n",
      " |-- compliment_writer: long (nullable = true)\n",
      " |-- cool: long (nullable = true)\n",
      " |-- fans: long (nullable = true)\n",
      " |-- funny: long (nullable = true)\n",
      " |-- review_count: long (nullable = true)\n",
      " |-- useful: long (nullable = true)\n",
      " |-- label: integer (nullable = false)\n",
      " |-- friend_count: integer (nullable = false)\n",
      " |-- elite_count: integer (nullable = false)"
     ]
    }
   ],
   "source": [
    "userdf = userdf.withColumnRenamed('molesto','label')\n",
    "userdf.printSchema()"
   ]
  },
  {
   "cell_type": "markdown",
   "metadata": {},
   "source": [
    "    Genere la medición de usuarios molestos en base a los criterios expuestos. (cuyo nombre ahora es label)"
   ]
  },
  {
   "cell_type": "code",
   "execution_count": 51,
   "metadata": {},
   "outputs": [
    {
     "name": "stdout",
     "output_type": "stream",
     "text": [
      "+-----+-------+\n",
      "|label|  count|\n",
      "+-----+-------+\n",
      "|    1| 183676|\n",
      "|    0|1453462|\n",
      "+-----+-------+"
     ]
    }
   ],
   "source": [
    "userdf.groupBy('label').count().sort('count').show()"
   ]
  },
  {
   "cell_type": "markdown",
   "metadata": {},
   "source": [
    "#### Existen 183676 usuarios molestos"
   ]
  },
  {
   "cell_type": "markdown",
   "metadata": {},
   "source": [
    "    Divida la muestra en conjuntos de entrenamiento (preservando un 70% de los datos) y validación (preservando un 30% de los datos). (1 punto)"
   ]
  },
  {
   "cell_type": "code",
   "execution_count": 19,
   "metadata": {},
   "outputs": [],
   "source": [
    "feats = userdf.columns\n",
    "feats.remove('label')"
   ]
  },
  {
   "cell_type": "code",
   "execution_count": 20,
   "metadata": {},
   "outputs": [],
   "source": [
    "assemble_feats = VectorAssembler(inputCols = feats, outputCol = 'assembled_features')\n",
    "assemble_feats = assemble_feats.transform(userdf)\n",
    "assemble_feats = assemble_feats.select(['label', 'assembled_features'])"
   ]
  },
  {
   "cell_type": "code",
   "execution_count": 21,
   "metadata": {},
   "outputs": [],
   "source": [
    "train, test = assemble_feats.randomSplit([0.7, 0.3])"
   ]
  },
  {
   "cell_type": "markdown",
   "metadata": {},
   "source": [
    "    Entrene tres modelos ( LogisticRegression , GBTClassifier y DecisionTreeClassifier )\n",
    "    sin modificar hiperparámetros que en base a los atributos disponibles en el archivo user.json ,\n",
    "    clasifique los usuarios molestosos. (6 puntos)"
   ]
  },
  {
   "cell_type": "code",
   "execution_count": 22,
   "metadata": {},
   "outputs": [],
   "source": [
    "logistic_example = LogisticRegression(featuresCol='assembled_features', labelCol='label', predictionCol='molesto_pred')\n"
   ]
  },
  {
   "cell_type": "code",
   "execution_count": 23,
   "metadata": {},
   "outputs": [
    {
     "name": "stdout",
     "output_type": "stream",
     "text": [
      "+-----+--------------------+--------------------+--------------------+------------+\n",
      "|label|  assembled_features|       rawPrediction|         probability|molesto_pred|\n",
      "+-----+--------------------+--------------------+--------------------+------------+\n",
      "|    0|(19,[0,1,2,3,12,1...|[690.858194212917...|[1.0,9.2065830610...|         0.0|\n",
      "|    0|(19,[0,1,3,4,6,12...|[257.164237961607...|[1.0,2.0653350265...|         0.0|\n",
      "|    0|(19,[0,1,3,4,7,12...|[566.363045385871...|[1.0,1.0756095139...|         0.0|\n",
      "|    0|(19,[0,1,3,4,9,12...|[270.427238866619...|[1.0,3.5887433759...|         0.0|\n",
      "|    0|(19,[0,1,3,4,9,12...|[298.121538242307...|[1.0,3.3686896704...|         0.0|\n",
      "|    0|(19,[0,1,3,4,9,12...|[304.045316154618...|[1.0,9.0114970635...|         0.0|\n",
      "|    0|(19,[0,1,3,4,12,1...|[402.641055916872...|[1.0,1.3652469896...|         0.0|\n",
      "|    0|(19,[0,1,3,4,12,1...|[886.913592839318...|           [1.0,0.0]|         0.0|\n",
      "|    0|(19,[0,1,3,4,12,1...|[3780.94029344579...|           [1.0,0.0]|         0.0|\n",
      "|    0|(19,[0,1,3,4,12,1...|[711.081358155640...|           [1.0,0.0]|         0.0|\n",
      "+-----+--------------------+--------------------+--------------------+------------+\n",
      "only showing top 10 rows"
     ]
    }
   ],
   "source": [
    "logistic_example = logistic_example.fit(train)\n",
    "logistic_example.transform(test).show(10)"
   ]
  },
  {
   "cell_type": "code",
   "execution_count": 24,
   "metadata": {},
   "outputs": [
    {
     "name": "stdout",
     "output_type": "stream",
     "text": [
      "+-----+--------------------+--------------------+--------------------+------------+\n",
      "|label|  assembled_features|       rawPrediction|         probability|molesto_pred|\n",
      "+-----+--------------------+--------------------+--------------------+------------+\n",
      "|    0|(19,[0,1,2,3,12,1...|[690.858194212917...|[1.0,9.2065830610...|         0.0|\n",
      "|    0|(19,[0,1,3,4,6,12...|[257.164237961607...|[1.0,2.0653350265...|         0.0|\n",
      "|    0|(19,[0,1,3,4,7,12...|[566.363045385871...|[1.0,1.0756095139...|         0.0|\n",
      "|    0|(19,[0,1,3,4,9,12...|[270.427238866619...|[1.0,3.5887433759...|         0.0|\n",
      "|    0|(19,[0,1,3,4,9,12...|[298.121538242307...|[1.0,3.3686896704...|         0.0|\n",
      "|    0|(19,[0,1,3,4,9,12...|[304.045316154618...|[1.0,9.0114970635...|         0.0|\n",
      "|    0|(19,[0,1,3,4,12,1...|[402.641055916872...|[1.0,1.3652469896...|         0.0|\n",
      "|    0|(19,[0,1,3,4,12,1...|[886.913592839318...|           [1.0,0.0]|         0.0|\n",
      "|    0|(19,[0,1,3,4,12,1...|[3780.94029344579...|           [1.0,0.0]|         0.0|\n",
      "|    0|(19,[0,1,3,4,12,1...|[711.081358155640...|           [1.0,0.0]|         0.0|\n",
      "+-----+--------------------+--------------------+--------------------+------------+\n",
      "only showing top 10 rows"
     ]
    }
   ],
   "source": [
    "logistic_example.transform(test).show(10)"
   ]
  },
  {
   "cell_type": "code",
   "execution_count": 25,
   "metadata": {},
   "outputs": [],
   "source": [
    "GBT = GBTClassifier(featuresCol='assembled_features', labelCol='label', predictionCol='molesto_pred')\n",
    "GBTf = GBT.fit(train)\n",
    "GBTt = GBTf.transform(test)"
   ]
  },
  {
   "cell_type": "code",
   "execution_count": 26,
   "metadata": {},
   "outputs": [],
   "source": [
    "evaluator = BinaryClassificationEvaluator()"
   ]
  },
  {
   "cell_type": "code",
   "execution_count": 27,
   "metadata": {},
   "outputs": [],
   "source": [
    "DTreeC = DecisionTreeClassifier(featuresCol='assembled_features', labelCol='label', predictionCol='molesto_pred')\n",
    "DTreeC = DTreeC.fit(train)\n",
    "DTreeC = DTreeC.transform(test)"
   ]
  },
  {
   "cell_type": "code",
   "execution_count": 28,
   "metadata": {},
   "outputs": [
    {
     "name": "stdout",
     "output_type": "stream",
     "text": [
      "('Curva ROC para Logistic regresion', 0.9999726095434222)\n",
      "('Curva ROC para GBTClasifier', 0.999989511386619)\n",
      "('Curva ROC para DecisionTreeClassifier', 0.9993556392481716)"
     ]
    }
   ],
   "source": [
    "print('Curva ROC para Logistic regresion',logistic_example.evaluate(test).areaUnderROC)\n",
    "print('Curva ROC para GBTClasifier',evaluator.evaluate(GBTt, {evaluator.metricName : \"areaUnderROC\"}))\n",
    "print('Curva ROC para DecisionTreeClassifier',evaluator.evaluate(DTreeC, {evaluator.metricName : \"areaUnderROC\"}))"
   ]
  },
  {
   "cell_type": "markdown",
   "metadata": {},
   "source": [
    "    Reporte cuál es el mejor modelo en base a la métrica AUC. (1 punto)"
   ]
  },
  {
   "cell_type": "markdown",
   "metadata": {},
   "source": [
    "El que ofrece mejor AUC es GBT"
   ]
  },
  {
   "cell_type": "markdown",
   "metadata": {},
   "source": [
    "    Identifique cuales son los principales atributos asociados a un usuario molestoso y repórtelos. (2\n",
    "    puntos)"
   ]
  },
  {
   "cell_type": "code",
   "execution_count": 29,
   "metadata": {},
   "outputs": [
    {
     "name": "stdout",
     "output_type": "stream",
     "text": [
      "                   col    importance\n",
      "0        average_stars  9.085699e-01\n",
      "13                fans  5.366604e-02\n",
      "15        review_count  3.767968e-02\n",
      "11   compliment_writer  3.394893e-05\n",
      "17        friend_count  2.928648e-05\n",
      "6      compliment_more  1.958342e-05\n",
      "12                cool  1.576030e-06\n",
      "7      compliment_note  1.263573e-09\n",
      "1      compliment_cool  4.202182e-11\n",
      "5      compliment_list  9.283319e-13\n",
      "9     compliment_plain  1.236168e-13\n",
      "4       compliment_hot  7.819918e-14\n",
      "16              useful  2.029635e-14\n",
      "2      compliment_cute  2.470726e-17\n",
      "8    compliment_photos  5.570409e-18\n",
      "14               funny  1.180731e-18\n",
      "18         elite_count  6.603813e-19\n",
      "10  compliment_profile  0.000000e+00\n",
      "3     compliment_funny  0.000000e+00"
     ]
    }
   ],
   "source": [
    "feat_importance = pd.DataFrame({'col':feats, 'importance': GBTf.featureImportances.toArray()})\n",
    "feat_importance.sort_values(by='importance', ascending=False)"
   ]
  },
  {
   "cell_type": "markdown",
   "metadata": {},
   "source": [
    "#### Por ende los atributos de mayor importancia son Average_stars, fans y review_count"
   ]
  },
  {
   "cell_type": "markdown",
   "metadata": {},
   "source": [
    "## Conclusiones:\n",
    "Se crea un modelo muy potente y causa impresion lo eficaz y util que puede resultar esta tecnologia"
   ]
  },
  {
   "cell_type": "code",
   "execution_count": null,
   "metadata": {},
   "outputs": [],
   "source": []
  },
  {
   "cell_type": "code",
   "execution_count": null,
   "metadata": {},
   "outputs": [],
   "source": []
  },
  {
   "cell_type": "markdown",
   "metadata": {},
   "source": [
    "# Ejercicio 2: Identificando la probabilidad de cierre de un servicio (14 puntos)"
   ]
  },
  {
   "cell_type": "code",
   "execution_count": 19,
   "metadata": {},
   "outputs": [],
   "source": [
    "df = spark.read.json(\"s3://bigdata-desafio/yelp-data/business.json\")"
   ]
  },
  {
   "cell_type": "code",
   "execution_count": 20,
   "metadata": {},
   "outputs": [
    {
     "name": "stdout",
     "output_type": "stream",
     "text": [
      "root\n",
      " |-- address: string (nullable = true)\n",
      " |-- attributes: struct (nullable = true)\n",
      " |    |-- AcceptsInsurance: string (nullable = true)\n",
      " |    |-- AgesAllowed: string (nullable = true)\n",
      " |    |-- Alcohol: string (nullable = true)\n",
      " |    |-- Ambience: string (nullable = true)\n",
      " |    |-- BYOB: string (nullable = true)\n",
      " |    |-- BYOBCorkage: string (nullable = true)\n",
      " |    |-- BestNights: string (nullable = true)\n",
      " |    |-- BikeParking: string (nullable = true)\n",
      " |    |-- BusinessAcceptsBitcoin: string (nullable = true)\n",
      " |    |-- BusinessAcceptsCreditCards: string (nullable = true)\n",
      " |    |-- BusinessParking: string (nullable = true)\n",
      " |    |-- ByAppointmentOnly: string (nullable = true)\n",
      " |    |-- Caters: string (nullable = true)\n",
      " |    |-- CoatCheck: string (nullable = true)\n",
      " |    |-- Corkage: string (nullable = true)\n",
      " |    |-- DietaryRestrictions: string (nullable = true)\n",
      " |    |-- DogsAllowed: string (nullable = true)\n",
      " |    |-- DriveThru: string (nullable = true)\n",
      " |    |-- GoodForDancing: string (nullable = true)\n",
      " |    |-- GoodForKids: string (nullable = true)\n",
      " |    |-- GoodForMeal: string (nullable = true)\n",
      " |    |-- HairSpecializesIn: string (nullable = true)\n",
      " |    |-- HappyHour: string (nullable = true)\n",
      " |    |-- HasTV: string (nullable = true)\n",
      " |    |-- Music: string (nullable = true)\n",
      " |    |-- NoiseLevel: string (nullable = true)\n",
      " |    |-- Open24Hours: string (nullable = true)\n",
      " |    |-- OutdoorSeating: string (nullable = true)\n",
      " |    |-- RestaurantsAttire: string (nullable = true)\n",
      " |    |-- RestaurantsCounterService: string (nullable = true)\n",
      " |    |-- RestaurantsDelivery: string (nullable = true)\n",
      " |    |-- RestaurantsGoodForGroups: string (nullable = true)\n",
      " |    |-- RestaurantsPriceRange2: string (nullable = true)\n",
      " |    |-- RestaurantsReservations: string (nullable = true)\n",
      " |    |-- RestaurantsTableService: string (nullable = true)\n",
      " |    |-- RestaurantsTakeOut: string (nullable = true)\n",
      " |    |-- Smoking: string (nullable = true)\n",
      " |    |-- WheelchairAccessible: string (nullable = true)\n",
      " |    |-- WiFi: string (nullable = true)\n",
      " |-- business_id: string (nullable = true)\n",
      " |-- categories: string (nullable = true)\n",
      " |-- city: string (nullable = true)\n",
      " |-- hours: struct (nullable = true)\n",
      " |    |-- Friday: string (nullable = true)\n",
      " |    |-- Monday: string (nullable = true)\n",
      " |    |-- Saturday: string (nullable = true)\n",
      " |    |-- Sunday: string (nullable = true)\n",
      " |    |-- Thursday: string (nullable = true)\n",
      " |    |-- Tuesday: string (nullable = true)\n",
      " |    |-- Wednesday: string (nullable = true)\n",
      " |-- is_open: long (nullable = true)\n",
      " |-- latitude: double (nullable = true)\n",
      " |-- longitude: double (nullable = true)\n",
      " |-- name: string (nullable = true)\n",
      " |-- postal_code: string (nullable = true)\n",
      " |-- review_count: long (nullable = true)\n",
      " |-- stars: double (nullable = true)\n",
      " |-- state: string (nullable = true)"
     ]
    }
   ],
   "source": [
    "df.printSchema()"
   ]
  },
  {
   "cell_type": "markdown",
   "metadata": {},
   "source": [
    "    Implemente el esquema de recodificación. (2 puntos)"
   ]
  },
  {
   "cell_type": "code",
   "execution_count": 35,
   "metadata": {},
   "outputs": [],
   "source": [
    "df=df\\\n",
    "    .withColumn('accepts_insurance', \n",
    "        when((col('attributes.AcceptsInsurance') == 'True')\\\n",
    "             | (col('attributes.AcceptsInsurance') == \"\\'True\\'\")\\\n",
    "             | (col('attributes.AcceptsInsurance') == \"u\\'True\\'\"), 1)\\\n",
    "        .otherwise(0).alias('insurance'))\n",
    "\n",
    "# 1 if business is age-restricted, 0 otherwise\n",
    "df=df\\\n",
    "    .withColumn('all_ages_allowed', \n",
    "        when((col('attributes.AgesAllowed') == 'allages')\\\n",
    "            | (col('attributes.AgesAllowed') == \"\\'allages\\'\")\\\n",
    "            | (col('attributes.AgesAllowed') == \"u\\'allages\\'\"), 1)\\\n",
    "        .otherwise(0).alias('all_ages_allowed'))\n",
    "\n",
    "# 1 if business allows alcohol consumption, 0 otherwise\n",
    "df=df\\\n",
    "    .withColumn('alcohol_consumption', \n",
    "        when((col('attributes.Alcohol') == 'beer_and_wine')\\\n",
    "             | (col('attributes.Alcohol') == \"\\'beer_and_wine\\'\")\\\n",
    "             | (col('attributes.Alcohol') == \"u\\'beer_and_wine\\'\")\\\n",
    "             | (col('attributes.Alcohol') == 'full_bar')\\\n",
    "             | (col('attributes.Alcohol') == \"\\'full_bar\\'\")\\\n",
    "             | (col('attributes.Alcohol') == \"u\\'full_bar\\'\"), 1)\\\n",
    "        .otherwise(0).alias('alcohol_consumption'))\n",
    "\n",
    "# 1 if business accepts bitcoin as payment method, 0 otherwise\n",
    "df=df\\\n",
    "    .withColumn('bitcoin_friendly', \n",
    "        when((col('attributes.BusinessAcceptsBitcoin') == 'True')\\\n",
    "             | (col('attributes.BusinessAcceptsBitcoin') == True)\\\n",
    "             | (col('attributes.BusinessAcceptsBitcoin') == \"\\'True\\'\")\\\n",
    "             | (col('attributes.BusinessAcceptsBitcoin') == \"u\\'True\\'\"), 1)\\\n",
    "        .otherwise(0).alias('bitcoin_friendly'))\n",
    "\n",
    "# 1 if business is food related, 0 otherwise\n",
    "df=df\\\n",
    "    .withColumn('food_related', \n",
    "        when((col('categories').rlike('Food'))\\\n",
    "             | (col('categories').rlike('Restaurants'))\\\n",
    "             | (col('categories').rlike('Bars')), 1)\\\n",
    "        .otherwise(0).alias('food_business'))\n",
    "\n",
    "# 1 if business is finance related, 0 otherwise\n",
    "df=df\\\n",
    "    .withColumn('finance_related', when(\n",
    "        (col('categories').rlike('Banks'))\\\n",
    "         | (col('categories').rlike('Insurance'))\\\n",
    "         | (col('categories').rlike('Finance')), 1)\\\n",
    "        .otherwise(0).alias('finance_business'))\n",
    "\n",
    "# 1 if business is health related, 0 otherwise\n",
    "df=df\\\n",
    "    .withColumn('health_related', when(\n",
    "        (col('categories').rlike('Fitness'))\\\n",
    "        | (col('categories').rlike('Hospitals'))\\\n",
    "        | (col('categories').rlike('Health')), 1)\\\n",
    "            .otherwise(0).alias('health_business'))\n",
    "\n",
    "# 1 if business allows smoking, 0 otherwise\n",
    "df=df\\\n",
    "    .withColumn('smoking', when((col('attributes.Smoking') == '\\'yes\\'')\\\n",
    "                 |(col('attributes.Smoking') == 'u\\'yes\\'')\\\n",
    "                 |(col('attributes.Smoking') == 'yes')\\\n",
    "                 |(col('attributes.Smoking') == '\\'outdoor\\'')\\\n",
    "                 |(col('attributes.Smoking') == 'u\\'outdoor\\'')\\\n",
    "                 |(col('attributes.Smoking') == 'outdoor'), 1)\\\n",
    "           .otherwise(0).alias('smokers'))\n",
    "\n",
    "# 1 if business offers free wifi to its customers, 0 otherwise\n",
    "df=df\\\n",
    "    .withColumn('free_wifi', when((col('attributes.WiFi') == '\\'free\\'')\\\n",
    "                | (col('attributes.WiFi') == 'u\\'free\\'')\\\n",
    "                | (col('attributes.WiFi') == 'free'), 1)\\\n",
    "           .otherwise(0).alias('free_wifi'))\n",
    "\n",
    "# 1 if business can be considered expensive, 0 otherwise (applies only to restaurants)\n",
    "df=df\\\n",
    "    .withColumn('expensive_restaurant', when((col('attributes.RestaurantsPriceRange2') == 3)\\\n",
    "                 | (col('attributes.RestaurantsPriceRange2') == 4), 1)\\\n",
    "            .otherwise(0).alias('splurge'))\n",
    "\n",
    "# 1 if business is kid friendly, 0 otherwise\n",
    "df=df\\\n",
    "    .withColumn('kid_friendly', when((col('attributes.GoodForKids') == 'True')\\\n",
    "                 | (col('attributes.GoodForKids') == True)\\\n",
    "                 | (col('attributes.GoodForKids') == \"\\'True\\'\")\\\n",
    "                 | (col('attributes.GoodForKids') == \"u\\'True\\'\"), 1)\\\n",
    "            .otherwise(0).alias('kids_friendly'))\n",
    "\n",
    "# 1 if business has tv, 0 otherwise\n",
    "df=df\\\n",
    "    .withColumn('has_tv', when((col('attributes.HasTV') == 'True')\\\n",
    "                 | (col('attributes.HasTV') == True)\\\n",
    "                 | (col('attributes.HasTV') == \"\\'True\\'\")\\\n",
    "                 | (col('attributes.HasTV') == \"u\\'True\\'\"), 1)\\\n",
    "            .otherwise(0).alias('has_tv'))\n",
    "\n",
    "# 1 if business is dog friendly, 0 otherwise\n",
    "df=df\\\n",
    "    .withColumn('dog_friendly', when((col('attributes.DogsAllowed') == 'True')\\\n",
    "                 | (col('attributes.DogsAllowed') == True)\\\n",
    "                 | (col('attributes.DogsAllowed') == \"\\True'\\'\")\\\n",
    "                 | (col('attributes.DogsAllowed') == \"u\\'True\\'\"), 1)\\\n",
    "            .otherwise(0).alias('dogs_friendly'))\n",
    "\n",
    "# 1 if business can be considered as loud or very loud, 0 otherwise\n",
    "df=df\\\n",
    "    .withColumn('loud_place', when((col('attributes.NoiseLevel') == 'loud')\\\n",
    "                 | (col('attributes.NoiseLevel') == \"\\'loud\\'\")\\\n",
    "                 | (col('attributes.NoiseLevel') == \"u\\'loud\\'\")\\\n",
    "                 | (col('attributes.NoiseLevel') == \"very_loud\")\\\n",
    "                 | (col('attributes.NoiseLevel') == \"\\'very_loud\\'\")\\\n",
    "                 | (col('attributes.NoiseLevel') == \"u\\'very_loud\\'\"), 1)\\\n",
    "            .otherwise(0).alias('loud_place'))\n",
    "\n",
    "# 1 if business offers happy hours, 0 otherwise (applies only to restaurants)\n",
    "df=df\\\n",
    "    .withColumn('happy_hour', when((col('attributes.HappyHour') == 'True')\\\n",
    "                 | (col('attributes.HappyHour') == True)\\\n",
    "                 | (col('attributes.HappyHour') == \"\\'True\\'\")\\\n",
    "                 | (col('attributes.HappyHour') == \"u\\'True\\'\"), 1)\\\n",
    "            .otherwise(0).alias('happy_hour'))"
   ]
  },
  {
   "cell_type": "code",
   "execution_count": 36,
   "metadata": {},
   "outputs": [],
   "source": [
    "df_proc = df.select('is_open', 'review_count', 'stars', 'accepts_insurance',\n",
    "'all_ages_allowed', 'alcohol_consumption', 'bitcoin_friendly', 'food_related',\n",
    "'finance_related', 'health_related','smoking','free_wifi','has_tv',\n",
    "'dog_friendly','kid_friendly','expensive_restaurant','loud_place','happy_hour')"
   ]
  },
  {
   "cell_type": "code",
   "execution_count": 38,
   "metadata": {},
   "outputs": [],
   "source": [
    "df_proc = df_proc.withColumnRenamed(\"is_open\", \"label\")"
   ]
  },
  {
   "cell_type": "code",
   "execution_count": 39,
   "metadata": {},
   "outputs": [
    {
     "name": "stdout",
     "output_type": "stream",
     "text": [
      "[Row(label=0, review_count=5, stars=3.0, accepts_insurance=0, all_ages_allowed=0, alcohol_consumption=0, bitcoin_friendly=0, food_related=0, finance_related=0, health_related=0, smoking=0, free_wifi=0, has_tv=0, dog_friendly=0, kid_friendly=0, expensive_restaurant=0, loud_place=0, happy_hour=0)]"
     ]
    }
   ],
   "source": [
    "df_proc.take(1)"
   ]
  },
  {
   "cell_type": "markdown",
   "metadata": {},
   "source": [
    "##### Genere la recodificación del vector objetivo. (2 puntos)"
   ]
  },
  {
   "cell_type": "code",
   "execution_count": 40,
   "metadata": {},
   "outputs": [],
   "source": [
    "df_proc = df_proc\\\n",
    "    .withColumn('label', when(df_proc['label'] == 0, 1)\\\n",
    "    .otherwise(0))"
   ]
  },
  {
   "cell_type": "code",
   "execution_count": 41,
   "metadata": {},
   "outputs": [],
   "source": [
    "feats = df_proc.columns\n",
    "feats.remove('label')"
   ]
  },
  {
   "cell_type": "code",
   "execution_count": 42,
   "metadata": {},
   "outputs": [],
   "source": [
    "assemble_feats = VectorAssembler(inputCols = feats, outputCol = 'assembled_features')\n",
    "assemble_feats = assemble_feats.transform(df_proc)\n",
    "assemble_feats = assemble_feats.select(['label', 'assembled_features'])"
   ]
  },
  {
   "cell_type": "markdown",
   "metadata": {},
   "source": [
    "    Divida la muestra en conjuntos de entrenamiento (preservando un 70% de los datos) y\n",
    "    validación (preservando un 30% de los datos). (1 punto)"
   ]
  },
  {
   "cell_type": "code",
   "execution_count": 43,
   "metadata": {},
   "outputs": [],
   "source": [
    "train, test = assemble_feats.randomSplit([0.7, 0.3])"
   ]
  },
  {
   "cell_type": "markdown",
   "metadata": {},
   "source": [
    "    Entrene tres modelos ( LogisticRegression , GBTClassifier y DecisionTreeClassifier )\n",
    "    sin modificar hiperparámetros que en base a los atributos recodificados del archivo\n",
    "    review.json , clasifique aquellos servicios cerrados. (6 puntos)"
   ]
  },
  {
   "cell_type": "code",
   "execution_count": 44,
   "metadata": {},
   "outputs": [],
   "source": [
    "logistic = LogisticRegression(featuresCol='assembled_features', labelCol='label', predictionCol='label_pred')\n",
    "logisticf = logistic.fit(train)\n",
    "logistict = logisticf.transform(test)\n",
    "GBT = GBTClassifier(featuresCol='assembled_features', labelCol='label', predictionCol='label_pred')\n",
    "GBTf = GBT.fit(train)\n",
    "GBTt = GBTf.transform(test)\n",
    "evaluator = BinaryClassificationEvaluator()\n",
    "DTreeC = DecisionTreeClassifier(featuresCol='assembled_features', labelCol='label', predictionCol='label_pred')\n",
    "DTreeC = DTreeC.fit(train)\n",
    "DTreeC = DTreeC.transform(test)\n"
   ]
  },
  {
   "cell_type": "markdown",
   "metadata": {},
   "source": [
    "    Reporte cuál es el mejor modelo en base a la métrica AUC. (1 punto)"
   ]
  },
  {
   "cell_type": "code",
   "execution_count": 45,
   "metadata": {},
   "outputs": [
    {
     "name": "stdout",
     "output_type": "stream",
     "text": [
      "('Curva ROC para GBTClasifier', 0.6922089327872706)\n",
      "('Curva ROC para GBTClasifier', 0.7049978963604541)\n",
      "('Curva ROC para DecisionTreeClassifier', 0.4434966843472928)"
     ]
    }
   ],
   "source": [
    "print('Curva ROC para GBTClasifier',evaluator.evaluate(logistict, {evaluator.metricName : \"areaUnderROC\"}))\n",
    "print('Curva ROC para GBTClasifier',evaluator.evaluate(GBTt, {evaluator.metricName : \"areaUnderROC\"}))\n",
    "print('Curva ROC para DecisionTreeClassifier',evaluator.evaluate(DTreeC, {evaluator.metricName : \"areaUnderROC\"}))"
   ]
  },
  {
   "cell_type": "markdown",
   "metadata": {},
   "source": [
    "    Identifique cuales son los principales atributos asociados al cierre de un servicio. (2 puntos)"
   ]
  },
  {
   "cell_type": "code",
   "execution_count": 46,
   "metadata": {},
   "outputs": [
    {
     "name": "stdout",
     "output_type": "stream",
     "text": [
      "                     col  importance\n",
      "1                  stars    0.213318\n",
      "0           review_count    0.196300\n",
      "6           food_related    0.164929\n",
      "4    alcohol_consumption    0.105149\n",
      "2      accepts_insurance    0.065419\n",
      "13          kid_friendly    0.057765\n",
      "11                has_tv    0.038459\n",
      "10             free_wifi    0.035328\n",
      "14  expensive_restaurant    0.029024\n",
      "15            loud_place    0.026378\n",
      "16            happy_hour    0.020197\n",
      "7        finance_related    0.019405\n",
      "12          dog_friendly    0.010315\n",
      "8         health_related    0.007885\n",
      "9                smoking    0.005483\n",
      "3       all_ages_allowed    0.003681\n",
      "5       bitcoin_friendly    0.000965"
     ]
    }
   ],
   "source": [
    "feat_importance = pd.DataFrame({'col':feats, 'importance': GBTf.featureImportances.toArray()})\n",
    "feat_importance.sort_values(by='importance', ascending=False)"
   ]
  },
  {
   "cell_type": "markdown",
   "metadata": {},
   "source": [
    "## Conclusiones:\n",
    "Se observa que lo mas importante es la cantidad de estrellas y el review, siendo objetivo estos atributos dependen mucho de los otros, por ejemplo tener tv aporta a las estrellas y todos los demas asi que es rasonable de que sean los mas influyentes para el modelo"
   ]
  },
  {
   "cell_type": "code",
   "execution_count": null,
   "metadata": {},
   "outputs": [],
   "source": []
  }
 ],
 "metadata": {
  "kernelspec": {
   "display_name": "PySpark",
   "language": "",
   "name": "pysparkkernel"
  },
  "language_info": {
   "codemirror_mode": {
    "name": "python",
    "version": 2
   },
   "mimetype": "text/x-python",
   "name": "pyspark",
   "pygments_lexer": "python2"
  }
 },
 "nbformat": 4,
 "nbformat_minor": 2
}
