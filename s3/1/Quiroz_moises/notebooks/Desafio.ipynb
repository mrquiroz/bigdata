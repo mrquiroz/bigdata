{
 "cells": [
  {
   "cell_type": "code",
   "execution_count": 1,
   "metadata": {},
   "outputs": [],
   "source": [
    "import pandas as pd"
   ]
  },
  {
   "cell_type": "code",
   "execution_count": 2,
   "metadata": {},
   "outputs": [],
   "source": [
    "import numpy as np"
   ]
  },
  {
   "cell_type": "code",
   "execution_count": 21,
   "metadata": {},
   "outputs": [],
   "source": [
    "df = pd.read_csv('train_delivery_data.csv', header=None)"
   ]
  },
  {
   "cell_type": "code",
   "execution_count": 4,
   "metadata": {},
   "outputs": [],
   "source": [
    "df.columns = ['deliverer_id', 'delivery_zone', 'monthly_app_usage','subscription_type', 'paid_price','customer_size', 'menu','delay_time']\n"
   ]
  },
  {
   "cell_type": "code",
   "execution_count": 5,
   "metadata": {},
   "outputs": [
    {
     "data": {
      "text/html": [
       "<div>\n",
       "<style scoped>\n",
       "    .dataframe tbody tr th:only-of-type {\n",
       "        vertical-align: middle;\n",
       "    }\n",
       "\n",
       "    .dataframe tbody tr th {\n",
       "        vertical-align: top;\n",
       "    }\n",
       "\n",
       "    .dataframe thead th {\n",
       "        text-align: right;\n",
       "    }\n",
       "</style>\n",
       "<table border=\"1\" class=\"dataframe\">\n",
       "  <thead>\n",
       "    <tr style=\"text-align: right;\">\n",
       "      <th></th>\n",
       "      <th>deliverer_id</th>\n",
       "      <th>delivery_zone</th>\n",
       "      <th>monthly_app_usage</th>\n",
       "      <th>subscription_type</th>\n",
       "      <th>paid_price</th>\n",
       "      <th>customer_size</th>\n",
       "      <th>menu</th>\n",
       "      <th>delay_time</th>\n",
       "    </tr>\n",
       "  </thead>\n",
       "  <tbody>\n",
       "    <tr>\n",
       "      <th>0</th>\n",
       "      <td>0</td>\n",
       "      <td>VI</td>\n",
       "      <td>17</td>\n",
       "      <td>Semestral</td>\n",
       "      <td>16.940991</td>\n",
       "      <td>4</td>\n",
       "      <td>French</td>\n",
       "      <td>11.332126</td>\n",
       "    </tr>\n",
       "    <tr>\n",
       "      <th>1</th>\n",
       "      <td>98</td>\n",
       "      <td>VII</td>\n",
       "      <td>18</td>\n",
       "      <td>Free</td>\n",
       "      <td>39.064177</td>\n",
       "      <td>5</td>\n",
       "      <td>Asian</td>\n",
       "      <td>10.429260</td>\n",
       "    </tr>\n",
       "    <tr>\n",
       "      <th>2</th>\n",
       "      <td>14</td>\n",
       "      <td>IV</td>\n",
       "      <td>16</td>\n",
       "      <td>Trimestral</td>\n",
       "      <td>32.826544</td>\n",
       "      <td>2</td>\n",
       "      <td>Italian</td>\n",
       "      <td>7.900892</td>\n",
       "    </tr>\n",
       "    <tr>\n",
       "      <th>3</th>\n",
       "      <td>72</td>\n",
       "      <td>V</td>\n",
       "      <td>17</td>\n",
       "      <td>Free</td>\n",
       "      <td>7.556762</td>\n",
       "      <td>3</td>\n",
       "      <td>Mexican</td>\n",
       "      <td>14.689806</td>\n",
       "    </tr>\n",
       "    <tr>\n",
       "      <th>4</th>\n",
       "      <td>11</td>\n",
       "      <td>VIII</td>\n",
       "      <td>12</td>\n",
       "      <td>Semestral</td>\n",
       "      <td>34.200684</td>\n",
       "      <td>1</td>\n",
       "      <td>Indian</td>\n",
       "      <td>12.513841</td>\n",
       "    </tr>\n",
       "  </tbody>\n",
       "</table>\n",
       "</div>"
      ],
      "text/plain": [
       "   deliverer_id delivery_zone  monthly_app_usage subscription_type  \\\n",
       "0             0            VI                 17         Semestral   \n",
       "1            98           VII                 18              Free   \n",
       "2            14            IV                 16        Trimestral   \n",
       "3            72             V                 17              Free   \n",
       "4            11          VIII                 12         Semestral   \n",
       "\n",
       "   paid_price  customer_size     menu  delay_time  \n",
       "0   16.940991              4   French   11.332126  \n",
       "1   39.064177              5    Asian   10.429260  \n",
       "2   32.826544              2  Italian    7.900892  \n",
       "3    7.556762              3  Mexican   14.689806  \n",
       "4   34.200684              1   Indian   12.513841  "
      ]
     },
     "execution_count": 5,
     "metadata": {},
     "output_type": "execute_result"
    }
   ],
   "source": [
    "df.head()"
   ]
  },
  {
   "cell_type": "code",
   "execution_count": 6,
   "metadata": {},
   "outputs": [
    {
     "data": {
      "text/plain": [
       "9.87754104229854"
      ]
     },
     "execution_count": 6,
     "metadata": {},
     "output_type": "execute_result"
    }
   ],
   "source": [
    "media_delay = np.mean(df.delay_time)\n",
    "media_delay"
   ]
  },
  {
   "cell_type": "code",
   "execution_count": 7,
   "metadata": {},
   "outputs": [
    {
     "data": {
      "text/html": [
       "<div>\n",
       "<style scoped>\n",
       "    .dataframe tbody tr th:only-of-type {\n",
       "        vertical-align: middle;\n",
       "    }\n",
       "\n",
       "    .dataframe tbody tr th {\n",
       "        vertical-align: top;\n",
       "    }\n",
       "\n",
       "    .dataframe thead th {\n",
       "        text-align: right;\n",
       "    }\n",
       "</style>\n",
       "<table border=\"1\" class=\"dataframe\">\n",
       "  <thead>\n",
       "    <tr style=\"text-align: right;\">\n",
       "      <th></th>\n",
       "      <th>deliverer_id</th>\n",
       "      <th>delivery_zone</th>\n",
       "      <th>monthly_app_usage</th>\n",
       "      <th>subscription_type</th>\n",
       "      <th>paid_price</th>\n",
       "      <th>customer_size</th>\n",
       "      <th>menu</th>\n",
       "      <th>delay_time</th>\n",
       "    </tr>\n",
       "  </thead>\n",
       "  <tbody>\n",
       "    <tr>\n",
       "      <th>0</th>\n",
       "      <td>0</td>\n",
       "      <td>VI</td>\n",
       "      <td>17</td>\n",
       "      <td>Semestral</td>\n",
       "      <td>16.940991</td>\n",
       "      <td>4</td>\n",
       "      <td>French</td>\n",
       "      <td>1</td>\n",
       "    </tr>\n",
       "    <tr>\n",
       "      <th>1</th>\n",
       "      <td>98</td>\n",
       "      <td>VII</td>\n",
       "      <td>18</td>\n",
       "      <td>Free</td>\n",
       "      <td>39.064177</td>\n",
       "      <td>5</td>\n",
       "      <td>Asian</td>\n",
       "      <td>1</td>\n",
       "    </tr>\n",
       "    <tr>\n",
       "      <th>2</th>\n",
       "      <td>14</td>\n",
       "      <td>IV</td>\n",
       "      <td>16</td>\n",
       "      <td>Trimestral</td>\n",
       "      <td>32.826544</td>\n",
       "      <td>2</td>\n",
       "      <td>Italian</td>\n",
       "      <td>0</td>\n",
       "    </tr>\n",
       "    <tr>\n",
       "      <th>3</th>\n",
       "      <td>72</td>\n",
       "      <td>V</td>\n",
       "      <td>17</td>\n",
       "      <td>Free</td>\n",
       "      <td>7.556762</td>\n",
       "      <td>3</td>\n",
       "      <td>Mexican</td>\n",
       "      <td>1</td>\n",
       "    </tr>\n",
       "    <tr>\n",
       "      <th>4</th>\n",
       "      <td>11</td>\n",
       "      <td>VIII</td>\n",
       "      <td>12</td>\n",
       "      <td>Semestral</td>\n",
       "      <td>34.200684</td>\n",
       "      <td>1</td>\n",
       "      <td>Indian</td>\n",
       "      <td>1</td>\n",
       "    </tr>\n",
       "  </tbody>\n",
       "</table>\n",
       "</div>"
      ],
      "text/plain": [
       "   deliverer_id delivery_zone  monthly_app_usage subscription_type  \\\n",
       "0             0            VI                 17         Semestral   \n",
       "1            98           VII                 18              Free   \n",
       "2            14            IV                 16        Trimestral   \n",
       "3            72             V                 17              Free   \n",
       "4            11          VIII                 12         Semestral   \n",
       "\n",
       "   paid_price  customer_size     menu  delay_time  \n",
       "0   16.940991              4   French           1  \n",
       "1   39.064177              5    Asian           1  \n",
       "2   32.826544              2  Italian           0  \n",
       "3    7.556762              3  Mexican           1  \n",
       "4   34.200684              1   Indian           1  "
      ]
     },
     "execution_count": 7,
     "metadata": {},
     "output_type": "execute_result"
    }
   ],
   "source": [
    "df['delay_time'] = np.where(df['delay_time']>media_delay, 1, 0)\n",
    "df.head()"
   ]
  },
  {
   "cell_type": "code",
   "execution_count": 8,
   "metadata": {},
   "outputs": [],
   "source": [
    "df = pd.get_dummies(df,columns=['subscription_type','delivery_zone','menu'],drop_first=True)"
   ]
  },
  {
   "cell_type": "code",
   "execution_count": 9,
   "metadata": {},
   "outputs": [
    {
     "data": {
      "text/html": [
       "<div>\n",
       "<style scoped>\n",
       "    .dataframe tbody tr th:only-of-type {\n",
       "        vertical-align: middle;\n",
       "    }\n",
       "\n",
       "    .dataframe tbody tr th {\n",
       "        vertical-align: top;\n",
       "    }\n",
       "\n",
       "    .dataframe thead th {\n",
       "        text-align: right;\n",
       "    }\n",
       "</style>\n",
       "<table border=\"1\" class=\"dataframe\">\n",
       "  <thead>\n",
       "    <tr style=\"text-align: right;\">\n",
       "      <th></th>\n",
       "      <th>deliverer_id</th>\n",
       "      <th>monthly_app_usage</th>\n",
       "      <th>paid_price</th>\n",
       "      <th>customer_size</th>\n",
       "      <th>delay_time</th>\n",
       "      <th>subscription_type_Monthly</th>\n",
       "      <th>subscription_type_Prepaid</th>\n",
       "      <th>subscription_type_Semestral</th>\n",
       "      <th>subscription_type_Trimestral</th>\n",
       "      <th>subscription_type_Yearly</th>\n",
       "      <th>...</th>\n",
       "      <th>delivery_zone_IV</th>\n",
       "      <th>delivery_zone_V</th>\n",
       "      <th>delivery_zone_VI</th>\n",
       "      <th>delivery_zone_VII</th>\n",
       "      <th>delivery_zone_VIII</th>\n",
       "      <th>menu_French</th>\n",
       "      <th>menu_Indian</th>\n",
       "      <th>menu_Italian</th>\n",
       "      <th>menu_Japanese</th>\n",
       "      <th>menu_Mexican</th>\n",
       "    </tr>\n",
       "  </thead>\n",
       "  <tbody>\n",
       "    <tr>\n",
       "      <th>0</th>\n",
       "      <td>0</td>\n",
       "      <td>17</td>\n",
       "      <td>16.940991</td>\n",
       "      <td>4</td>\n",
       "      <td>1</td>\n",
       "      <td>0</td>\n",
       "      <td>0</td>\n",
       "      <td>1</td>\n",
       "      <td>0</td>\n",
       "      <td>0</td>\n",
       "      <td>...</td>\n",
       "      <td>0</td>\n",
       "      <td>0</td>\n",
       "      <td>1</td>\n",
       "      <td>0</td>\n",
       "      <td>0</td>\n",
       "      <td>1</td>\n",
       "      <td>0</td>\n",
       "      <td>0</td>\n",
       "      <td>0</td>\n",
       "      <td>0</td>\n",
       "    </tr>\n",
       "    <tr>\n",
       "      <th>1</th>\n",
       "      <td>98</td>\n",
       "      <td>18</td>\n",
       "      <td>39.064177</td>\n",
       "      <td>5</td>\n",
       "      <td>1</td>\n",
       "      <td>0</td>\n",
       "      <td>0</td>\n",
       "      <td>0</td>\n",
       "      <td>0</td>\n",
       "      <td>0</td>\n",
       "      <td>...</td>\n",
       "      <td>0</td>\n",
       "      <td>0</td>\n",
       "      <td>0</td>\n",
       "      <td>1</td>\n",
       "      <td>0</td>\n",
       "      <td>0</td>\n",
       "      <td>0</td>\n",
       "      <td>0</td>\n",
       "      <td>0</td>\n",
       "      <td>0</td>\n",
       "    </tr>\n",
       "    <tr>\n",
       "      <th>2</th>\n",
       "      <td>14</td>\n",
       "      <td>16</td>\n",
       "      <td>32.826544</td>\n",
       "      <td>2</td>\n",
       "      <td>0</td>\n",
       "      <td>0</td>\n",
       "      <td>0</td>\n",
       "      <td>0</td>\n",
       "      <td>1</td>\n",
       "      <td>0</td>\n",
       "      <td>...</td>\n",
       "      <td>1</td>\n",
       "      <td>0</td>\n",
       "      <td>0</td>\n",
       "      <td>0</td>\n",
       "      <td>0</td>\n",
       "      <td>0</td>\n",
       "      <td>0</td>\n",
       "      <td>1</td>\n",
       "      <td>0</td>\n",
       "      <td>0</td>\n",
       "    </tr>\n",
       "    <tr>\n",
       "      <th>3</th>\n",
       "      <td>72</td>\n",
       "      <td>17</td>\n",
       "      <td>7.556762</td>\n",
       "      <td>3</td>\n",
       "      <td>1</td>\n",
       "      <td>0</td>\n",
       "      <td>0</td>\n",
       "      <td>0</td>\n",
       "      <td>0</td>\n",
       "      <td>0</td>\n",
       "      <td>...</td>\n",
       "      <td>0</td>\n",
       "      <td>1</td>\n",
       "      <td>0</td>\n",
       "      <td>0</td>\n",
       "      <td>0</td>\n",
       "      <td>0</td>\n",
       "      <td>0</td>\n",
       "      <td>0</td>\n",
       "      <td>0</td>\n",
       "      <td>1</td>\n",
       "    </tr>\n",
       "    <tr>\n",
       "      <th>4</th>\n",
       "      <td>11</td>\n",
       "      <td>12</td>\n",
       "      <td>34.200684</td>\n",
       "      <td>1</td>\n",
       "      <td>1</td>\n",
       "      <td>0</td>\n",
       "      <td>0</td>\n",
       "      <td>1</td>\n",
       "      <td>0</td>\n",
       "      <td>0</td>\n",
       "      <td>...</td>\n",
       "      <td>0</td>\n",
       "      <td>0</td>\n",
       "      <td>0</td>\n",
       "      <td>0</td>\n",
       "      <td>1</td>\n",
       "      <td>0</td>\n",
       "      <td>1</td>\n",
       "      <td>0</td>\n",
       "      <td>0</td>\n",
       "      <td>0</td>\n",
       "    </tr>\n",
       "  </tbody>\n",
       "</table>\n",
       "<p>5 rows × 22 columns</p>\n",
       "</div>"
      ],
      "text/plain": [
       "   deliverer_id  monthly_app_usage  paid_price  customer_size  delay_time  \\\n",
       "0             0                 17   16.940991              4           1   \n",
       "1            98                 18   39.064177              5           1   \n",
       "2            14                 16   32.826544              2           0   \n",
       "3            72                 17    7.556762              3           1   \n",
       "4            11                 12   34.200684              1           1   \n",
       "\n",
       "   subscription_type_Monthly  subscription_type_Prepaid  \\\n",
       "0                          0                          0   \n",
       "1                          0                          0   \n",
       "2                          0                          0   \n",
       "3                          0                          0   \n",
       "4                          0                          0   \n",
       "\n",
       "   subscription_type_Semestral  subscription_type_Trimestral  \\\n",
       "0                            1                             0   \n",
       "1                            0                             0   \n",
       "2                            0                             1   \n",
       "3                            0                             0   \n",
       "4                            1                             0   \n",
       "\n",
       "   subscription_type_Yearly  ...  delivery_zone_IV  delivery_zone_V  \\\n",
       "0                         0  ...                 0                0   \n",
       "1                         0  ...                 0                0   \n",
       "2                         0  ...                 1                0   \n",
       "3                         0  ...                 0                1   \n",
       "4                         0  ...                 0                0   \n",
       "\n",
       "   delivery_zone_VI  delivery_zone_VII  delivery_zone_VIII  menu_French  \\\n",
       "0                 1                  0                   0            1   \n",
       "1                 0                  1                   0            0   \n",
       "2                 0                  0                   0            0   \n",
       "3                 0                  0                   0            0   \n",
       "4                 0                  0                   1            0   \n",
       "\n",
       "   menu_Indian  menu_Italian  menu_Japanese  menu_Mexican  \n",
       "0            0             0              0             0  \n",
       "1            0             0              0             0  \n",
       "2            0             1              0             0  \n",
       "3            0             0              0             1  \n",
       "4            1             0              0             0  \n",
       "\n",
       "[5 rows x 22 columns]"
      ]
     },
     "execution_count": 9,
     "metadata": {},
     "output_type": "execute_result"
    }
   ],
   "source": [
    "df.head()"
   ]
  },
  {
   "cell_type": "code",
   "execution_count": 10,
   "metadata": {},
   "outputs": [],
   "source": [
    "from sklearn.model_selection import train_test_split"
   ]
  },
  {
   "cell_type": "code",
   "execution_count": 11,
   "metadata": {},
   "outputs": [],
   "source": [
    "y = df.pop('delay_time')\n"
   ]
  },
  {
   "cell_type": "code",
   "execution_count": 12,
   "metadata": {},
   "outputs": [],
   "source": [
    "X_train, X_test, y_train, y_test = train_test_split(df, y, test_size=0.33, random_state=11238)"
   ]
  },
  {
   "cell_type": "code",
   "execution_count": 13,
   "metadata": {},
   "outputs": [],
   "source": [
    "from sklearn.linear_model import LogisticRegression\n",
    "from sklearn.tree import DecisionTreeClassifier\n",
    "from sklearn.ensemble import RandomForestClassifier,GradientBoostingClassifier\n",
    "from sklearn.naive_bayes import BernoulliNB"
   ]
  },
  {
   "cell_type": "code",
   "execution_count": 14,
   "metadata": {},
   "outputs": [
    {
     "name": "stderr",
     "output_type": "stream",
     "text": [
      "/Users/moisesquiroz/anaconda3/lib/python3.6/site-packages/sklearn/linear_model/logistic.py:432: FutureWarning: Default solver will be changed to 'lbfgs' in 0.22. Specify a solver to silence this warning.\n",
      "  FutureWarning)\n",
      "/Users/moisesquiroz/anaconda3/lib/python3.6/site-packages/sklearn/ensemble/forest.py:245: FutureWarning: The default value of n_estimators will change from 10 in version 0.20 to 100 in 0.22.\n",
      "  \"10 in version 0.20 to 100 in 0.22.\", FutureWarning)\n"
     ]
    }
   ],
   "source": [
    "logi = LogisticRegression().fit(X_train, y_train)\n",
    "Ber = BernoulliNB().fit(X_train, y_train)\n",
    "Desi = DecisionTreeClassifier().fit(X_train, y_train)\n",
    "rand = RandomForestClassifier().fit(X_train, y_train)"
   ]
  },
  {
   "cell_type": "code",
   "execution_count": 15,
   "metadata": {},
   "outputs": [],
   "source": [
    "from sklearn.metrics import classification_report"
   ]
  },
  {
   "cell_type": "code",
   "execution_count": null,
   "metadata": {},
   "outputs": [],
   "source": []
  },
  {
   "cell_type": "code",
   "execution_count": 16,
   "metadata": {},
   "outputs": [
    {
     "name": "stdout",
     "output_type": "stream",
     "text": [
      "modelo: LogisticRegression\n",
      "              precision    recall  f1-score   support\n",
      "\n",
      "           0       0.46      0.56      0.51       167\n",
      "           1       0.42      0.32      0.36       163\n",
      "\n",
      "    accuracy                           0.44       330\n",
      "   macro avg       0.44      0.44      0.43       330\n",
      "weighted avg       0.44      0.44      0.43       330\n",
      "\n",
      "modelo: BernoulliNB\n",
      "              precision    recall  f1-score   support\n",
      "\n",
      "           0       0.51      0.60      0.55       167\n",
      "           1       0.50      0.42      0.46       163\n",
      "\n",
      "    accuracy                           0.51       330\n",
      "   macro avg       0.51      0.51      0.50       330\n",
      "weighted avg       0.51      0.51      0.51       330\n",
      "\n",
      "modelo: DecisionTreeClassifier\n",
      "              precision    recall  f1-score   support\n",
      "\n",
      "           0       0.52      0.44      0.47       167\n",
      "           1       0.50      0.58      0.54       163\n",
      "\n",
      "    accuracy                           0.51       330\n",
      "   macro avg       0.51      0.51      0.51       330\n",
      "weighted avg       0.51      0.51      0.51       330\n",
      "\n",
      "modelo: RandomForestClassifier\n",
      "              precision    recall  f1-score   support\n",
      "\n",
      "           0       0.48      0.57      0.52       167\n",
      "           1       0.46      0.37      0.41       163\n",
      "\n",
      "    accuracy                           0.47       330\n",
      "   macro avg       0.47      0.47      0.47       330\n",
      "weighted avg       0.47      0.47      0.47       330\n",
      "\n"
     ]
    }
   ],
   "source": [
    "modelos = [logi,Ber,Desi,rand]\n",
    "text_file = open(\"candidate_models.txt\", \"w\")\n",
    "for mo in modelos:\n",
    "    text_file.write(\"modelo: \"+type(mo).__name__+'\\n')\n",
    "    print(\"modelo:\",type(mo).__name__)\n",
    "    text_file.write(classification_report(y_test,mo.predict(X_test)))\n",
    "    print(classification_report(y_test,mo.predict(X_test)))\n",
    "text_file.close()"
   ]
  },
  {
   "cell_type": "code",
   "execution_count": 17,
   "metadata": {},
   "outputs": [
    {
     "name": "stderr",
     "output_type": "stream",
     "text": [
      "/Users/moisesquiroz/anaconda3/lib/python3.6/site-packages/sklearn/externals/joblib/__init__.py:15: DeprecationWarning: sklearn.externals.joblib is deprecated in 0.21 and will be removed in 0.23. Please import this functionality directly from joblib, which can be installed with: pip install joblib. If this warning is raised when loading pickled models, you may need to re-serialize those models with scikit-learn 0.21+.\n",
      "  warnings.warn(msg, category=DeprecationWarning)\n"
     ]
    }
   ],
   "source": [
    "from sklearn.externals import joblib"
   ]
  },
  {
   "cell_type": "code",
   "execution_count": 18,
   "metadata": {},
   "outputs": [
    {
     "name": "stdout",
     "output_type": "stream",
     "text": [
      "mejor modelo DesionTree\n"
     ]
    }
   ],
   "source": [
    "filename = 'DecisionTreeClassifier.pkl'\n",
    "joblib.dump(Desi, filename)\n",
    "print(\"mejor modelo DesionTree\")"
   ]
  },
  {
   "cell_type": "code",
   "execution_count": null,
   "metadata": {},
   "outputs": [],
   "source": [
    "joblib.load()"
   ]
  }
 ],
 "metadata": {
  "kernelspec": {
   "display_name": "Python 3",
   "language": "python",
   "name": "python3"
  },
  "language_info": {
   "codemirror_mode": {
    "name": "ipython",
    "version": 3
   },
   "file_extension": ".py",
   "mimetype": "text/x-python",
   "name": "python",
   "nbconvert_exporter": "python",
   "pygments_lexer": "ipython3",
   "version": "3.6.8"
  }
 },
 "nbformat": 4,
 "nbformat_minor": 2
}
