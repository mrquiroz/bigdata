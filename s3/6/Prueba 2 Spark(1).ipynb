{
 "cells": [
  {
   "cell_type": "code",
   "execution_count": 1,
   "metadata": {},
   "outputs": [
    {
     "name": "stdout",
     "output_type": "stream",
     "text": [
      "Starting Spark application\n"
     ]
    },
    {
     "data": {
      "text/html": [
       "<table>\n",
       "<tr><th>ID</th><th>YARN Application ID</th><th>Kind</th><th>State</th><th>Spark UI</th><th>Driver log</th><th>Current session?</th></tr><tr><td>1</td><td>application_1576813585998_0002</td><td>pyspark</td><td>idle</td><td><a target=\"_blank\" href=\"http://ip-172-31-45-182.ec2.internal:20888/proxy/application_1576813585998_0002/\">Link</a></td><td><a target=\"_blank\" href=\"http://ip-172-31-36-49.ec2.internal:8042/node/containerlogs/container_1576813585998_0002_01_000001/livy\">Link</a></td><td>✔</td></tr></table>"
      ],
      "text/plain": [
       "<IPython.core.display.HTML object>"
      ]
     },
     "metadata": {},
     "output_type": "display_data"
    },
    {
     "name": "stdout",
     "output_type": "stream",
     "text": [
      "SparkSession available as 'spark'.\n"
     ]
    }
   ],
   "source": [
    "userdf = spark.read.json(\"s3://bigdata-desafio/yelp-data/user.json\")"
   ]
  },
  {
   "cell_type": "code",
   "execution_count": 2,
   "metadata": {},
   "outputs": [
    {
     "name": "stdout",
     "output_type": "stream",
     "text": [
      "root\n",
      " |-- average_stars: double (nullable = true)\n",
      " |-- compliment_cool: long (nullable = true)\n",
      " |-- compliment_cute: long (nullable = true)\n",
      " |-- compliment_funny: long (nullable = true)\n",
      " |-- compliment_hot: long (nullable = true)\n",
      " |-- compliment_list: long (nullable = true)\n",
      " |-- compliment_more: long (nullable = true)\n",
      " |-- compliment_note: long (nullable = true)\n",
      " |-- compliment_photos: long (nullable = true)\n",
      " |-- compliment_plain: long (nullable = true)\n",
      " |-- compliment_profile: long (nullable = true)\n",
      " |-- compliment_writer: long (nullable = true)\n",
      " |-- cool: long (nullable = true)\n",
      " |-- elite: string (nullable = true)\n",
      " |-- fans: long (nullable = true)\n",
      " |-- friends: string (nullable = true)\n",
      " |-- funny: long (nullable = true)\n",
      " |-- name: string (nullable = true)\n",
      " |-- review_count: long (nullable = true)\n",
      " |-- useful: long (nullable = true)\n",
      " |-- user_id: string (nullable = true)\n",
      " |-- yelping_since: string (nullable = true)"
     ]
    }
   ],
   "source": [
    "userdf.printSchema()"
   ]
  },
  {
   "cell_type": "code",
   "execution_count": 3,
   "metadata": {},
   "outputs": [],
   "source": [
    "from pyspark.sql.types import StructType, StructField, StringType, FloatType, IntegerType, DoubleType, LongType"
   ]
  },
  {
   "cell_type": "code",
   "execution_count": 4,
   "metadata": {},
   "outputs": [],
   "source": [
    "schema = StructType([\n",
    "    StructField('average_stars', DoubleType(), True),\n",
    "    StructField('compliment_cool', LongType(), True),\n",
    "    StructField('compliment_cute', LongType(), nullable= True),\n",
    "    StructField('compliment_funny', LongType(), nullable= True),\n",
    "    StructField('compliment_hot', LongType(), nullable= True),\n",
    "    StructField('compliment_list', LongType(), nullable= True),\n",
    "    StructField('compliment_more', LongType(), nullable= True),\n",
    "    StructField('compliment_note', LongType(), nullable= True),\n",
    "    StructField('compliment_photos', LongType(), nullable= True),\n",
    "    StructField('compliment_plain', LongType(), nullable= True),\n",
    "    StructField('compliment_profile', LongType(), nullable= True),\n",
    "    StructField('compliment_writer', LongType(), nullable= True),\n",
    "    StructField('cool', LongType(), nullable= True),\n",
    "    StructField('elite', StringType(), nullable= True),\n",
    "    StructField('fans', LongType(), nullable= True),\n",
    "    StructField('friends', StringType(), nullable= True),\n",
    "    StructField('funny',LongType(), nullable= True),\n",
    "    StructField('name', StringType(), nullable= True),\n",
    "    StructField('review_count', LongType(), nullable= True),\n",
    "    StructField('useful', LongType(), nullable= True),\n",
    "    StructField('user_id', StringType(), nullable= True),\n",
    "    StructField('yelping_since', StringType(), nullable= True),\n",
    "    StructField('molesto', IntegerType(), nullable= True),\n",
    "    StructField('friend_count', LongType(), nullable= True),\n",
    "    StructField('elite_count', LongType(), nullable= True)\n",
    "])"
   ]
  },
  {
   "cell_type": "code",
   "execution_count": 5,
   "metadata": {},
   "outputs": [],
   "source": [
    "userdf = spark.read.json(\"s3://bigdata-desafio/yelp-data/user.json\", schema=schema)"
   ]
  },
  {
   "cell_type": "code",
   "execution_count": 6,
   "metadata": {},
   "outputs": [
    {
     "name": "stdout",
     "output_type": "stream",
     "text": [
      "root\n",
      " |-- average_stars: double (nullable = true)\n",
      " |-- compliment_cool: long (nullable = true)\n",
      " |-- compliment_cute: long (nullable = true)\n",
      " |-- compliment_funny: long (nullable = true)\n",
      " |-- compliment_hot: long (nullable = true)\n",
      " |-- compliment_list: long (nullable = true)\n",
      " |-- compliment_more: long (nullable = true)\n",
      " |-- compliment_note: long (nullable = true)\n",
      " |-- compliment_photos: long (nullable = true)\n",
      " |-- compliment_plain: long (nullable = true)\n",
      " |-- compliment_profile: long (nullable = true)\n",
      " |-- compliment_writer: long (nullable = true)\n",
      " |-- cool: long (nullable = true)\n",
      " |-- elite: string (nullable = true)\n",
      " |-- fans: long (nullable = true)\n",
      " |-- friends: string (nullable = true)\n",
      " |-- funny: long (nullable = true)\n",
      " |-- name: string (nullable = true)\n",
      " |-- review_count: long (nullable = true)\n",
      " |-- useful: long (nullable = true)\n",
      " |-- user_id: string (nullable = true)\n",
      " |-- yelping_since: string (nullable = true)\n",
      " |-- molesto: integer (nullable = true)\n",
      " |-- friend_count: long (nullable = true)\n",
      " |-- elite_count: long (nullable = true)"
     ]
    }
   ],
   "source": [
    "userdf.printSchema()"
   ]
  },
  {
   "cell_type": "code",
   "execution_count": 7,
   "metadata": {},
   "outputs": [
    {
     "name": "stdout",
     "output_type": "stream",
     "text": [
      "+-------------+---------------+---------------+----------------+--------------+---------------+---------------+---------------+-----------------+----------------+------------------+-----------------+----+-------------------+----+--------------------+-----+------+------------+------+--------------------+-------------------+-------+------------+-----------+\n",
      "|average_stars|compliment_cool|compliment_cute|compliment_funny|compliment_hot|compliment_list|compliment_more|compliment_note|compliment_photos|compliment_plain|compliment_profile|compliment_writer|cool|              elite|fans|             friends|funny|  name|review_count|useful|             user_id|      yelping_since|molesto|friend_count|elite_count|\n",
      "+-------------+---------------+---------------+----------------+--------------+---------------+---------------+---------------+-----------------+----------------+------------------+-----------------+----+-------------------+----+--------------------+-----+------+------------+------+--------------------+-------------------+-------+------------+-----------+\n",
      "|         4.03|              1|              0|               1|             2|              0|              0|              1|                0|               1|                 0|                2|  25|     2015,2016,2017|   5|c78V-rj8NQcQjOI8K...|   17|Rashmi|          95|    84|l6BmjZMeQD3rDxWUb...|2013-10-08 23:11:33|   null|        null|       null|\n",
      "|         3.63|              1|              0|               1|             1|              0|              0|              0|                0|               0|                 0|                0|  16|                   |   4|kEBTgDvFX754S68Fl...|   22| Jenna|          33|    48|4XChL029mKr5hydo7...|2013-02-21 22:29:06|   null|        null|       null|\n",
      "|         3.71|              0|              0|               0|             0|              0|              0|              1|                0|               0|                 0|                0|  10|                   |   0|4N-HU_T32hLENLnts...|    8| David|          16|    28|bc8C_eETBWL0olvFS...|2013-10-04 00:16:10|   null|        null|       null|\n",
      "|         4.85|              0|              0|               0|             1|              0|              0|              0|                0|               2|                 0|                1|  14|                   |   5|RZ6wS38wnlXyj-OOd...|    4|Angela|          17|    30|dD0gZpBctWGdWo9Wl...|2014-05-22 15:57:30|   null|        null|       null|\n",
      "|         4.08|             80|              0|              80|            28|              1|              1|             16|                5|              57|                 0|               25| 665|2015,2016,2017,2018|  39|mbwrZ-RS76V1HoJ0b...|  279| Nancy|         361|  1114|MM4RJAeH6yuaN8oZD...|2013-10-23 07:02:50|   null|        null|       null|\n",
      "+-------------+---------------+---------------+----------------+--------------+---------------+---------------+---------------+-----------------+----------------+------------------+-----------------+----+-------------------+----+--------------------+-----+------+------------+------+--------------------+-------------------+-------+------------+-----------+\n",
      "only showing top 5 rows"
     ]
    }
   ],
   "source": [
    "userdf.show(5)"
   ]
  },
  {
   "cell_type": "code",
   "execution_count": 8,
   "metadata": {},
   "outputs": [
    {
     "name": "stdout",
     "output_type": "stream",
     "text": [
      "[Row(average_stars=4.03, compliment_cool=1, compliment_cute=0, compliment_funny=1, compliment_hot=2, compliment_list=0, compliment_more=0, compliment_note=1, compliment_photos=0, compliment_plain=1, compliment_profile=0, compliment_writer=2, cool=25, elite=u'2015,2016,2017', fans=5, friends=u'c78V-rj8NQcQjOI8KP3UEA, alRMgPcngYSCJ5naFRBz5g, ajcnq75Z5xxkvUSmmJ1bCg, BSMAmp2-wMzCkhTfq9ToNg, jka10dk9ygX76hJG0gfPZQ, dut0e4xvme7QSlesOycHQA, l4l5lBnK356zBua7B-UJ6Q, 0HicMOOs-M_gl2eO-zES4Q, _uI57wL2fLyftrcSFpfSGQ, T4_Qd0YWbC3co6WSMw4vxg, iBRoLWPtWmsI1kdbE9ORSA, xjrUcid6Ymq0DoTJELkYyw, GqadWVzJ6At-vgLzK_SKgA, DvB13VJBmSnbFXBVBsKmDA, vRP9nQkYTeNioDjtxZlVhg, gT0A1iN3eeQ8EMAjJhwQtw, 6yCWjFPtp_AD4x93WAwmnw, 1dKzpNnib-JlViKv8_Gt5g, 3Bv4_JxHXq-gVLOxYMQX0Q, ikQyfu1iViYh8T0us7wiFQ, f1GGltNaB7K5DR1jf3dOmg, tgeFUChlh7v8bZFVl2-hjQ, -9-9oyXlqsMG2he5xIWdLQ, Adj9fBPVJad8vSs-mIP7gw, Ce49RY8CKXVsTifxRYFTsw, M1_7TLi8CbdA89nFLlH4iw, wFsNv-hqbW_F5-IRqfBN6g, 0Q1L7zXHocaUZ2gsG2XJeg, cBFgmOCBdhYa0xoFEAzp_g, VrD_AgiFvzqtlR15vir3SQ, cpE-7HK514Sr5vpSen9CEQ, F1UYelhPFB-zIKlt0ygIZg, CQAL1hvsLMCzuJf9AglsXw, 1KnY1wr15WfEWIRLB9IS6g, QWFQ-kXBiLbid-lm5Jr3dQ, nymT8liFugCrM16lTy0ZfQ, qj69bdd885heDvUPCyHd2Q, DySCZZcgbdrlHgEovk5y9w, lZMJIDuvhT9Dy4KyquLXyA, b_9Gn7wS93AoPZPR0dIJqQ, N07g1IaLh0_6sUjtiSRe4w, YdfPX_7DxSnKvvdCJ57iOw, 8GYryZPD22W7WgQ8kvMkEQ, cpQmAgOWatghp14h1pn1dQ, EnchhymLYMqftCRjqvVWmw, -JdfKhFktE7Zs9BMDFcPeQ, uWhC9eof98zPkvsalgaqJw, eyTlNDDaiPatfe6mheIZ0g, VfHq0o73aKsODvfAhwAQtg, kvD5tICngLAaQDujSFWupA, dXacwEhqi9-3_XT6JeH0Og, NfU0zDaTMEQ4-X9dbQWd9A, cTHWBdjSKbctSUIvWsgFxw, 3IEtCbSDF5t7RkZ20T6s9A, HJJXTrp6UybYyPdQ9DA0JA, JaXogQFVjzGRAeBvzamBHg, NUonfKkjS1iVqnNITtgXZg, D5vaJAYp0sOrGfsj9qvsMA, H27Ecbwwu4FGAlLgICourw, S8HrLmMiE4u8FWYWkNEoTw, Io36Y3xWQcIX9rYvPcYfXQ, J5mcqh8KxYpqjaLBNlwcig, -nTB3_08g06fD0GT8AtDBQ, wMpFA46lihK8oFns_5p65A, RZGFJHeomGJCWp3xcL3ejA, ZoQSzzXoSP1RxOD4Amv9Bg, qzM0EB0SkuuGIFv0adjQAQ, HuM6vvuveken-fPZ7d4olA, H3oukHpGpn9n_mJwSDSQyQ, PkmsJsQ8FIZe8eh8c_u96g, wSByVbwME4MzgkJaFyfvNg, YEVqknoDmrHAoUbHX0nPnA, li3vsK1XAPmeJYAUTYflHQ, MKc8yXi0glbPYt0Qb4PECw, fQPH6W9fksi27gkuUPnFaA, amrCMrDsoRetYFg2kwwdFA, 84dVQ6n6r2ezNaTuc7RkKA, yW9QjWY0olv5-uRKv3t_Kw, 5XJDj7c3eoidfQ3jW18Zgw, txSc6a6pIDctvwyBeu7Aqg, HFbbDCyyqP9xPkUlcxeIdg, hTUv5oh2do6Z3OppPuuiJA, gSqonG9J4fNM-fl_fE71AA, pd9mgTFpBTg5F9x-MsczNg, j3VE22V2GcHiH8UZxfFLfw, NYXlMW-T-3V4Jqr4r-i0Wg, btxgAZedxX8IWhMifA7Xkg, -Hp5mPLiRJNFnyeX5Ygzag, P6-DwVg6-t2JuQwIUEk0iQ, OI2TvxYvZrAodBG_RF53Xw, bHxf_VPKmZur1Bier-6A2A, Et_Sb39cVm81_Xe9HDM8ZQ, 5HwGl2UyYbaRq8aD6YC-fA, ZK228WMcCKLo5thcjD7rdw, iTf8wojwfm0NOi7dOiz3Nw, btYRxQYNJjpecflNHtFH0A, Kgo42FzpW_dXFgDKoewbtg, MNk_1Q_dqOY3xxHZKeO8VQ, AlwD504T9k0m5lkg3k5g6Q', funny=17, name=u'Rashmi', review_count=95, useful=84, user_id=u'l6BmjZMeQD3rDxWUbiAiow', yelping_since=u'2013-10-08 23:11:33', molesto=None, friend_count=None, elite_count=None)]"
     ]
    }
   ],
   "source": [
    "userdf.take(1)"
   ]
  },
  {
   "cell_type": "code",
   "execution_count": 9,
   "metadata": {},
   "outputs": [
    {
     "name": "stdout",
     "output_type": "stream",
     "text": [
      "+-------------+---------------+---------------+----------------+--------------+---------------+---------------+---------------+-----------------+----------------+------------------+-----------------+----+--------------------+----+--------------------+-----+---------+------------+------+--------------------+-------------------+-------+------------+-----------+\n",
      "|average_stars|compliment_cool|compliment_cute|compliment_funny|compliment_hot|compliment_list|compliment_more|compliment_note|compliment_photos|compliment_plain|compliment_profile|compliment_writer|cool|               elite|fans|             friends|funny|     name|review_count|useful|             user_id|      yelping_since|molesto|friend_count|elite_count|\n",
      "+-------------+---------------+---------------+----------------+--------------+---------------+---------------+---------------+-----------------+----------------+------------------+-----------------+----+--------------------+----+--------------------+-----+---------+------------+------+--------------------+-------------------+-------+------------+-----------+\n",
      "|         4.03|              1|              0|               1|             2|              0|              0|              1|                0|               1|                 0|                2|  25|      2015,2016,2017|   5|c78V-rj8NQcQjOI8K...|   17|   Rashmi|          95|    84|l6BmjZMeQD3rDxWUb...|2013-10-08 23:11:33|   null|        null|       null|\n",
      "|         3.63|              1|              0|               1|             1|              0|              0|              0|                0|               0|                 0|                0|  16|                    |   4|kEBTgDvFX754S68Fl...|   22|    Jenna|          33|    48|4XChL029mKr5hydo7...|2013-02-21 22:29:06|   null|        null|       null|\n",
      "|         3.71|              0|              0|               0|             0|              0|              0|              1|                0|               0|                 0|                0|  10|                    |   0|4N-HU_T32hLENLnts...|    8|    David|          16|    28|bc8C_eETBWL0olvFS...|2013-10-04 00:16:10|   null|        null|       null|\n",
      "|         4.85|              0|              0|               0|             1|              0|              0|              0|                0|               2|                 0|                1|  14|                    |   5|RZ6wS38wnlXyj-OOd...|    4|   Angela|          17|    30|dD0gZpBctWGdWo9Wl...|2014-05-22 15:57:30|   null|        null|       null|\n",
      "|         4.33|              0|              0|               0|             0|              0|              0|              0|                0|               0|                 0|                0|   1|                    |   0|d1z7Xc9RG5TVBkdUP...|    0|    Andre|           6|     1|KGuqerdeNhxzXZEyB...|2014-06-07 01:50:09|   null|        null|       null|\n",
      "|          3.6|              5|              0|               5|             1|              0|              0|              4|                3|              11|                 0|                4|  34|           2017,2018|   9|CfGCj80EdA-xS-mTW...|   26|    Peter|          47|    57|gvXtMj3XuPr0xHjgm...|2014-01-05 20:45:54|   null|        null|       null|\n",
      "|         3.48|              1|              0|               1|             0|              0|              1|              2|                0|               2|                 0|                0|  22|                    |   3|tYyOnNs7tBfqAT9IC...|   16|     Edie|          77|    71|_DaFdmq0gtXf1spn1...|2009-10-26 01:00:40|   null|        null|       null|\n",
      "|          3.5|              0|              0|               0|             0|              0|              0|              0|                0|               1|                 0|                1|   3|                    |   2|Dg8_xYNvjVC6KGNRc...|    4|Gabriella|          11|    12|FTWKZZeLb_0ZJRXQg...|2012-11-13 00:23:51|   null|        null|       null|\n",
      "|         3.95|              4|              0|               4|             0|              0|              1|              2|                1|               1|                 0|                1|  12|                    |   0|_5p_nO7OczVP7czj_...|   17|    Emily|          22|    31|US0VOSMFs9U0Nkl5V...|2010-01-23 04:55:04|   null|        null|       null|\n",
      "|          4.5|              0|              0|               0|             3|              0|              0|              0|                1|               1|                 0|                0|   5|                    |   1|xVv_pVxAcOfY_xBjB...|    6|  Richard|           9|    11|iPJAN6rJHv92WE2h9...|2013-09-30 23:58:16|   null|        null|       null|\n",
      "|          4.1|              1|              0|               1|             2|              0|              1|              2|                1|               1|                 0|                2|  34|                    |   4|9ljCrn-qgfAMRS5wL...|   22|    Cyndi|          57|    72|CXi7I5J-ItLGJNyKP...|2011-06-27 05:24:10|   null|        null|       null|\n",
      "|          3.1|              0|              0|               0|             0|              0|              0|              0|                0|               0|                 0|                0|   2|                    |   0|a4kpoV3nrxRPUHR6z...|    3|    Jamey|          44|    16|hQ98T_hy1CoSWw55z...|2015-11-02 23:41:13|   null|        null|       null|\n",
      "|         3.57|             13|              2|              13|            14|              0|              4|              1|                2|              10|                 1|               12|  33|                    |   7|Tk2DscrRA0sXPXKb0...|   39|    Erica|          48|   108|t8Whyn2ZWS34TxHsr...|2007-10-05 16:05:28|   null|        null|       null|\n",
      "|         4.44|              0|              0|               0|             0|              0|              0|              0|                0|               0|                 0|                0|   3|                    |   0|V1KtmSHupcPCjDsDD...|    0|Christene|           9|     5|nRagjGVuSALgQ4KfG...|2013-05-14 20:57:57|   null|        null|       null|\n",
      "|          2.0|              0|              0|               0|             0|              0|              0|              0|                0|               0|                 0|                0|   3|                    |   1|FDuoN8cpcI8y2DBIU...|    1|    Amber|           4|    10|a643pisN3QSjofk1J...|2014-08-23 03:49:18|   null|        null|       null|\n",
      "|         2.64|              0|              0|               0|             0|              0|              0|              0|                0|               1|                 0|                0|   3|                    |   1|5fvybUMH9N9Gx1zKw...|    4|        A|          19|    33|z5y4ejvC8uaUg5fGE...|2013-05-28 17:49:42|   null|        null|       null|\n",
      "|          4.2|              0|              0|               0|             0|              0|              0|              0|                0|               0|                 0|                0|   0|                    |   0|yU3dWsL_PrIeYDdJ3...|    0|  Jamison|           4|     2|3gniF5P3L_WcoR8zx...|2017-03-13 19:50:46|   null|        null|       null|\n",
      "|          5.0|              0|              0|               0|             0|              0|              0|              0|                0|               0|                 0|                0|   0|                    |   0|JwAv-ZqMamWNxfmPz...|    0|  Christy|           1|     0|PktqNN4YpEzkxsuLw...|2015-12-29 20:26:10|   null|        null|       null|\n",
      "|         4.95|              0|              0|               0|             2|              0|              0|              1|                0|               4|                 0|                0|  50|                    |   3|Ybc8ytcSZrNZ1x3Wi...|    6|    Jenna|          17|    64|tj_j9-8YwYZ7ohOsQ...|2012-07-28 01:19:04|   null|        null|       null|\n",
      "|         3.24|             22|              0|              22|            20|              0|              6|             17|                1|               9|                 2|               12| 101|2010,2011,2012,20...|   4|u6wFKvEPzWIwc1Rbr...|   78|  Lindsay|          87|   240|NmC_ZemjAQ6Tvzgea...|2008-04-12 14:29:44|   null|        null|       null|\n",
      "+-------------+---------------+---------------+----------------+--------------+---------------+---------------+---------------+-----------------+----------------+------------------+-----------------+----+--------------------+----+--------------------+-----+---------+------------+------+--------------------+-------------------+-------+------------+-----------+\n",
      "only showing top 20 rows"
     ]
    }
   ],
   "source": [
    "userdf.registerTempTable('userdf')\n",
    "query = \"select * from userdf where average_stars <= 2 or review_count < 100 or fans=0\"\n",
    "spark.sql(query).show()"
   ]
  },
  {
   "cell_type": "code",
   "execution_count": 10,
   "metadata": {},
   "outputs": [],
   "source": [
    "from pyspark.sql.functions import when\n",
    "userdf = userdf\\\n",
    "    .withColumn('molesto', when((userdf['average_stars'] <= 2) & (userdf['review_count'] < 100) & (userdf['fans'] == 0), 1)\\\n",
    "    .otherwise(0))"
   ]
  },
  {
   "cell_type": "code",
   "execution_count": 11,
   "metadata": {},
   "outputs": [
    {
     "name": "stdout",
     "output_type": "stream",
     "text": [
      "+-------+\n",
      "|molesto|\n",
      "+-------+\n",
      "|      0|\n",
      "|      0|\n",
      "|      0|\n",
      "|      0|\n",
      "|      0|\n",
      "|      0|\n",
      "|      0|\n",
      "|      0|\n",
      "|      0|\n",
      "|      0|\n",
      "|      0|\n",
      "|      0|\n",
      "|      0|\n",
      "|      0|\n",
      "|      0|\n",
      "|      0|\n",
      "|      0|\n",
      "|      0|\n",
      "|      0|\n",
      "|      0|\n",
      "+-------+\n",
      "only showing top 20 rows"
     ]
    }
   ],
   "source": [
    "userdf.select('molesto').show()"
   ]
  },
  {
   "cell_type": "code",
   "execution_count": 12,
   "metadata": {},
   "outputs": [],
   "source": [
    "userdf = userdf\\\n",
    "    .withColumn('friend_count', userdf['friends'])"
   ]
  },
  {
   "cell_type": "code",
   "execution_count": 13,
   "metadata": {},
   "outputs": [],
   "source": [
    "import pyspark.sql.functions as f\n",
    "userdf = userdf.withColumn('friend_count', f.size(f.split(f.col('friends'), ',')))"
   ]
  },
  {
   "cell_type": "code",
   "execution_count": 14,
   "metadata": {},
   "outputs": [
    {
     "name": "stdout",
     "output_type": "stream",
     "text": [
      "+------------+\n",
      "|friend_count|\n",
      "+------------+\n",
      "|          99|\n",
      "|        1152|\n",
      "|          15|\n",
      "|         525|\n",
      "|         231|\n",
      "|        5450|\n",
      "|        4326|\n",
      "|        1193|\n",
      "|         382|\n",
      "|         898|\n",
      "|         194|\n",
      "|          83|\n",
      "|         582|\n",
      "|          25|\n",
      "|         248|\n",
      "|         367|\n",
      "|         286|\n",
      "|         258|\n",
      "|        3451|\n",
      "|          46|\n",
      "+------------+\n",
      "only showing top 20 rows"
     ]
    }
   ],
   "source": [
    "userdf.select('friend_count').show()"
   ]
  },
  {
   "cell_type": "code",
   "execution_count": 15,
   "metadata": {},
   "outputs": [],
   "source": [
    "userdf = userdf.withColumn('elite_count', f.size(f.split(f.col('elite'), ',')))"
   ]
  },
  {
   "cell_type": "code",
   "execution_count": 16,
   "metadata": {},
   "outputs": [
    {
     "name": "stdout",
     "output_type": "stream",
     "text": [
      "+-----------+\n",
      "|elite_count|\n",
      "+-----------+\n",
      "|          3|\n",
      "|          1|\n",
      "|          1|\n",
      "|          1|\n",
      "|          4|\n",
      "|          4|\n",
      "|          8|\n",
      "|          1|\n",
      "|          7|\n",
      "|          1|\n",
      "|          2|\n",
      "|          1|\n",
      "|          1|\n",
      "|          1|\n",
      "|          1|\n",
      "|          1|\n",
      "|          6|\n",
      "|          1|\n",
      "|          5|\n",
      "|          1|\n",
      "+-----------+\n",
      "only showing top 20 rows"
     ]
    }
   ],
   "source": [
    "userdf.select('elite_count').show()"
   ]
  },
  {
   "cell_type": "code",
   "execution_count": 17,
   "metadata": {},
   "outputs": [
    {
     "name": "stdout",
     "output_type": "stream",
     "text": [
      "root\n",
      " |-- average_stars: double (nullable = true)\n",
      " |-- compliment_cool: long (nullable = true)\n",
      " |-- compliment_cute: long (nullable = true)\n",
      " |-- compliment_funny: long (nullable = true)\n",
      " |-- compliment_hot: long (nullable = true)\n",
      " |-- compliment_list: long (nullable = true)\n",
      " |-- compliment_more: long (nullable = true)\n",
      " |-- compliment_note: long (nullable = true)\n",
      " |-- compliment_photos: long (nullable = true)\n",
      " |-- compliment_plain: long (nullable = true)\n",
      " |-- compliment_profile: long (nullable = true)\n",
      " |-- compliment_writer: long (nullable = true)\n",
      " |-- cool: long (nullable = true)\n",
      " |-- elite: string (nullable = true)\n",
      " |-- fans: long (nullable = true)\n",
      " |-- friends: string (nullable = true)\n",
      " |-- funny: long (nullable = true)\n",
      " |-- name: string (nullable = true)\n",
      " |-- review_count: long (nullable = true)\n",
      " |-- useful: long (nullable = true)\n",
      " |-- user_id: string (nullable = true)\n",
      " |-- yelping_since: string (nullable = true)\n",
      " |-- molesto: integer (nullable = false)\n",
      " |-- friend_count: integer (nullable = false)\n",
      " |-- elite_count: integer (nullable = false)"
     ]
    }
   ],
   "source": [
    "userdf.printSchema()"
   ]
  },
  {
   "cell_type": "code",
   "execution_count": 18,
   "metadata": {},
   "outputs": [],
   "source": [
    "columns_to_drop = ['friends', 'elite', 'yelping_since', 'user_id', 'name']\n",
    "userdf = userdf.drop(*columns_to_drop)"
   ]
  },
  {
   "cell_type": "code",
   "execution_count": 19,
   "metadata": {},
   "outputs": [
    {
     "name": "stdout",
     "output_type": "stream",
     "text": [
      "root\n",
      " |-- average_stars: double (nullable = true)\n",
      " |-- compliment_cool: long (nullable = true)\n",
      " |-- compliment_cute: long (nullable = true)\n",
      " |-- compliment_funny: long (nullable = true)\n",
      " |-- compliment_hot: long (nullable = true)\n",
      " |-- compliment_list: long (nullable = true)\n",
      " |-- compliment_more: long (nullable = true)\n",
      " |-- compliment_note: long (nullable = true)\n",
      " |-- compliment_photos: long (nullable = true)\n",
      " |-- compliment_plain: long (nullable = true)\n",
      " |-- compliment_profile: long (nullable = true)\n",
      " |-- compliment_writer: long (nullable = true)\n",
      " |-- cool: long (nullable = true)\n",
      " |-- fans: long (nullable = true)\n",
      " |-- funny: long (nullable = true)\n",
      " |-- review_count: long (nullable = true)\n",
      " |-- useful: long (nullable = true)\n",
      " |-- molesto: integer (nullable = false)\n",
      " |-- friend_count: integer (nullable = false)\n",
      " |-- elite_count: integer (nullable = false)"
     ]
    }
   ],
   "source": [
    "userdf.printSchema()"
   ]
  },
  {
   "cell_type": "code",
   "execution_count": 20,
   "metadata": {},
   "outputs": [
    {
     "name": "stdout",
     "output_type": "stream",
     "text": [
      "root\n",
      " |-- average_stars: double (nullable = true)\n",
      " |-- compliment_cool: long (nullable = true)\n",
      " |-- compliment_cute: long (nullable = true)\n",
      " |-- compliment_funny: long (nullable = true)\n",
      " |-- compliment_hot: long (nullable = true)\n",
      " |-- compliment_list: long (nullable = true)\n",
      " |-- compliment_more: long (nullable = true)\n",
      " |-- compliment_note: long (nullable = true)\n",
      " |-- compliment_photos: long (nullable = true)\n",
      " |-- compliment_plain: long (nullable = true)\n",
      " |-- compliment_profile: long (nullable = true)\n",
      " |-- compliment_writer: long (nullable = true)\n",
      " |-- cool: long (nullable = true)\n",
      " |-- fans: long (nullable = true)\n",
      " |-- funny: long (nullable = true)\n",
      " |-- review_count: long (nullable = true)\n",
      " |-- useful: long (nullable = true)\n",
      " |-- label: integer (nullable = false)\n",
      " |-- friend_count: integer (nullable = false)\n",
      " |-- elite_count: integer (nullable = false)"
     ]
    }
   ],
   "source": [
    "userdf = userdf.withColumnRenamed('molesto','label')\n",
    "userdf.printSchema()"
   ]
  },
  {
   "cell_type": "code",
   "execution_count": 21,
   "metadata": {},
   "outputs": [],
   "source": [
    "feats = userdf.columns\n",
    "feats.remove('label')"
   ]
  },
  {
   "cell_type": "code",
   "execution_count": 22,
   "metadata": {},
   "outputs": [],
   "source": [
    "from pyspark.ml.feature import VectorAssembler\n",
    "assemble_feats = VectorAssembler(inputCols = feats, outputCol = 'assembled_features')\n",
    "assemble_feats = assemble_feats.transform(userdf)\n",
    "assemble_feats = assemble_feats.select(['label', 'assembled_features'])"
   ]
  },
  {
   "cell_type": "code",
   "execution_count": 23,
   "metadata": {},
   "outputs": [],
   "source": [
    "train, test = assemble_feats.randomSplit([0.7, 0.3])"
   ]
  },
  {
   "cell_type": "code",
   "execution_count": 24,
   "metadata": {},
   "outputs": [],
   "source": [
    "from pyspark.ml.classification import LogisticRegression, GBTClassifier, DecisionTreeClassifier\n"
   ]
  },
  {
   "cell_type": "code",
   "execution_count": 25,
   "metadata": {},
   "outputs": [],
   "source": [
    "logistic_example = LogisticRegression(featuresCol='assembled_features', labelCol='label', predictionCol='molesto_pred')\n"
   ]
  },
  {
   "cell_type": "code",
   "execution_count": 26,
   "metadata": {},
   "outputs": [],
   "source": [
    "logistic_example = logistic_example.fit(train)"
   ]
  },
  {
   "cell_type": "code",
   "execution_count": 27,
   "metadata": {},
   "outputs": [
    {
     "name": "stdout",
     "output_type": "stream",
     "text": [
      "+-----+--------------------+--------------------+--------------------+------------+\n",
      "|label|  assembled_features|       rawPrediction|         probability|molesto_pred|\n",
      "+-----+--------------------+--------------------+--------------------+------------+\n",
      "|    0|(19,[0,1,2,3,12,1...|[900.615050614721...|           [1.0,0.0]|         0.0|\n",
      "|    0|(19,[0,1,3,4,7,8,...|[441.620979771815...|[1.0,1.6085901032...|         0.0|\n",
      "|    0|(19,[0,1,3,4,9,12...|[1489.34904623214...|           [1.0,0.0]|         0.0|\n",
      "|    0|(19,[0,1,3,4,9,13...|[994.004319962907...|           [1.0,0.0]|         0.0|\n",
      "|    0|(19,[0,1,3,4,12,1...|[526.262842278610...|[1.0,2.7986691959...|         0.0|\n",
      "|    0|(19,[0,1,3,4,12,1...|[1321.76246466020...|           [1.0,0.0]|         0.0|\n",
      "|    0|(19,[0,1,3,4,12,1...|[1155.75346377800...|           [1.0,0.0]|         0.0|\n",
      "|    0|(19,[0,1,3,4,12,1...|[707.922231822793...|[1.0,3.5750416247...|         0.0|\n",
      "|    0|(19,[0,1,3,4,12,1...|[1472.04978935280...|           [1.0,0.0]|         0.0|\n",
      "|    0|(19,[0,1,3,4,12,1...|[984.180051245889...|           [1.0,0.0]|         0.0|\n",
      "+-----+--------------------+--------------------+--------------------+------------+\n",
      "only showing top 10 rows"
     ]
    }
   ],
   "source": [
    "logistic_example.transform(test).show(10)"
   ]
  },
  {
   "cell_type": "code",
   "execution_count": 28,
   "metadata": {},
   "outputs": [
    {
     "name": "stdout",
     "output_type": "stream",
     "text": [
      "0.9999881994904993"
     ]
    }
   ],
   "source": [
    "logistic_example.evaluate(test).areaUnderROC"
   ]
  },
  {
   "cell_type": "code",
   "execution_count": 29,
   "metadata": {},
   "outputs": [],
   "source": [
    "GBT = GBTClassifier(featuresCol='assembled_features', labelCol='label', predictionCol='molesto_pred')\n",
    "GBTf = GBT.fit(train)\n",
    "GBTt = GBTf.transform(test)"
   ]
  },
  {
   "cell_type": "code",
   "execution_count": 30,
   "metadata": {},
   "outputs": [
    {
     "name": "stdout",
     "output_type": "stream",
     "text": [
      "0.9999889180704971"
     ]
    }
   ],
   "source": [
    "from pyspark.ml.evaluation import BinaryClassificationEvaluator\n",
    "evaluator = BinaryClassificationEvaluator()\n",
    "evaluator.evaluate(GBTt, {evaluator.metricName : \"areaUnderROC\"})"
   ]
  },
  {
   "cell_type": "code",
   "execution_count": 31,
   "metadata": {},
   "outputs": [],
   "source": [
    "DTreeC = DecisionTreeClassifier(featuresCol='assembled_features', labelCol='label', predictionCol='molesto_pred')\n",
    "DTreeC = DTreeC.fit(train)\n",
    "DTreeC = DTreeC.transform(test)"
   ]
  },
  {
   "cell_type": "code",
   "execution_count": 32,
   "metadata": {},
   "outputs": [
    {
     "name": "stdout",
     "output_type": "stream",
     "text": [
      "0.9996699558120336"
     ]
    }
   ],
   "source": [
    "evaluator.evaluate(DTreeC, {evaluator.metricName : \"areaUnderROC\"})"
   ]
  },
  {
   "cell_type": "code",
   "execution_count": 34,
   "metadata": {},
   "outputs": [],
   "source": [
    "import pandas as pd\n"
   ]
  },
  {
   "cell_type": "code",
   "execution_count": 35,
   "metadata": {},
   "outputs": [
    {
     "name": "stdout",
     "output_type": "stream",
     "text": [
      "                   col    importance\n",
      "0        average_stars  9.105161e-01\n",
      "13                fans  5.420625e-02\n",
      "15        review_count  3.511901e-02\n",
      "9     compliment_plain  6.186552e-05\n",
      "14               funny  2.408999e-05\n",
      "6      compliment_more  1.677591e-05\n",
      "11   compliment_writer  1.553294e-05\n",
      "16              useful  1.215271e-05\n",
      "12                cool  1.186607e-05\n",
      "17        friend_count  9.370069e-06\n",
      "1      compliment_cool  5.904350e-06\n",
      "7      compliment_note  1.046820e-06\n",
      "5      compliment_list  5.685062e-13\n",
      "18         elite_count  1.903807e-13\n",
      "4       compliment_hot  2.963237e-14\n",
      "2      compliment_cute  5.014893e-17\n",
      "8    compliment_photos  8.107676e-18\n",
      "10  compliment_profile  0.000000e+00\n",
      "3     compliment_funny  0.000000e+00"
     ]
    }
   ],
   "source": [
    "feat_importance = pd.DataFrame({'col':feats, 'importance': GBTf.featureImportances.toArray()})\n",
    "feat_importance.sort_values(by='importance', ascending=False)"
   ]
  },
  {
   "cell_type": "markdown",
   "metadata": {},
   "source": [
    "Por ende los atributos de mayor importancia son Average_stars, fans y review_count"
   ]
  },
  {
   "cell_type": "markdown",
   "metadata": {},
   "source": [
    "# Ejercicio 2: Identificando la probabilidad de cierre de un servicio (14 puntos)"
   ]
  },
  {
   "cell_type": "code",
   "execution_count": 74,
   "metadata": {},
   "outputs": [],
   "source": [
    "df = spark.read.json(\"s3://bigdata-desafio/yelp-data/business.json\")\n"
   ]
  },
  {
   "cell_type": "code",
   "execution_count": 109,
   "metadata": {},
   "outputs": [
    {
     "name": "stdout",
     "output_type": "stream",
     "text": [
      "root\n",
      " |-- address: string (nullable = true)\n",
      " |-- attributes: struct (nullable = true)\n",
      " |    |-- AcceptsInsurance: string (nullable = true)\n",
      " |    |-- AgesAllowed: string (nullable = true)\n",
      " |    |-- Alcohol: string (nullable = true)\n",
      " |    |-- Ambience: string (nullable = true)\n",
      " |    |-- BYOB: string (nullable = true)\n",
      " |    |-- BYOBCorkage: string (nullable = true)\n",
      " |    |-- BestNights: string (nullable = true)\n",
      " |    |-- BikeParking: string (nullable = true)\n",
      " |    |-- BusinessAcceptsBitcoin: string (nullable = true)\n",
      " |    |-- BusinessAcceptsCreditCards: string (nullable = true)\n",
      " |    |-- BusinessParking: string (nullable = true)\n",
      " |    |-- ByAppointmentOnly: string (nullable = true)\n",
      " |    |-- Caters: string (nullable = true)\n",
      " |    |-- CoatCheck: string (nullable = true)\n",
      " |    |-- Corkage: string (nullable = true)\n",
      " |    |-- DietaryRestrictions: string (nullable = true)\n",
      " |    |-- DogsAllowed: string (nullable = true)\n",
      " |    |-- DriveThru: string (nullable = true)\n",
      " |    |-- GoodForDancing: string (nullable = true)\n",
      " |    |-- GoodForKids: string (nullable = true)\n",
      " |    |-- GoodForMeal: string (nullable = true)\n",
      " |    |-- HairSpecializesIn: string (nullable = true)\n",
      " |    |-- HappyHour: string (nullable = true)\n",
      " |    |-- HasTV: string (nullable = true)\n",
      " |    |-- Music: string (nullable = true)\n",
      " |    |-- NoiseLevel: string (nullable = true)\n",
      " |    |-- Open24Hours: string (nullable = true)\n",
      " |    |-- OutdoorSeating: string (nullable = true)\n",
      " |    |-- RestaurantsAttire: string (nullable = true)\n",
      " |    |-- RestaurantsCounterService: string (nullable = true)\n",
      " |    |-- RestaurantsDelivery: string (nullable = true)\n",
      " |    |-- RestaurantsGoodForGroups: string (nullable = true)\n",
      " |    |-- RestaurantsPriceRange2: string (nullable = true)\n",
      " |    |-- RestaurantsReservations: string (nullable = true)\n",
      " |    |-- RestaurantsTableService: string (nullable = true)\n",
      " |    |-- RestaurantsTakeOut: string (nullable = true)\n",
      " |    |-- Smoking: string (nullable = true)\n",
      " |    |-- WheelchairAccessible: string (nullable = true)\n",
      " |    |-- WiFi: string (nullable = true)\n",
      " |-- business_id: string (nullable = true)\n",
      " |-- categories: string (nullable = true)\n",
      " |-- city: string (nullable = true)\n",
      " |-- hours: struct (nullable = true)\n",
      " |    |-- Friday: string (nullable = true)\n",
      " |    |-- Monday: string (nullable = true)\n",
      " |    |-- Saturday: string (nullable = true)\n",
      " |    |-- Sunday: string (nullable = true)\n",
      " |    |-- Thursday: string (nullable = true)\n",
      " |    |-- Tuesday: string (nullable = true)\n",
      " |    |-- Wednesday: string (nullable = true)\n",
      " |-- is_open: long (nullable = true)\n",
      " |-- latitude: double (nullable = true)\n",
      " |-- longitude: double (nullable = true)\n",
      " |-- name: string (nullable = true)\n",
      " |-- postal_code: string (nullable = true)\n",
      " |-- review_count: long (nullable = true)\n",
      " |-- stars: double (nullable = true)\n",
      " |-- state: string (nullable = true)"
     ]
    }
   ],
   "source": [
    "df.printSchema()"
   ]
  },
  {
   "cell_type": "code",
   "execution_count": 151,
   "metadata": {},
   "outputs": [],
   "source": [
    "Objetivo = df.select('is_open')"
   ]
  },
  {
   "cell_type": "code",
   "execution_count": 110,
   "metadata": {},
   "outputs": [],
   "source": [
    "df_proc = df.select('review_count',\n",
    "          'stars',\n",
    "           df.attributes.getField('AcceptsInsurance'),\n",
    "           df.attributes.getField('AgesAllowed'),\n",
    "           df.attributes.getField('Alcohol'),\n",
    "           df.attributes.getField('BusinessAcceptsBitcoin'),\n",
    "           df.attributes.getField('GoodForMeal'),\n",
    "           df.attributes.getField('BusinessAcceptsCreditCards'),\n",
    "           df.attributes.getField('GoodForDancing'),\n",
    "          df.attributes.getField('Smoking'),\n",
    "          df.attributes.getField('WiFi'),\n",
    "          df.attributes.getField('HasTV'),\n",
    "          df.attributes.getField('DogsAllowed'),\n",
    "          df.attributes.getField('GoodForKids'),\n",
    "          df.attributes.getField('RestaurantsPriceRange2'),\n",
    "          df.attributes.getField('NoiseLevel'),\n",
    "          df.attributes.getField('HappyHour'),\n",
    "         )"
   ]
  },
  {
   "cell_type": "code",
   "execution_count": 118,
   "metadata": {},
   "outputs": [],
   "source": [
    "from pyspark.sql import Row"
   ]
  },
  {
   "cell_type": "code",
   "execution_count": 172,
   "metadata": {},
   "outputs": [],
   "source": [
    "from pyspark.sql.functions import col\n",
    "def replace_none_with_0(r):\n",
    "    return Row(**{k: 0 if v == None else v for k, v in r.asDict().iteritems()})\n",
    "def replace_false_with_0(r):\n",
    "    return Row(**{k: 0 if v == 'False' else v for k, v in r.asDict().iteritems()})\n",
    "def replace_null_with_0(r):\n",
    "    return Row(**{k: 0 if v == 'null' else v for k, v in r.asDict().iteritems()})"
   ]
  },
  {
   "cell_type": "code",
   "execution_count": 124,
   "metadata": {},
   "outputs": [],
   "source": [
    "df_proc_2 = df_proc.rdd.map(lambda x: replace_none_with_0(x)).toDF()\n",
    "df_proc = df_proc.rdd.map(lambda x: replace_false_with_0(x)).toDF()"
   ]
  },
  {
   "cell_type": "code",
   "execution_count": 144,
   "metadata": {},
   "outputs": [],
   "source": [
    "df_proc = df_proc_2.withColumnRenamed(\"attributes.AcceptsInsurance\", \"accepts_insurance\")\n",
    "df_proc = df_proc.withColumnRenamed(\"attributes.AgesAllowed\", \"all_ages_allowed\")\n",
    "df_proc = df_proc.withColumnRenamed(\"attributes.Alcohol\", \"alcohol_consumption\")\n",
    "df_proc = df_proc.withColumnRenamed(\"attributes.BusinessAcceptsBitcoin\", \"bitcoin_friendly\")\n",
    "df_proc = df_proc.withColumnRenamed(\"attributes.GoodForMeal\", \"food_related\")\n",
    "df_proc = df_proc.withColumnRenamed(\"attributes.BusinessAcceptsCreditCards\", \"finance_related\")\n",
    "df_proc = df_proc.withColumnRenamed(\"attributes.GoodForDancing\", \"health_related\")\n",
    "df_proc = df_proc.withColumnRenamed(\"attributes.Smoking\", \"smoking\")\n",
    "df_proc = df_proc.withColumnRenamed(\"attributes.WiFi\", \"free_wifi\")\n",
    "df_proc = df_proc.withColumnRenamed(\"attributes.HasTV\", \"has_tv\")\n",
    "df_proc = df_proc.withColumnRenamed(\"attributes.DogsAllowed\", \"dog_friendly\")\n",
    "df_proc = df_proc.withColumnRenamed(\"attributes.GoodForKids\", \"kid_friendly\")\n",
    "df_proc = df_proc.withColumnRenamed(\"attributes.RestaurantsPriceRange2\", \"expensive_restaurant\")\n",
    "df_proc = df_proc.withColumnRenamed(\"attributes.NoiseLevel\", \"loud_place\")\n",
    "df_proc = df_proc.withColumnRenamed(\"attributes.HappyHour\", \"happy_hour\")"
   ]
  },
  {
   "cell_type": "code",
   "execution_count": 149,
   "metadata": {},
   "outputs": [],
   "source": [
    "from pyspark.sql.functions import monotonically_increasing_id \n",
    "df_proc = df_proc.select(\"*\").withColumn(\"label\", monotonically_increasing_id()+1)\n",
    "df_proc=df_proc.na.drop()"
   ]
  },
  {
   "cell_type": "code",
   "execution_count": 150,
   "metadata": {},
   "outputs": [
    {
     "name": "stdout",
     "output_type": "stream",
     "text": [
      "[Row(accepts_insurance=0, all_ages_allowed=0, alcohol_consumption=0, bitcoin_friendly=0, finance_related=0, dog_friendly=0, health_related=0, kid_friendly=u'False', food_related=0, happy_hour=0, has_tv=0, loud_place=0, expensive_restaurant=0, smoking=0, free_wifi=0, review_count=5, stars=3.0, label=1)]"
     ]
    }
   ],
   "source": [
    "df_proc.take(1)"
   ]
  },
  {
   "cell_type": "code",
   "execution_count": 175,
   "metadata": {},
   "outputs": [],
   "source": []
  },
  {
   "cell_type": "code",
   "execution_count": null,
   "metadata": {},
   "outputs": [],
   "source": []
  }
 ],
 "metadata": {
  "kernelspec": {
   "display_name": "PySpark",
   "language": "",
   "name": "pysparkkernel"
  },
  "language_info": {
   "codemirror_mode": {
    "name": "python",
    "version": 2
   },
   "mimetype": "text/x-python",
   "name": "pyspark",
   "pygments_lexer": "python2"
  }
 },
 "nbformat": 4,
 "nbformat_minor": 2
}
