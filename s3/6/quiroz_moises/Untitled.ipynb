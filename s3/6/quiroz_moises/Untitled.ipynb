{
 "cells": [
  {
   "cell_type": "markdown",
   "metadata": {},
   "source": [
    "# Desafio\n",
    "**Moises Quiroz**"
   ]
  },
  {
   "cell_type": "code",
   "execution_count": 4,
   "metadata": {},
   "outputs": [],
   "source": [
    "from pyspark.sql import SparkSession"
   ]
  },
  {
   "cell_type": "code",
   "execution_count": 1,
   "metadata": {},
   "outputs": [
    {
     "name": "stdout",
     "output_type": "stream",
     "text": [
      "Starting Spark application\n"
     ]
    },
    {
     "data": {
      "text/html": [
       "<table>\n",
       "<tr><th>ID</th><th>YARN Application ID</th><th>Kind</th><th>State</th><th>Spark UI</th><th>Driver log</th><th>Current session?</th></tr><tr><td>0</td><td>application_1575891702652_0001</td><td>pyspark3</td><td>idle</td><td><a target=\"_blank\" href=\"http://ip-172-31-89-130.ec2.internal:20888/proxy/application_1575891702652_0001/\">Link</a></td><td><a target=\"_blank\" href=\"http://ip-172-31-92-255.ec2.internal:8042/node/containerlogs/container_1575891702652_0001_01_000001/livy\">Link</a></td><td>✔</td></tr></table>"
      ],
      "text/plain": [
       "<IPython.core.display.HTML object>"
      ]
     },
     "metadata": {},
     "output_type": "display_data"
    },
    {
     "name": "stdout",
     "output_type": "stream",
     "text": [
      "SparkSession available as 'spark'.\n",
      "<SparkContext master=yarn appName=livy-session-0>"
     ]
    }
   ],
   "source": [
    "sc"
   ]
  },
  {
   "cell_type": "markdown",
   "metadata": {},
   "source": [
    "## Ejercicio 1: Preliminares"
   ]
  },
  {
   "cell_type": "markdown",
   "metadata": {},
   "source": [
    "    * Genere una instancia de trabajo en AWS EMR con los componentes necesarios de Spark y\n",
    "    habilite un puerto dinámico para utilizar un notebook desde JupyterHub.\n",
    "    * Genere un objeto con SparkSession y asegúrese de habilitar el soporte con Hive.\n",
    "    * Utilizando su objeto creado con SparkSession , realice el import de los objetos parquet que\n",
    "    se encuentran en la siguiente dirección del bucket del curso s3://bigdatadesafio/challenges/u4act2/ ."
   ]
  },
  {
   "cell_type": "code",
   "execution_count": 9,
   "metadata": {},
   "outputs": [],
   "source": [
    "airline = spark.read.parquet(\"s3://bigdata-desafio/challenges/u4act2/airlines.parquet/\")\n",
    "airports = spark.read.parquet(\"s3://bigdata-desafio/challenges/u4act2/airports.parquet/\")\n",
    "flights = spark.read.parquet(\"s3://bigdata-desafio/challenges/u4act2/flights.parquet/\")"
   ]
  },
  {
   "cell_type": "markdown",
   "metadata": {},
   "source": [
    "    Infiera el schema de cada objeto creado."
   ]
  },
  {
   "cell_type": "code",
   "execution_count": 10,
   "metadata": {},
   "outputs": [
    {
     "name": "stdout",
     "output_type": "stream",
     "text": [
      "root\n",
      " |-- IATA_CODE: string (nullable = true)\n",
      " |-- AIRLINE: string (nullable = true)"
     ]
    }
   ],
   "source": [
    "airline.printSchema()"
   ]
  },
  {
   "cell_type": "code",
   "execution_count": 82,
   "metadata": {},
   "outputs": [
    {
     "name": "stdout",
     "output_type": "stream",
     "text": [
      "+---------+--------------------+\n",
      "|IATA_CODE|             AIRLINE|\n",
      "+---------+--------------------+\n",
      "|       UA|United Air Lines ...|\n",
      "+---------+--------------------+\n",
      "only showing top 1 row"
     ]
    }
   ],
   "source": [
    "airline.show(1)"
   ]
  },
  {
   "cell_type": "code",
   "execution_count": 11,
   "metadata": {},
   "outputs": [
    {
     "name": "stdout",
     "output_type": "stream",
     "text": [
      "root\n",
      " |-- IATA_CODE: string (nullable = true)\n",
      " |-- AIRPORT: string (nullable = true)\n",
      " |-- CITY: string (nullable = true)\n",
      " |-- STATE: string (nullable = true)\n",
      " |-- COUNTRY: string (nullable = true)\n",
      " |-- LATITUDE: string (nullable = true)\n",
      " |-- LONGITUDE: string (nullable = true)"
     ]
    }
   ],
   "source": [
    "airports.printSchema()"
   ]
  },
  {
   "cell_type": "code",
   "execution_count": 36,
   "metadata": {},
   "outputs": [
    {
     "name": "stdout",
     "output_type": "stream",
     "text": [
      "+---------+--------------------+-----------+-----+-------+--------+----------+\n",
      "|IATA_CODE|             AIRPORT|       CITY|STATE|COUNTRY|LATITUDE| LONGITUDE|\n",
      "+---------+--------------------+-----------+-----+-------+--------+----------+\n",
      "|      ABE|Lehigh Valley Int...|  Allentown|   PA|    USA|40.65236| -75.44040|\n",
      "|      ABI|Abilene Regional ...|    Abilene|   TX|    USA|32.41132| -99.68190|\n",
      "|      ABQ|Albuquerque Inter...|Albuquerque|   NM|    USA|35.04022|-106.60919|\n",
      "|      ABR|Aberdeen Regional...|   Aberdeen|   SD|    USA|45.44906| -98.42183|\n",
      "|      ABY|Southwest Georgia...|     Albany|   GA|    USA|31.53552| -84.19447|\n",
      "|      ACK|Nantucket Memoria...|  Nantucket|   MA|    USA|41.25305| -70.06018|\n",
      "+---------+--------------------+-----------+-----+-------+--------+----------+\n",
      "only showing top 6 rows"
     ]
    }
   ],
   "source": [
    "airports.show(6)"
   ]
  },
  {
   "cell_type": "code",
   "execution_count": 12,
   "metadata": {},
   "outputs": [
    {
     "name": "stdout",
     "output_type": "stream",
     "text": [
      "root\n",
      " |-- YEAR: string (nullable = true)\n",
      " |-- MONTH: string (nullable = true)\n",
      " |-- DAY: string (nullable = true)\n",
      " |-- DAY_OF_WEEK: string (nullable = true)\n",
      " |-- AIRLINE: string (nullable = true)\n",
      " |-- FLIGHT_NUMBER: string (nullable = true)\n",
      " |-- TAIL_NUMBER: string (nullable = true)\n",
      " |-- ORIGIN_AIRPORT: string (nullable = true)\n",
      " |-- DESTINATION_AIRPORT: string (nullable = true)\n",
      " |-- SCHEDULED_DEPARTURE: string (nullable = true)\n",
      " |-- DEPARTURE_TIME: string (nullable = true)\n",
      " |-- DEPARTURE_DELAY: string (nullable = true)\n",
      " |-- TAXI_OUT: string (nullable = true)\n",
      " |-- WHEELS_OFF: string (nullable = true)\n",
      " |-- SCHEDULED_TIME: string (nullable = true)\n",
      " |-- ELAPSED_TIME: string (nullable = true)\n",
      " |-- AIR_TIME: string (nullable = true)\n",
      " |-- DISTANCE: string (nullable = true)\n",
      " |-- WHEELS_ON: string (nullable = true)\n",
      " |-- TAXI_IN: string (nullable = true)\n",
      " |-- SCHEDULED_ARRIVAL: string (nullable = true)\n",
      " |-- ARRIVAL_TIME: string (nullable = true)\n",
      " |-- ARRIVAL_DELAY: string (nullable = true)\n",
      " |-- DIVERTED: string (nullable = true)\n",
      " |-- CANCELLED: string (nullable = true)\n",
      " |-- CANCELLATION_REASON: string (nullable = true)\n",
      " |-- AIR_SYSTEM_DELAY: string (nullable = true)\n",
      " |-- SECURITY_DELAY: string (nullable = true)\n",
      " |-- AIRLINE_DELAY: string (nullable = true)\n",
      " |-- LATE_AIRCRAFT_DELAY: string (nullable = true)\n",
      " |-- WEATHER_DELAY: string (nullable = true)"
     ]
    }
   ],
   "source": [
    "flights.printSchema()"
   ]
  },
  {
   "cell_type": "code",
   "execution_count": 86,
   "metadata": {},
   "outputs": [
    {
     "name": "stdout",
     "output_type": "stream",
     "text": [
      "[Row(YEAR='2015', MONTH='12', DAY='3', DAY_OF_WEEK='4', AIRLINE='B6', FLIGHT_NUMBER='85', TAIL_NUMBER='N328JB', ORIGIN_AIRPORT='BUF', DESTINATION_AIRPORT='MCO', SCHEDULED_DEPARTURE='0830', DEPARTURE_TIME='0820', DEPARTURE_DELAY='-10', TAXI_OUT='10', WHEELS_OFF='0830', SCHEDULED_TIME='164', ELAPSED_TIME='165', AIR_TIME='145', DISTANCE='1011', WHEELS_ON='1055', TAXI_IN='10', SCHEDULED_ARRIVAL='1114', ARRIVAL_TIME='1105', ARRIVAL_DELAY='-9', DIVERTED='0', CANCELLED='0', CANCELLATION_REASON=None, AIR_SYSTEM_DELAY=None, SECURITY_DELAY=None, AIRLINE_DELAY=None, LATE_AIRCRAFT_DELAY=None, WEATHER_DELAY=None)]"
     ]
    }
   ],
   "source": [
    "flights.take(1)"
   ]
  },
  {
   "cell_type": "markdown",
   "metadata": {},
   "source": [
    "### Ejercicio 2: Implementación de Queries"
   ]
  },
  {
   "cell_type": "markdown",
   "metadata": {},
   "source": [
    "En su calidad de Científico de Datos, su jefe le genera una serie de consultas que deberá\n",
    "implementar utilizando sus conocimientos en SparkSQL y sus objetos DataFrame . La única\n",
    "limitante es que estará trabajando en un cluster habilitado sólo con el kernel PySpark3 , por lo que\n",
    "no podrá utilizar librerías como pandas , numpy y matplotlib . Cabe destacar que usted no\n",
    "tendrá permisos de superusuario para instalar librerías."
   ]
  },
  {
   "cell_type": "markdown",
   "metadata": {},
   "source": [
    "* Query 1: Cantidad de vuelos por mes. Reporte los meses con una mayor cantidad de vuelos."
   ]
  },
  {
   "cell_type": "code",
   "execution_count": 25,
   "metadata": {},
   "outputs": [
    {
     "name": "stdout",
     "output_type": "stream",
     "text": [
      "+-----+------+\n",
      "|MONTH| count|\n",
      "+-----+------+\n",
      "|    9|464946|\n",
      "|    8|510536|\n",
      "|    7|520718|\n",
      "|    6|503897|\n",
      "|    5|496993|\n",
      "|    4|485151|\n",
      "|    3|504312|\n",
      "|    2|429191|\n",
      "|   12|479230|\n",
      "|   11|467972|\n",
      "|   10|486165|\n",
      "|    1|469968|\n",
      "+-----+------+"
     ]
    }
   ],
   "source": [
    "flights.groupBy('MONTH').count().sort('MONTH',ascending= False).show()"
   ]
  },
  {
   "cell_type": "markdown",
   "metadata": {},
   "source": [
    "Los meses con mayor cantidad de vuelos son septiembre, agosto"
   ]
  },
  {
   "cell_type": "markdown",
   "metadata": {},
   "source": [
    "* Query 2: Cantidad de vuelos por día y mes. Reporte los días con una mayor cantidad de vuelos."
   ]
  },
  {
   "cell_type": "code",
   "execution_count": 24,
   "metadata": {},
   "outputs": [
    {
     "name": "stdout",
     "output_type": "stream",
     "text": [
      "+-----+---+-----------+-----+\n",
      "|MONTH|DAY|DAY_OF_WEEK|count|\n",
      "+-----+---+-----------+-----+\n",
      "|   11| 29|          7|17574|\n",
      "|    8|  7|          5|17517|\n",
      "|    6| 26|          5|17474|\n",
      "|    7| 24|          5|17474|\n",
      "|    7| 10|          5|17471|\n",
      "|    7| 17|          5|17469|\n",
      "|    8|  6|          4|17467|\n",
      "|    6| 19|          5|17462|\n",
      "|    8|  3|          1|17453|\n",
      "|    7| 31|          5|17453|\n",
      "|    6| 25|          4|17441|\n",
      "|    6| 12|          5|17440|\n",
      "|    7|  9|          4|17438|\n",
      "|    7|  2|          4|17437|\n",
      "|    6| 18|          4|17432|\n",
      "|    7|  6|          1|17432|\n",
      "|    7| 23|          4|17425|\n",
      "|    7| 30|          4|17423|\n",
      "|    7| 16|          4|17419|\n",
      "|    7| 27|          1|17409|\n",
      "+-----+---+-----------+-----+\n",
      "only showing top 20 rows"
     ]
    }
   ],
   "source": [
    "flights.groupBy('MONTH','DAY','DAY_OF_WEEK').count().sort('count',ascending=False).show()"
   ]
  },
  {
   "cell_type": "markdown",
   "metadata": {},
   "source": [
    "Se puede considerrar que la mayor cantidad de personas viaje los viernes y domingos (dia 5 y 7)"
   ]
  },
  {
   "cell_type": "markdown",
   "metadata": {},
   "source": [
    "* Query 3: Cantidad de aeropuertos por Estado. Reporte los estados con una mayor cantidad de\n",
    "aeropuertos"
   ]
  },
  {
   "cell_type": "code",
   "execution_count": 27,
   "metadata": {},
   "outputs": [
    {
     "name": "stdout",
     "output_type": "stream",
     "text": [
      "+-----+-----+\n",
      "|STATE|count|\n",
      "+-----+-----+\n",
      "|   TX|   24|\n",
      "|   CA|   22|\n",
      "|   AK|   19|\n",
      "|   FL|   17|\n",
      "|   MI|   15|\n",
      "+-----+-----+\n",
      "only showing top 5 rows"
     ]
    }
   ],
   "source": [
    "#Los 5 estados con mayores aeropuertos son\n",
    "airports.groupBy('STATE').count().sort('count',ascending=False).show(5)"
   ]
  },
  {
   "cell_type": "markdown",
   "metadata": {},
   "source": [
    "* Query 4: Excluyendo los aeropuertos que no aparezcan en la tabla airports , identifique los\n",
    "aeropuertos con una mayor cantidad de vuelos."
   ]
  },
  {
   "cell_type": "code",
   "execution_count": 32,
   "metadata": {},
   "outputs": [],
   "source": [
    "airports.registerTempTable('airports')\n",
    "flights.registerTempTable('flights')\n",
    "airline.registerTempTable('airline')"
   ]
  },
  {
   "cell_type": "code",
   "execution_count": 42,
   "metadata": {},
   "outputs": [],
   "source": [
    "consulta = \"select AIRPORT from airports join flights where flights.ORIGIN_AIRPORT == airports.IATA_CODE\""
   ]
  },
  {
   "cell_type": "code",
   "execution_count": 43,
   "metadata": {},
   "outputs": [
    {
     "name": "stdout",
     "output_type": "stream",
     "text": [
      "+--------------------+------+\n",
      "|             AIRPORT| count|\n",
      "+--------------------+------+\n",
      "|Hartsfield-Jackso...|346836|\n",
      "|Chicago O'Hare In...|285884|\n",
      "|Dallas/Fort Worth...|239551|\n",
      "|Denver Internatio...|196055|\n",
      "|Los Angeles Inter...|194673|\n",
      "+--------------------+------+\n",
      "only showing top 5 rows"
     ]
    }
   ],
   "source": [
    "spark.sql(consulta).groupBy('AIRPORT').count().sort('count',ascending=False).show(5)"
   ]
  },
  {
   "cell_type": "markdown",
   "metadata": {},
   "source": [
    "* Query 5: Excluyendo los aeropuertos que no aparezcan en la tabla airports , identifique los\n",
    "estados con una mayor cantidad de vuelos."
   ]
  },
  {
   "cell_type": "code",
   "execution_count": 44,
   "metadata": {},
   "outputs": [
    {
     "name": "stdout",
     "output_type": "stream",
     "text": [
      "+-----+------+\n",
      "|STATE| count|\n",
      "+-----+------+\n",
      "|   CA|647911|\n",
      "|   TX|631124|\n",
      "|   FL|415586|\n",
      "|   IL|381644|\n",
      "|   GA|360496|\n",
      "+-----+------+\n",
      "only showing top 5 rows"
     ]
    }
   ],
   "source": [
    "consulta = \"select STATE from airports join flights where flights.ORIGIN_AIRPORT == airports.IATA_CODE\"\n",
    "spark.sql(consulta).groupBy('STATE').count().sort('count',ascending=False).show(5)"
   ]
  },
  {
   "cell_type": "markdown",
   "metadata": {},
   "source": [
    "* Query 6: Excluyendo los aeropuertos que no aparezcan en la tabla airports , identifique el\n",
    "promedio de retraso en partida (con la columna DEPARTURE_DELAY ) y llegada (con la columna\n",
    "ARRIVAL_DELAY ) para cada aeropuerto de origen (con la columna ORIGIN_AIRPORT ). Reporte\n",
    "los cinco aeropuertos con un mayor retraso promedio de partida."
   ]
  },
  {
   "cell_type": "code",
   "execution_count": 47,
   "metadata": {},
   "outputs": [
    {
     "name": "stdout",
     "output_type": "stream",
     "text": [
      "+--------------+----------------------------+--------------------------+\n",
      "|ORIGIN_AIRPORT|avg(flights.DEPARTURE_DELAY)|avg(flights.ARRIVAL_DELAY)|\n",
      "+--------------+----------------------------+--------------------------+\n",
      "|           YUM|           1.232470334412082|        2.1844660194174756|\n",
      "|           YAK|          -6.292237442922374|        -5.632307692307692|\n",
      "|           XNA|          11.886184283650106|        11.233850273345977|\n",
      "|           WYS|                       1.375|       -1.8653846153846154|\n",
      "|           WRG|           3.091883614088821|         4.667180277349769|\n",
      "|           VPS|           9.669601677148847|          5.68043844856661|\n",
      "|           VLD|           7.316073354908307|        7.0864864864864865|\n",
      "|           VEL|                       -3.74|                     -7.52|\n",
      "|           UST|          16.368055555555557|         8.972222222222221|\n",
      "|           TYS|          10.729292334853612|         8.184039087947882|\n",
      "|           TYR|           6.977737392094502|         6.648931332423829|\n",
      "|           TXK|          4.9923913043478265|         5.261437908496732|\n",
      "|           TWF|          -0.895910780669145|       -1.5801242236024844|\n",
      "|           TVC|           5.318726591760299|        1.9323308270676691|\n",
      "|           TUS|           5.827634566582075|        2.4423669749363355|\n",
      "|           TUL|            7.69308514505926|          4.25633165462375|\n",
      "|           TTN|           14.44037356321839|        11.990256225189462|\n",
      "|           TRI|           5.826086956521739|         4.061909758656873|\n",
      "|           TPA|          10.191131401851443|         5.058706025968261|\n",
      "|           TOL|           4.033407572383074|       -2.6443701226309924|\n",
      "+--------------+----------------------------+--------------------------+\n",
      "only showing top 20 rows"
     ]
    }
   ],
   "source": [
    "from pyspark.sql.functions import min,max,col,mean,stddev,count\n",
    "consulta = \"select flights.DEPARTURE_DELAY,flights.ARRIVAL_DELAY,flights.ORIGIN_AIRPORT from airports join flights where flights.ORIGIN_AIRPORT == airports.IATA_CODE\"\n",
    "evaluate = [mean(col('flights.DEPARTURE_DELAY')),mean(col('flights.ARRIVAL_DELAY'))]\n",
    "spark.sql(consulta).groupBy('flights.ORIGIN_AIRPORT').agg(*evaluate).sort('flights.ORIGIN_AIRPORT',ascending=False).show()\n",
    "\n",
    "\n"
   ]
  },
  {
   "cell_type": "markdown",
   "metadata": {},
   "source": [
    "* Query 7: Excluyendo los aeropuertos que no aparezcan en la tabla airports , identifique las\n",
    "principales razones de cancelación de vuelos."
   ]
  },
  {
   "cell_type": "code",
   "execution_count": 48,
   "metadata": {},
   "outputs": [
    {
     "name": "stdout",
     "output_type": "stream",
     "text": [
      "+-------------------+-------+\n",
      "|CANCELLATION_REASON|  count|\n",
      "+-------------------+-------+\n",
      "|               null|5245484|\n",
      "|                  B|  47874|\n",
      "|                  A|  24309|\n",
      "|                  C|  15225|\n",
      "|                  D|     22|\n",
      "+-------------------+-------+"
     ]
    }
   ],
   "source": [
    "consulta = \"select flights.CANCELLATION_REASON from airports join flights where flights.ORIGIN_AIRPORT == airports.IATA_CODE\"\n",
    "spark.sql(consulta).groupBy('flights.CANCELLATION_REASON').count().sort('count',ascending=False).show(5)"
   ]
  },
  {
   "cell_type": "markdown",
   "metadata": {},
   "source": [
    "* Query 8: Excluyendo los aeropuertos que no aparezcan en la tabla airports y sólo\n",
    "considerando los cinco aeropuertos con un mayor retraso promedio de partida, identifique las\n",
    "principales causas de cancelación de vuelos."
   ]
  },
  {
   "cell_type": "code",
   "execution_count": 76,
   "metadata": {},
   "outputs": [
    {
     "name": "stdout",
     "output_type": "stream",
     "text": [
      "+-------------------+--------------------+\n",
      "|CANCELLATION_REASON|avg(DEPARTURE_DELAY)|\n",
      "+-------------------+--------------------+\n",
      "|                  D|                62.0|\n",
      "|                  B|   61.18094667465548|\n",
      "|                  A|   56.96991497710922|\n",
      "|                  C|   46.02877697841727|\n",
      "|               null|   9.741562265750883|\n",
      "+-------------------+--------------------+"
     ]
    }
   ],
   "source": [
    "consulta = \"select CANCELLATION_REASON,DEPARTURE_DELAY from airports join flights where flights.ORIGIN_AIRPORT == airports.IATA_CODE\"\n",
    "\n",
    "evaluate = [mean(col('DEPARTURE_DELAY'))]\n",
    "spark.sql(consulta).groupBy('CANCELLATION_REASON').agg(*evaluate).sort('avg(DEPARTURE_DELAY)',ascending=False).show(5)\n"
   ]
  },
  {
   "cell_type": "markdown",
   "metadata": {},
   "source": [
    "* Query 9: Excluyendo los aeropuertos que no aparezcan en la tabla airports , identifique el\n",
    "tiempo promedio de retraso en partida y llegada para cada aerolínea."
   ]
  },
  {
   "cell_type": "code",
   "execution_count": 87,
   "metadata": {},
   "outputs": [
    {
     "name": "stdout",
     "output_type": "stream",
     "text": [
      "+--------------------+-------------------+--------------------+\n",
      "|             AIRLINE| avg(ARRIVAL_DELAY)|avg(DEPARTURE_DELAY)|\n",
      "+--------------------+-------------------+--------------------+\n",
      "|Skywest Airlines ...|  5.845652151300072|   7.801103808415331|\n",
      "|American Eagle Ai...|  6.457873460764516|  10.125188203309524|\n",
      "|      Virgin America|  4.737705721003135|   9.022595096521952|\n",
      "|United Air Lines ...|  5.431593935741549|  14.435441010805953|\n",
      "|Frontier Airlines...| 12.504706404706404|  13.350858345331709|\n",
      "|Southwest Airline...| 4.3749636792570525|  10.581986295158847|\n",
      "|     JetBlue Airways|  6.677860800940307|    11.5143526744102|\n",
      "|     US Airways Inc.| 3.7062088424131026|   6.141136917746696|\n",
      "|Hawaiian Airlines...|  2.023092805197196| 0.48571315965790407|\n",
      "|Atlantic Southeas...|  6.585378691739733|    8.71593449776958|\n",
      "|Alaska Airlines Inc.|-0.9765630924118783|  1.7858007096736666|\n",
      "|Delta Air Lines Inc.|0.18675361236390797|    7.36925417661782|\n",
      "|American Airlines...| 3.4513721447256764|   8.900856346719806|\n",
      "|    Spirit Air Lines| 14.471799501705833|  15.944765880783688|\n",
      "+--------------------+-------------------+--------------------+"
     ]
    }
   ],
   "source": [
    "consulta = \"select airline.AIRLINE,ARRIVAL_DELAY,DEPARTURE_DELAY from airline join flights where flights.AIRLINE == airline.IATA_CODE\"\n",
    "evaluate = [mean(col('ARRIVAL_DELAY')),mean(col('DEPARTURE_DELAY'))]\n",
    "spark.sql(consulta).groupBy('airline.AIRLINE').agg(*evaluate).show()\n",
    "\n"
   ]
  }
 ],
 "metadata": {
  "kernelspec": {
   "display_name": "PySpark3",
   "language": "",
   "name": "pyspark3kernel"
  },
  "language_info": {
   "codemirror_mode": {
    "name": "python",
    "version": 3
   },
   "mimetype": "text/x-python",
   "name": "pyspark3",
   "pygments_lexer": "python3"
  }
 },
 "nbformat": 4,
 "nbformat_minor": 2
}
