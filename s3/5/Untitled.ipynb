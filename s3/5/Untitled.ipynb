{
 "cells": [
  {
   "cell_type": "markdown",
   "metadata": {},
   "source": [
    "### Desafio\n",
    "####  Moises Quiroz Diaz"
   ]
  },
  {
   "cell_type": "markdown",
   "metadata": {},
   "source": [
    "### Ejercicio 1: Preliminares y datos perdidos"
   ]
  },
  {
   "cell_type": "markdown",
   "metadata": {},
   "source": [
    "    Genere una instancia en AWS EMR y habilite un puerto dinámico para utilizar un notebook\n",
    "    desde JupyterHub.\n",
    "    Genere los objetos SparkConf y SparkContext .\n",
    "    Utilizando Spark , importe el archivo household_power_consumption.txt a un objeto RDD.\n",
    "    El primer registro del archivo corresponde a las etiquetas asociadas a cada columna. Elimínelo\n",
    "    de su RDD.\n",
    "    Cada campo dentro del registro está separado por un ; . Separe cada campo del registro por\n",
    "    éste caracter.\n",
    "    Reporte las siguientes métricas:"
   ]
  },
  {
   "cell_type": "code",
   "execution_count": 1,
   "metadata": {},
   "outputs": [
    {
     "name": "stdout",
     "output_type": "stream",
     "text": [
      "Starting Spark application\n"
     ]
    },
    {
     "data": {
      "text/html": [
       "<table>\n",
       "<tr><th>ID</th><th>YARN Application ID</th><th>Kind</th><th>State</th><th>Spark UI</th><th>Driver log</th><th>Current session?</th></tr><tr><td>0</td><td>application_1575460809126_0001</td><td>pyspark3</td><td>idle</td><td><a target=\"_blank\" href=\"http://ip-172-31-95-14.ec2.internal:20888/proxy/application_1575460809126_0001/\">Link</a></td><td><a target=\"_blank\" href=\"http://ip-172-31-84-21.ec2.internal:8042/node/containerlogs/container_1575460809126_0001_01_000001/livy\">Link</a></td><td>✔</td></tr></table>"
      ],
      "text/plain": [
       "<IPython.core.display.HTML object>"
      ]
     },
     "metadata": {},
     "output_type": "display_data"
    },
    {
     "name": "stdout",
     "output_type": "stream",
     "text": [
      "SparkSession available as 'spark'.\n"
     ]
    }
   ],
   "source": [
    "sc #Se asume se autogeneran el conf y contex al estar trabajando dentro de aws con una instancia de spark"
   ]
  },
  {
   "cell_type": "code",
   "execution_count": 2,
   "metadata": {},
   "outputs": [],
   "source": [
    "df = sc.textFile('s3://bigdata-desafio/challenges/u4lec1/household_power_consumption.txt')"
   ]
  },
  {
   "cell_type": "code",
   "execution_count": 3,
   "metadata": {},
   "outputs": [],
   "source": [
    "header = df.first()\n",
    "header = sc.parallelize([header])\n",
    "df = df.subtract(header)"
   ]
  },
  {
   "cell_type": "code",
   "execution_count": 4,
   "metadata": {},
   "outputs": [],
   "source": [
    "df_proc = df\\\n",
    "            .map(lambda x: x.split(';'))\\\n",
    "            .map(lambda x: (str(x[0]),str(x[1]),str(x[2]),str(x[3]),str(x[4]),str(x[5]),str(x[6]),str(x[7]),str(x[8])))"
   ]
  },
  {
   "cell_type": "markdown",
   "metadata": {},
   "source": [
    "\n",
    "    La cantidad total de registros antes de eliminar los datos perdidos.\n",
    "    La cantidad total de registros nulos.\n",
    "    La cantidad de registros nulos por año. ¿En qué año hubo más registros nulos?\n",
    "    La cantidad de registros nulos por mes para el año con una mayor cantidad de registros\n",
    "    nulos. ¿En qué mes hubo más registros nulos?"
   ]
  },
  {
   "cell_type": "code",
   "execution_count": 5,
   "metadata": {},
   "outputs": [
    {
     "name": "stdout",
     "output_type": "stream",
     "text": [
      "la cantidad total de registros antes de eliminar es: 2075259"
     ]
    }
   ],
   "source": [
    "print('la cantidad total de registros antes de eliminar es:',df_proc.count())"
   ]
  },
  {
   "cell_type": "code",
   "execution_count": 6,
   "metadata": {},
   "outputs": [
    {
     "name": "stdout",
     "output_type": "stream",
     "text": [
      "la cantidad total de registros con datos nulos es: 25979"
     ]
    }
   ],
   "source": [
    "nulos = df_proc.keyBy(lambda x: (x[0],x[1]))\\\n",
    "    .filter(lambda x: '?' in x[1])\n",
    "print('la cantidad total de registros con datos nulos es:',nulos.count())"
   ]
  },
  {
   "cell_type": "code",
   "execution_count": 7,
   "metadata": {},
   "outputs": [],
   "source": [
    "perdidos_año = nulos\\\n",
    "                    .map(lambda x:x[0][0].split('/'))\\\n",
    "                    .map(lambda x: x[2])\\\n",
    "                    .map(lambda x: (x,1))\\\n",
    "                    .reduceByKey(lambda x,y : x+y)\\\n",
    "                    .sortBy(lambda x: x[1],ascending=False)\n",
    "\n",
    "perdidos_año_num = perdidos_año.collect()"
   ]
  },
  {
   "cell_type": "code",
   "execution_count": 8,
   "metadata": {},
   "outputs": [
    {
     "name": "stdout",
     "output_type": "stream",
     "text": [
      "El año con mas perdidos fue el 2010 \n",
      " **************************************************\n",
      "Para el año 2010 los datos perdidos fueron 17629\n",
      "Para el año 2009 los datos perdidos fueron 4280\n",
      "Para el año 2007 los datos perdidos fueron 3931\n",
      "Para el año 2008 los datos perdidos fueron 135\n",
      "Para el año 2006 los datos perdidos fueron 4"
     ]
    }
   ],
   "source": [
    "print('El año con mas perdidos fue el 2010','\\n','*'*50)\n",
    "for anio,cantidad in perdidos_año_num:\n",
    "    print('Para el año',anio,'los datos perdidos fueron',cantidad)"
   ]
  },
  {
   "cell_type": "code",
   "execution_count": 9,
   "metadata": {},
   "outputs": [],
   "source": [
    "get_nulos_2010 = nulos\\\n",
    "                    .filter(lambda x:x[0][0].split('/')[2] == '2010')\\\n",
    "                    .map(lambda x:x[0][0].split('/'))\\\n",
    "                    .map(lambda x: x[1])\\\n",
    "                    .map(lambda x: (x,1))\\\n",
    "                    .reduceByKey(lambda x,y : x+y)\\\n",
    "                    .sortBy(lambda x: x[1],ascending=False)\n",
    "\n",
    "get_nulos_2010_num = get_nulos_2010.collect()"
   ]
  },
  {
   "cell_type": "code",
   "execution_count": 10,
   "metadata": {},
   "outputs": [
    {
     "name": "stdout",
     "output_type": "stream",
     "text": [
      "El año con mas perdidos fue el mes 8 \n",
      " **************************************************\n",
      "Para el mes 8 los datos perdidos fueron 7226\n",
      "Para el mes 9 los datos perdidos fueron 5237\n",
      "Para el mes 1 los datos perdidos fueron 3131\n",
      "Para el mes 3 los datos perdidos fueron 2027\n",
      "Para el mes 2 los datos perdidos fueron 2\n",
      "Para el mes 6 los datos perdidos fueron 2\n",
      "Para el mes 4 los datos perdidos fueron 1\n",
      "Para el mes 7 los datos perdidos fueron 1\n",
      "Para el mes 5 los datos perdidos fueron 1\n",
      "Para el mes 10 los datos perdidos fueron 1"
     ]
    }
   ],
   "source": [
    "print('El año con mas perdidos fue el mes 8','\\n','*'*50)\n",
    "for mes,cantidad in get_nulos_2010_num:\n",
    "    print('Para el mes',mes,'los datos perdidos fueron',cantidad)"
   ]
  },
  {
   "cell_type": "markdown",
   "metadata": {},
   "source": [
    "### Ejercicio 2: Preparación de los datos"
   ]
  },
  {
   "cell_type": "markdown",
   "metadata": {},
   "source": [
    "Genere un objeto donde se encuentren sólo aquellos datos sin registros perdidos."
   ]
  },
  {
   "cell_type": "code",
   "execution_count": 11,
   "metadata": {},
   "outputs": [],
   "source": [
    "df_2 = df_proc.keyBy(lambda x: (x[0],x[1]))\\\n",
    "    .filter(lambda x: '?' not in x[1]).map(lambda x:x[1])"
   ]
  },
  {
   "cell_type": "markdown",
   "metadata": {},
   "source": [
    "Con el objeto sin datos perdidos, genere un objeto RDD donde los registro tengan la siguiente\n",
    "estructura:"
   ]
  },
  {
   "cell_type": "code",
   "execution_count": 12,
   "metadata": {},
   "outputs": [
    {
     "name": "stdout",
     "output_type": "stream",
     "text": [
      "[('16/12/2006', '17:34:00', '4.448', '0.498', '232.860', '19.600', '0.000', '1.000', '17.000')]"
     ]
    }
   ],
   "source": [
    "df_2.take(1)"
   ]
  },
  {
   "cell_type": "code",
   "execution_count": 97,
   "metadata": {},
   "outputs": [
    {
     "name": "stdout",
     "output_type": "stream",
     "text": [
      "[(2006, 12, 16, 3.666, 0.528, 235.68, 15.8, 0.0, 1.0, 17.0)]"
     ]
    }
   ],
   "source": [
    "df_proc_2 = df_2\\\n",
    "            .map(lambda x: (x[0].split('/'),x[2],x[3],x[4],x[5],x[6],x[7],x[8]))\\\n",
    "            .map(lambda x: (x[0][2],x[0][1],x[0][0],x[1],x[2],x[3],x[4],x[5],x[6],x[7]))\\\n",
    "            .map(lambda x: (int(x[0]),int(x[1]),int(x[2]),float(x[3]),float(x[4]),float(x[5]),float(x[6]),float(x[7]),float(x[8]),float(x[9])))\\\n",
    "            .sortBy(lambda x: x[0],ascending=True)\n",
    "\n",
    "print(df_proc_2.take(1))\n",
    "\n",
    "\n"
   ]
  },
  {
   "cell_type": "markdown",
   "metadata": {},
   "source": [
    "Devuelva con collect las primeras 5 observaciones"
   ]
  },
  {
   "cell_type": "code",
   "execution_count": 14,
   "metadata": {},
   "outputs": [
    {
     "name": "stdout",
     "output_type": "stream",
     "text": [
      "(2006, 12, 16, 3.668, 0.51, 233.99, 15.8, 0.0, 1.0)\n",
      "(2006, 12, 16, 3.758, 0.076, 234.17, 16.4, 0.0, 0.0)\n",
      "(2006, 12, 16, 4.512, 0.0, 233.62, 19.2, 0.0, 0.0)\n",
      "(2006, 12, 16, 4.058, 0.2, 234.68, 17.6, 0.0, 0.0)\n",
      "(2006, 12, 16, 6.474, 0.144, 231.85, 27.8, 0.0, 37.0)"
     ]
    }
   ],
   "source": [
    "for i in df_proc_2.collect()[0:5]:\n",
    "    print(i)"
   ]
  },
  {
   "cell_type": "markdown",
   "metadata": {},
   "source": [
    "### Ejercicio 3: Patrones globales"
   ]
  },
  {
   "cell_type": "markdown",
   "metadata": {},
   "source": [
    "    Extraiga la media, desviación estándar e intervalos de confianza (a .5 desviaciones estándar)\n",
    "    para las columnas global_activity_power , global_reactive_power , voltage y\n",
    "    global_intensity ."
   ]
  },
  {
   "cell_type": "markdown",
   "metadata": {},
   "source": [
    "##### global_activity_power"
   ]
  },
  {
   "cell_type": "code",
   "execution_count": 35,
   "metadata": {},
   "outputs": [
    {
     "name": "stdout",
     "output_type": "stream",
     "text": [
      "la media de global_activity_power es: 1.091615036500582"
     ]
    }
   ],
   "source": [
    "global_mean = df_proc_2\\\n",
    "                    .map(lambda x: x[3])\\\n",
    "                    .reduce(lambda x,y: x+y)/df_proc_2.count()\n",
    "print('la media de global_activity_power es:',global_mean)"
   ]
  },
  {
   "cell_type": "code",
   "execution_count": 41,
   "metadata": {},
   "outputs": [
    {
     "name": "stdout",
     "output_type": "stream",
     "text": [
      "La desviacion estandar correspode a: 1.0572941610939288"
     ]
    }
   ],
   "source": [
    "global_sd =  df_proc_2\\\n",
    "                .map(lambda x:x[3])\\\n",
    "                .map(lambda x: x - global_mean)\\\n",
    "                .map(lambda x: x**2)\\\n",
    "                .reduce(lambda x,y: x+y)/(df_proc_2.count()-1)\n",
    "print('La desviacion estandar correspode a:',global_sd**(1/2))"
   ]
  },
  {
   "cell_type": "code",
   "execution_count": 40,
   "metadata": {},
   "outputs": [
    {
     "name": "stdout",
     "output_type": "stream",
     "text": [
      "El intervalo de confianza corresponde a ( 0.5326795649589189 0.5326795649589189 )"
     ]
    }
   ],
   "source": [
    "print('El intervalo de confianza corresponde a (',global_mean-.5*global_sd,global_mean-.5*global_sd,')')"
   ]
  },
  {
   "cell_type": "code",
   "execution_count": 78,
   "metadata": {},
   "outputs": [],
   "source": [
    "def estadisticos(indice):\n",
    "    temp_df = df_proc_2\\\n",
    "                    .map(lambda x: x[indice])\n",
    "    mean = temp_df.mean()\n",
    "    sd = temp_df.stdev()\n",
    "    low = mean - .5*sd\n",
    "    up = mean + .5*sd\n",
    "    print('la media corresponde a:',mean)\n",
    "    print('la desviacion estandar corresponde a:',sd)\n",
    "    print('El intervalo de confianza corresponde a (',low,up,')')"
   ]
  },
  {
   "cell_type": "markdown",
   "metadata": {},
   "source": [
    "###### global_reactive_power"
   ]
  },
  {
   "cell_type": "code",
   "execution_count": 43,
   "metadata": {},
   "outputs": [
    {
     "name": "stdout",
     "output_type": "stream",
     "text": [
      "la media corresponde a: 0.12371447630387347\n",
      "la desviacion estandar corresponde a: 0.11272195204788803\n",
      "El intervalo de confianza corresponde a ( 0.06735350027992945 0.1800754523278175 )"
     ]
    }
   ],
   "source": [
    "estadisticos(4)"
   ]
  },
  {
   "cell_type": "markdown",
   "metadata": {},
   "source": [
    "###### voltage"
   ]
  },
  {
   "cell_type": "code",
   "execution_count": 44,
   "metadata": {},
   "outputs": [
    {
     "name": "stdout",
     "output_type": "stream",
     "text": [
      "la media corresponde a: 240.8398579745102\n",
      "la desviacion estandar corresponde a: 3.2399858884907893\n",
      "El intervalo de confianza corresponde a ( 239.21986503026483 242.4598509187556 )"
     ]
    }
   ],
   "source": [
    "estadisticos(5)"
   ]
  },
  {
   "cell_type": "markdown",
   "metadata": {},
   "source": [
    "###### global_intensity "
   ]
  },
  {
   "cell_type": "code",
   "execution_count": 45,
   "metadata": {},
   "outputs": [
    {
     "name": "stdout",
     "output_type": "stream",
     "text": [
      "la media corresponde a: 4.6277593105870904\n",
      "la desviacion estandar corresponde a: 4.444395175406088\n",
      "El intervalo de confianza corresponde a ( 2.4055617228840465 6.849956898290134 )"
     ]
    }
   ],
   "source": [
    "estadisticos(6)"
   ]
  },
  {
   "cell_type": "markdown",
   "metadata": {},
   "source": [
    "### Ejercicio 4: Patrón temporal"
   ]
  },
  {
   "cell_type": "markdown",
   "metadata": {},
   "source": [
    "    Reporte el promedio de global_activity_power a nivel mensual y anual. Genere un objeto\n",
    "    con la acción collectAsMap() del RDD procesado."
   ]
  },
  {
   "cell_type": "code",
   "execution_count": 76,
   "metadata": {},
   "outputs": [
    {
     "name": "stdout",
     "output_type": "stream",
     "text": [
      "para el mes: 6 se tiene un promedio de: 0.07517479504996832\n",
      "para el mes: 12 se tiene un promedio de: 0.11328679829012811\n",
      "para el mes: 1 se tiene un promedio de: 0.1251712357510941\n",
      "para el mes: 7 se tiene un promedio de: 0.06097724273891266\n",
      "para el mes: 2 se tiene un promedio de: 0.1032136916380406\n",
      "para el mes: 8 se tiene un promedio de: 0.047635324601811184\n",
      "para el mes: 3 se tiene un promedio de: 0.10607026370237621\n",
      "para el mes: 9 se tiene un promedio de: 0.07977357218145009\n",
      "para el mes: 4 se tiene un promedio de: 0.08639380953310453\n",
      "para el mes: 10 se tiene un promedio de: 0.09905649984384787\n",
      "para el mes: 5 se tiene un promedio de: 0.08970612215021889\n",
      "para el mes: 11 se tiene un promedio de: 0.10515568101967883"
     ]
    }
   ],
   "source": [
    "total = df_proc_2.count()\n",
    "prom_mes = df_proc_2.map(lambda x: (x[1],x[3]))\\\n",
    "                .reduceByKey(lambda x,y: x+y)\\\n",
    "                .map(lambda x: (x[0],x[1]/total)).collectAsMap()\n",
    "\n",
    "for mes,prom in prom_mes.items():\n",
    "    print('para el mes:',mes,'se tiene un promedio de:',prom)"
   ]
  },
  {
   "cell_type": "code",
   "execution_count": 77,
   "metadata": {},
   "outputs": [
    {
     "name": "stdout",
     "output_type": "stream",
     "text": [
      "para el año: 2010 se tiene un promedio de: 0.23681249121642517\n",
      "para el año: 2006 se tiene un promedio de: 0.02040388917083071\n",
      "para el año: 2007 se tiene un promedio de: 0.28434776409275947\n",
      "para el año: 2008 se tiene un promedio de: 0.2756544220408781\n",
      "para el año: 2009 se tiene un promedio de: 0.27439646997969647"
     ]
    }
   ],
   "source": [
    "prom_anual = df_proc_2.map(lambda x: (x[0],x[3]))\\\n",
    "                .reduceByKey(lambda x,y: x+y)\\\n",
    "                .map(lambda x: (x[0],x[1]/total)).collectAsMap()\n",
    "\n",
    "for mes,prom in prom_anual.items():\n",
    "    print('para el año:',mes,'se tiene un promedio de:',prom)"
   ]
  },
  {
   "cell_type": "markdown",
   "metadata": {},
   "source": [
    "\n",
    "    \n",
    "    Reporte todas aquellos registros que presenten un promedio de global_activity_power\n",
    "    superior a .5 desviaciones estándares. ¿A qué meses y años corresponden?\n",
    "    \n",
    "    Reporte todos aquellos registros que presenten un promedio de global_activity_power\n",
    "    inferior a .5 desviaciones estándares. ¿A qué meses y años corresponden?"
   ]
  },
  {
   "cell_type": "code",
   "execution_count": 79,
   "metadata": {},
   "outputs": [],
   "source": [
    "# Estos datos se obtienen en la pregunta 3\n",
    "low = 0.5326795649589189\n",
    "up = 0.5326795649589189"
   ]
  },
  {
   "cell_type": "code",
   "execution_count": 80,
   "metadata": {},
   "outputs": [],
   "source": [
    "superior = df_proc_2.filter(lambda x: x[3]>up)\\\n",
    "                .map(lambda x: (x[0],x[1],x[3]))\n",
    "inferior = df_proc_2.filter(lambda x: x[3]<low)\\\n",
    "                .map(lambda x: (x[0],x[1],x[3]))"
   ]
  },
  {
   "cell_type": "markdown",
   "metadata": {},
   "source": [
    "##### Superior"
   ]
  },
  {
   "cell_type": "code",
   "execution_count": 88,
   "metadata": {},
   "outputs": [
    {
     "name": "stdout",
     "output_type": "stream",
     "text": [
      "el mes corresponde a: 12 con un valor de: 1.792\n",
      "el mes corresponde a: 1 con un valor de: 0.932\n",
      "el mes corresponde a: 2 con un valor de: 0.826\n",
      "el mes corresponde a: 3 con un valor de: 0.562\n",
      "el mes corresponde a: 4 con un valor de: 0.9\n",
      "el mes corresponde a: 5 con un valor de: 0.62\n",
      "el mes corresponde a: 6 con un valor de: 3.73\n",
      "el mes corresponde a: 7 con un valor de: 0.666\n",
      "el mes corresponde a: 8 con un valor de: 1.228\n",
      "el mes corresponde a: 9 con un valor de: 1.17\n",
      "el mes corresponde a: 10 con un valor de: 2.46\n",
      "el mes corresponde a: 11 con un valor de: 1.024"
     ]
    }
   ],
   "source": [
    "#mes\n",
    "for mes,val in superior.map(lambda x: (x[1],x[2])).collectAsMap().items():\n",
    "    print('el mes corresponde a:',mes,'con un valor de:',val )"
   ]
  },
  {
   "cell_type": "code",
   "execution_count": 89,
   "metadata": {},
   "outputs": [
    {
     "name": "stdout",
     "output_type": "stream",
     "text": [
      "el anio corresponde a: 2006 con un valor de: 2.586\n",
      "el anio corresponde a: 2007 con un valor de: 1.732\n",
      "el anio corresponde a: 2008 con un valor de: 0.556\n",
      "el anio corresponde a: 2009 con un valor de: 1.792\n",
      "el anio corresponde a: 2010 con un valor de: 1.024"
     ]
    }
   ],
   "source": [
    "#año\n",
    "for anio,val in superior.map(lambda x: (x[0],x[2])).collectAsMap().items():\n",
    "    print('el anio corresponde a:',anio,'con un valor de:',val )"
   ]
  },
  {
   "cell_type": "markdown",
   "metadata": {},
   "source": [
    "##### Inferior"
   ]
  },
  {
   "cell_type": "code",
   "execution_count": 92,
   "metadata": {},
   "outputs": [
    {
     "name": "stdout",
     "output_type": "stream",
     "text": [
      "el mes corresponde a: 12 con un valor de: 0.49\n",
      "el mes corresponde a: 1 con un valor de: 0.306\n",
      "el mes corresponde a: 2 con un valor de: 0.392\n",
      "el mes corresponde a: 3 con un valor de: 0.442\n",
      "el mes corresponde a: 4 con un valor de: 0.348\n",
      "el mes corresponde a: 5 con un valor de: 0.326\n",
      "el mes corresponde a: 6 con un valor de: 0.422\n",
      "el mes corresponde a: 7 con un valor de: 0.152\n",
      "el mes corresponde a: 8 con un valor de: 0.434\n",
      "el mes corresponde a: 9 con un valor de: 0.324\n",
      "el mes corresponde a: 10 con un valor de: 0.444\n",
      "el mes corresponde a: 11 con un valor de: 0.522\n",
      "\n",
      " **************************************************************************************************** \n",
      "\n",
      "el anio corresponde a: 2006 con un valor de: 0.428\n",
      "el anio corresponde a: 2007 con un valor de: 0.442\n",
      "el anio corresponde a: 2008 con un valor de: 0.48\n",
      "el anio corresponde a: 2009 con un valor de: 0.356\n",
      "el anio corresponde a: 2010 con un valor de: 0.514"
     ]
    }
   ],
   "source": [
    "for mes,val in inferior.map(lambda x: (x[1],x[2])).collectAsMap().items():\n",
    "    print('el mes corresponde a:',mes,'con un valor de:',val )\n",
    "print('\\n','*'*100,'\\n')\n",
    "for anio,val in inferior.map(lambda x: (x[0],x[2])).collectAsMap().items():\n",
    "    print('el anio corresponde a:',anio,'con un valor de:',val )"
   ]
  },
  {
   "cell_type": "markdown",
   "metadata": {},
   "source": [
    "### Ejercicio 5: Consumo energético general"
   ]
  },
  {
   "cell_type": "code",
   "execution_count": 103,
   "metadata": {},
   "outputs": [],
   "source": [
    "ejer_5 = df_proc_2.map(lambda x: (x[0],x[1],x[2],x[3]*(1000/60)-x[7]-x[8]-x[9]))"
   ]
  },
  {
   "cell_type": "code",
   "execution_count": null,
   "metadata": {},
   "outputs": [],
   "source": [
    "total = ejer_5.count()"
   ]
  },
  {
   "cell_type": "code",
   "execution_count": 104,
   "metadata": {},
   "outputs": [
    {
     "name": "stdout",
     "output_type": "stream",
     "text": [
      "para el año: 2010 se tiene un promedio de: 1.8637197942693506\n",
      "para el año: 2006 se tiene un promedio de: 0.22337847113782994\n",
      "para el año: 2007 se tiene un promedio de: 2.53359965451286\n",
      "para el año: 2008 se tiene un promedio de: 2.43451792824787\n",
      "para el año: 2009 se tiene un promedio de: 2.2594774587496715"
     ]
    }
   ],
   "source": [
    "prom_anual = ejer_5.map(lambda x: (x[0],x[3]))\\\n",
    "                .reduceByKey(lambda x,y: x+y)\\\n",
    "                .map(lambda x: (x[0],x[1]/total)).collectAsMap()\n",
    "\n",
    "for anio,prom in prom_anual.items():\n",
    "    print('para el año:',anio,'se tiene un promedio de:',prom)"
   ]
  },
  {
   "cell_type": "code",
   "execution_count": 107,
   "metadata": {},
   "outputs": [
    {
     "name": "stdout",
     "output_type": "stream",
     "text": [
      "para el mes: 6 se tiene un promedio de: 0.5296201918072017\n",
      "para el mes: 12 se tiene un promedio de: 1.0850610132989773\n",
      "para el mes: 1 se tiene un promedio de: 1.1660060281334588\n",
      "para el mes: 7 se tiene un promedio de: 0.49601440505934175\n",
      "para el mes: 2 se tiene un promedio de: 0.9181230643608138\n",
      "para el mes: 8 se tiene un promedio de: 0.3639266636737451\n",
      "para el mes: 3 se tiene un promedio de: 0.9187439002966964\n",
      "para el mes: 9 se tiene un promedio de: 0.6184473408546721\n",
      "para el mes: 4 se tiene un promedio de: 0.7033761939152602\n",
      "para el mes: 10 se tiene un promedio de: 0.8553110035394591\n",
      "para el mes: 5 se tiene un promedio de: 0.6900617289975031\n",
      "para el mes: 11 se tiene un promedio de: 0.9700017729804252"
     ]
    }
   ],
   "source": [
    "prom_mes = ejer_5.map(lambda x: (x[1],x[3]))\\\n",
    "                .reduceByKey(lambda x,y: x+y)\\\n",
    "                .map(lambda x: (x[0],x[1]/total)).collectAsMap()\n",
    "\n",
    "for mes,prom in prom_mes.items():\n",
    "    print('para el mes:',mes,'se tiene un promedio de:',prom)"
   ]
  },
  {
   "cell_type": "code",
   "execution_count": 108,
   "metadata": {},
   "outputs": [
    {
     "name": "stdout",
     "output_type": "stream",
     "text": [
      "para el dia: 18 se tiene un promedio de: 0.3135484820685004\n",
      "para el dia: 24 se tiene un promedio de: 0.3210408045752651\n",
      "para el dia: 30 se tiene un promedio de: 0.2741726525088479\n",
      "para el dia: 6 se tiene un promedio de: 0.3132560216271068\n",
      "para el dia: 12 se tiene un promedio de: 0.2966495386997707\n",
      "para el dia: 7 se tiene un promedio de: 0.3035895046064953\n",
      "para el dia: 13 se tiene un promedio de: 0.28871065284717834\n",
      "para el dia: 19 se tiene un promedio de: 0.29700463902769064\n",
      "para el dia: 25 se tiene un promedio de: 0.3069840626951916\n",
      "para el dia: 31 se tiene un promedio de: 0.19768138077763814\n",
      "para el dia: 1 se tiene un promedio de: 0.3004688150635016\n",
      "para el dia: 20 se tiene un promedio de: 0.30882903588902916\n",
      "para el dia: 26 se tiene un promedio de: 0.2818557737351675\n",
      "para el dia: 2 se tiene un promedio de: 0.2862574497709761\n",
      "para el dia: 8 se tiene un promedio de: 0.30963566065479836\n",
      "para el dia: 14 se tiene un promedio de: 0.29817653029356606\n",
      "para el dia: 3 se tiene un promedio de: 0.2817147811263799\n",
      "para el dia: 9 se tiene un promedio de: 0.2999171090984806\n",
      "para el dia: 15 se tiene un promedio de: 0.3114297541900904\n",
      "para el dia: 21 se tiene un promedio de: 0.30347717247032985\n",
      "para el dia: 27 se tiene un promedio de: 0.29924337653549893\n",
      "para el dia: 4 se tiene un promedio de: 0.3179931813449926\n",
      "para el dia: 10 se tiene un promedio de: 0.3119733272173631\n",
      "para el dia: 16 se tiene un promedio de: 0.32182581199250465\n",
      "para el dia: 22 se tiene un promedio de: 0.3066218053820535\n",
      "para el dia: 28 se tiene un promedio de: 0.2792944188527999\n",
      "para el dia: 5 se tiene un promedio de: 0.31155975106704165\n",
      "para el dia: 11 se tiene un promedio de: 0.324016988080367\n",
      "para el dia: 17 se tiene un promedio de: 0.32666370627732744\n",
      "para el dia: 23 se tiene un promedio de: 0.3324680863522794\n",
      "para el dia: 29 se tiene un promedio de: 0.28863303208931873"
     ]
    }
   ],
   "source": [
    "prom_dia = ejer_5.map(lambda x: (x[2],x[3]))\\\n",
    "                .reduceByKey(lambda x,y: x+y)\\\n",
    "                .map(lambda x: (x[0],x[1]/total)).collectAsMap()\n",
    "\n",
    "for dia,prom in prom_dia.items():\n",
    "    print('para el dia:',dia,'se tiene un promedio de:',prom)"
   ]
  },
  {
   "cell_type": "code",
   "execution_count": null,
   "metadata": {},
   "outputs": [],
   "source": []
  }
 ],
 "metadata": {
  "kernelspec": {
   "display_name": "PySpark3",
   "language": "",
   "name": "pyspark3kernel"
  },
  "language_info": {
   "codemirror_mode": {
    "name": "python",
    "version": 3
   },
   "mimetype": "text/x-python",
   "name": "pyspark3",
   "pygments_lexer": "python3"
  }
 },
 "nbformat": 4,
 "nbformat_minor": 2
}
