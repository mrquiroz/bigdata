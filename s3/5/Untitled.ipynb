{
 "cells": [
  {
   "cell_type": "code",
   "execution_count": 1,
   "metadata": {},
   "outputs": [
    {
     "name": "stdout",
     "output_type": "stream",
     "text": [
      "Starting Spark application\n"
     ]
    },
    {
     "data": {
      "text/html": [
       "<table>\n",
       "<tr><th>ID</th><th>YARN Application ID</th><th>Kind</th><th>State</th><th>Spark UI</th><th>Driver log</th><th>Current session?</th></tr><tr><td>0</td><td>application_1575345745729_0001</td><td>pyspark3</td><td>idle</td><td><a target=\"_blank\" href=\"http://ip-172-31-82-228.ec2.internal:20888/proxy/application_1575345745729_0001/\">Link</a></td><td><a target=\"_blank\" href=\"http://ip-172-31-92-198.ec2.internal:8042/node/containerlogs/container_1575345745729_0001_01_000001/livy\">Link</a></td><td>✔</td></tr></table>"
      ],
      "text/plain": [
       "<IPython.core.display.HTML object>"
      ]
     },
     "metadata": {},
     "output_type": "display_data"
    },
    {
     "name": "stdout",
     "output_type": "stream",
     "text": [
      "SparkSession available as 'spark'.\n",
      "<SparkContext master=yarn appName=livy-session-0>"
     ]
    }
   ],
   "source": [
    "sc"
   ]
  },
  {
   "cell_type": "code",
   "execution_count": 2,
   "metadata": {},
   "outputs": [],
   "source": [
    "bike_station_data = sc.textFile('s3://bigdata-desafio/lecture-replication-data/bike-share/stations.csv')\n",
    "bike_status =  sc.textFile('s3://bigdata-desafio/lecture-replication-data/bike-share/status.csv')"
   ]
  },
  {
   "cell_type": "code",
   "execution_count": 3,
   "metadata": {},
   "outputs": [
    {
     "name": "stdout",
     "output_type": "stream",
     "text": [
      "['10,9,6,\"2015-02-28 23:59:01\"']"
     ]
    }
   ],
   "source": [
    "bike_status.take(1)"
   ]
  },
  {
   "cell_type": "code",
   "execution_count": 6,
   "metadata": {},
   "outputs": [],
   "source": [
    "bike_station_proc = bike_station_data\\\n",
    "                    .map(lambda x: x.split(','))\\\n",
    "                    .map(lambda x: (int(x[0]),str(x[1]),float(x[2]),float(x[3]),int(x[4]),str(x[5]),str(x[6])))"
   ]
  },
  {
   "cell_type": "code",
   "execution_count": 8,
   "metadata": {},
   "outputs": [
    {
     "name": "stdout",
     "output_type": "stream",
     "text": [
      "[(2, 'San Jose Diridon Caltrain Station', 37.329732, -121.901782, 27, 'San Jose', '8/6/2013'), (3, 'San Jose Civic Center', 37.330698, -121.888979, 15, 'San Jose', '8/5/2013'), (4, 'Santa Clara at Almaden', 37.333988, -121.894902, 11, 'San Jose', '8/6/2013')]"
     ]
    }
   ],
   "source": [
    "bike_station_proc.take(3)"
   ]
  },
  {
   "cell_type": "code",
   "execution_count": 10,
   "metadata": {},
   "outputs": [],
   "source": [
    "bike_status_proc = bike_status\\\n",
    "                    .map(lambda x: x.split(','))\\\n",
    "                    .map(lambda x: (x[0],x[1],x[2],x[3].replace('\"','')))\\\n",
    "                    .map(lambda x: (x[0],x[1],x[2],x[3].split(' ')))\\\n",
    "                    .map(lambda x: (x[0],x[1],x[2],x[3][0].split('-'),x[3][1].split(':')))\\\n",
    "                    .map(lambda x: (int(x[0]),int(x[1]),int(x[2]),int(x[3][0]),int(x[3][1]),int(x[3][2]),int(x[4][0])))"
   ]
  },
  {
   "cell_type": "code",
   "execution_count": 11,
   "metadata": {},
   "outputs": [
    {
     "name": "stdout",
     "output_type": "stream",
     "text": [
      "[(10, 9, 6, 2015, 2, 28, 23)]"
     ]
    }
   ],
   "source": [
    "bike_status_proc.take(1)"
   ]
  },
  {
   "cell_type": "code",
   "execution_count": 16,
   "metadata": {},
   "outputs": [],
   "source": [
    "get_station_by_city = bike_station_proc\\\n",
    "                        .map(lambda x:x[5])\\\n",
    "                        .map(lambda x: (x,1))\\\n",
    "                        .reduceByKey(lambda x,y : x+y)\\\n",
    "                        .sortBy(lambda x: x[1],ascending=False)\n",
    "\n",
    "get_station_by_city_num = get_station_by_city.collect()"
   ]
  },
  {
   "cell_type": "code",
   "execution_count": 14,
   "metadata": {},
   "outputs": [
    {
     "name": "stdout",
     "output_type": "stream",
     "text": [
      "['San Jose', 'San Jose', 'San Jose', 'San Jose', 'San Jose', 'San Jose', 'San Jose', 'San Jose', 'San Jose', 'San Jose', 'San Jose', 'San Jose', 'San Jose', 'San Jose', 'Redwood City', 'Redwood City', 'Redwood City', 'Redwood City', 'Redwood City', 'Redwood City', 'Mountain View', 'Mountain View', 'Mountain View', 'Mountain View', 'Mountain View', 'Mountain View', 'Mountain View', 'Palo Alto', 'Palo Alto', 'Palo Alto', 'Palo Alto', 'Palo Alto', 'San Francisco', 'San Francisco', 'San Francisco', 'San Francisco', 'San Francisco', 'San Francisco', 'San Francisco', 'San Francisco', 'San Francisco', 'San Francisco', 'San Francisco', 'San Francisco', 'San Francisco', 'San Francisco', 'San Francisco', 'San Francisco', 'San Francisco', 'San Francisco', 'San Francisco', 'San Francisco', 'San Francisco', 'San Francisco', 'San Francisco', 'San Francisco', 'San Francisco', 'San Francisco', 'San Francisco', 'San Francisco', 'San Francisco', 'San Francisco', 'San Francisco', 'San Francisco', 'San Francisco', 'San Francisco', 'San Jose', 'San Francisco', 'Redwood City', 'San Jose']"
     ]
    }
   ],
   "source": [
    "get_station_by_city.collect()"
   ]
  },
  {
   "cell_type": "code",
   "execution_count": 17,
   "metadata": {},
   "outputs": [
    {
     "name": "stdout",
     "output_type": "stream",
     "text": [
      "[('San Francisco', 35), ('San Jose', 16), ('Redwood City', 7), ('Mountain View', 7), ('Palo Alto', 5)]"
     ]
    }
   ],
   "source": [
    "\n",
    "get_station_by_city_num"
   ]
  },
  {
   "cell_type": "code",
   "execution_count": 18,
   "metadata": {},
   "outputs": [
    {
     "name": "stdout",
     "output_type": "stream",
     "text": [
      "[('San Francisco', 41), ('San Francisco', 42), ('San Francisco', 45), ('San Francisco', 46), ('San Francisco', 47), ('San Francisco', 48), ('San Francisco', 49), ('San Francisco', 50), ('San Francisco', 51), ('San Francisco', 39), ('San Francisco', 54), ('San Francisco', 55), ('San Francisco', 56), ('San Francisco', 57), ('San Francisco', 58), ('San Francisco', 59), ('San Francisco', 60), ('San Francisco', 61), ('San Francisco', 62), ('San Francisco', 63), ('San Francisco', 64), ('San Francisco', 65), ('San Francisco', 66), ('San Francisco', 67), ('San Francisco', 68), ('San Francisco', 69), ('San Francisco', 70), ('San Francisco', 71), ('San Francisco', 72), ('San Francisco', 73), ('San Francisco', 74), ('San Francisco', 75), ('San Francisco', 76), ('San Francisco', 77), ('San Francisco', 82)]"
     ]
    }
   ],
   "source": [
    "get_frisco_station_id = bike_station_proc\\\n",
    "                        .filter(lambda x: x[5] == 'San Francisco')\\\n",
    "                        .map(lambda x: (x[5],x[0]))\\\n",
    "                        .collect()\n",
    "print(get_frisco_station_id)"
   ]
  },
  {
   "cell_type": "code",
   "execution_count": 20,
   "metadata": {},
   "outputs": [],
   "source": [
    "def get_frisco_id(x):\n",
    "    if x >= 41 and x <= 82:\n",
    "        return x"
   ]
  },
  {
   "cell_type": "code",
   "execution_count": 21,
   "metadata": {},
   "outputs": [],
   "source": [
    "get_frisco_status = bike_status_proc\\\n",
    "                    .filter(lambda x: get_frisco_id(x[0]))"
   ]
  },
  {
   "cell_type": "code",
   "execution_count": 22,
   "metadata": {},
   "outputs": [
    {
     "name": "stdout",
     "output_type": "stream",
     "text": [
      "453600"
     ]
    }
   ],
   "source": [
    "num = get_frisco_status.count()\n",
    "num"
   ]
  },
  {
   "cell_type": "code",
   "execution_count": 23,
   "metadata": {},
   "outputs": [],
   "source": [
    "get_station_range = bike_station_proc\\\n",
    "                    .map(lambda x: (x[5],x[0]))\\\n",
    "                    .groupByKey()\\\n",
    "                    .map(lambda x: (x[0],list(x[1])))"
   ]
  },
  {
   "cell_type": "code",
   "execution_count": 24,
   "metadata": {},
   "outputs": [
    {
     "name": "stdout",
     "output_type": "stream",
     "text": [
      "[('Redwood City', [21, 22, 23, 24, 25, 26, 83]), ('Mountain View', [27, 28, 29, 30, 31, 32, 33]), ('San Francisco', [41, 42, 45, 46, 47, 48, 49, 50, 51, 39, 54, 55, 56, 57, 58, 59, 60, 61, 62, 63, 64, 65, 66, 67, 68, 69, 70, 71, 72, 73, 74, 75, 76, 77, 82]), ('San Jose', [2, 3, 4, 5, 6, 7, 8, 9, 10, 11, 12, 13, 14, 16, 80, 84]), ('Palo Alto', [34, 35, 36, 37, 38])]"
     ]
    }
   ],
   "source": [
    "get_station_range.collect()"
   ]
  },
  {
   "cell_type": "code",
   "execution_count": null,
   "metadata": {},
   "outputs": [],
   "source": [
    "for station in get_station_range.collect():\n",
    "    tmp_key = bike_status_proc\\\n",
    "                .filter(lambda x: x[0] in station[1])"
   ]
  },
  {
   "cell_type": "code",
   "execution_count": null,
   "metadata": {},
   "outputs": [],
   "source": []
  },
  {
   "cell_type": "code",
   "execution_count": 28,
   "metadata": {},
   "outputs": [],
   "source": [
    "station_key_value = bike_station_proc.keyBy(lambda x: x[0])\n",
    "status_key_value = bike_status_proc.keyBy(lambda x: x[0])"
   ]
  },
  {
   "cell_type": "code",
   "execution_count": 27,
   "metadata": {},
   "outputs": [
    {
     "name": "stdout",
     "output_type": "stream",
     "text": [
      "[(2, (2, 'San Jose Diridon Caltrain Station', 37.329732, -121.901782, 27, 'San Jose', '8/6/2013')), (3, (3, 'San Jose Civic Center', 37.330698, -121.888979, 15, 'San Jose', '8/5/2013')), (4, (4, 'Santa Clara at Almaden', 37.333988, -121.894902, 11, 'San Jose', '8/6/2013')), (5, (5, 'Adobe on Almaden', 37.331415, -121.8932, 19, 'San Jose', '8/5/2013')), (6, (6, 'San Pedro Square', 37.336721, -121.894074, 15, 'San Jose', '8/7/2013')), (7, (7, 'Paseo de San Antonio', 37.333798, -121.886943, 15, 'San Jose', '8/7/2013')), (8, (8, 'San Salvador at 1st', 37.330165, -121.885831, 15, 'San Jose', '8/5/2013')), (9, (9, 'Japantown', 37.348742, -121.894715, 15, 'San Jose', '8/5/2013')), (10, (10, 'San Jose City Hall', 37.337391, -121.886995, 15, 'San Jose', '8/6/2013')), (11, (11, 'MLK Library', 37.335885, -121.88566, 19, 'San Jose', '8/6/2013')), (12, (12, 'SJSU 4th at San Carlos', 37.332808, -121.883891, 19, 'San Jose', '8/7/2013')), (13, (13, 'St James Park', 37.339301, -121.889937, 15, 'San Jose', '8/6/2013')), (14, (14, 'Arena Green / SAP Center', 37.332692, -121.900084, 19, 'San Jose', '8/5/2013')), (16, (16, 'SJSU - San Salvador at 9th', 37.333955, -121.877349, 15, 'San Jose', '8/7/2013')), (21, (21, 'Franklin at Maple', 37.481758, -122.226904, 15, 'Redwood City', '8/12/2013')), (22, (22, 'Redwood City Caltrain Station', 37.486078, -122.232089, 25, 'Redwood City', '8/15/2013')), (23, (23, 'San Mateo County Center', 37.487616, -122.229951, 15, 'Redwood City', '8/15/2013')), (24, (24, 'Redwood City Public Library', 37.484219, -122.227424, 15, 'Redwood City', '8/12/2013')), (25, (25, 'Stanford in Redwood City', 37.48537, -122.203288, 15, 'Redwood City', '8/12/2013')), (26, (26, 'Redwood City Medical Center', 37.487682, -122.223492, 15, 'Redwood City', '8/12/2013')), (27, (27, 'Mountain View City Hall', 37.389218, -122.081896, 15, 'Mountain View', '8/16/2013')), (28, (28, 'Mountain View Caltrain Station', 37.394358, -122.076713, 23, 'Mountain View', '8/15/2013')), (29, (29, 'San Antonio Caltrain Station', 37.40694, -122.106758, 23, 'Mountain View', '8/15/2013')), (30, (30, 'Evelyn Park and Ride', 37.390277, -122.066553, 15, 'Mountain View', '8/16/2013')), (31, (31, 'San Antonio Shopping Center', 37.400443, -122.108338, 15, 'Mountain View', '12/31/2013')), (32, (32, 'Castro Street and El Camino Real', 37.385956, -122.083678, 11, 'Mountain View', '12/31/2013')), (33, (33, 'Rengstorff Avenue / California Street', 37.400241, -122.099076, 15, 'Mountain View', '8/16/2013')), (34, (34, 'Palo Alto Caltrain Station', 37.443988, -122.164759, 23, 'Palo Alto', '8/14/2013')), (35, (35, 'University and Emerson', 37.444521, -122.163093, 11, 'Palo Alto', '8/15/2013')), (36, (36, 'California Ave Caltrain Station', 37.429082, -122.142805, 15, 'Palo Alto', '8/14/2013')), (37, (37, 'Cowper at University', 37.448598, -122.159504, 11, 'Palo Alto', '8/14/2013')), (38, (38, 'Park at Olive', 37.4256839, -122.1377775, 15, 'Palo Alto', '8/14/2013')), (41, (41, 'Clay at Battery', 37.795001, -122.39997, 15, 'San Francisco', '8/19/2013')), (42, (42, 'Davis at Jackson', 37.79728, -122.398436, 15, 'San Francisco', '8/19/2013')), (45, (45, 'Commercial at Montgomery', 37.794231, -122.402923, 15, 'San Francisco', '8/19/2013')), (46, (46, 'Washington at Kearney', 37.795425, -122.404767, 15, 'San Francisco', '8/19/2013')), (47, (47, 'Post at Kearney', 37.788975, -122.403452, 19, 'San Francisco', '8/19/2013')), (48, (48, 'Embarcadero at Vallejo', 37.799953, -122.398525, 15, 'San Francisco', '8/19/2013')), (49, (49, 'Spear at Folsom', 37.790302, -122.390637, 19, 'San Francisco', '8/20/2013')), (50, (50, 'Harry Bridges Plaza (Ferry Building)', 37.795392, -122.394203, 23, 'San Francisco', '8/20/2013')), (51, (51, 'Embarcadero at Folsom', 37.791464, -122.391034, 19, 'San Francisco', '8/20/2013')), (39, (39, 'Powell Street BART', 37.783871, -122.408433, 19, 'San Francisco', '8/25/2013')), (54, (54, 'Embarcadero at Bryant', 37.787152, -122.388013, 15, 'San Francisco', '8/20/2013')), (55, (55, 'Temporary Transbay Terminal (Howard at Beale)', 37.789756, -122.394643, 23, 'San Francisco', '8/20/2013')), (56, (56, 'Beale at Market', 37.792251, -122.397086, 19, 'San Francisco', '8/20/2013')), (57, (57, '5th at Howard', 37.781752, -122.405127, 15, 'San Francisco', '8/21/2013')), (58, (58, 'San Francisco City Hall', 37.77865, -122.418235, 19, 'San Francisco', '8/21/2013')), (59, (59, 'Golden Gate at Polk', 37.781332, -122.418603, 23, 'San Francisco', '8/21/2013')), (60, (60, 'Embarcadero at Sansome', 37.80477, -122.403234, 15, 'San Francisco', '8/21/2013')), (61, (61, '2nd at Townsend', 37.780526, -122.390288, 27, 'San Francisco', '8/22/2013')), (62, (62, '2nd at Folsom', 37.785299, -122.396236, 19, 'San Francisco', '8/22/2013')), (63, (63, 'Howard at 2nd', 37.786978, -122.398108, 19, 'San Francisco', '8/22/2013')), (64, (64, '2nd at South Park', 37.782259, -122.392738, 15, 'San Francisco', '8/22/2013')), (65, (65, 'Townsend at 7th', 37.771058, -122.402717, 15, 'San Francisco', '8/22/2013')), (66, (66, 'South Van Ness at Market', 37.774814, -122.418954, 19, 'San Francisco', '8/23/2013')), (67, (67, 'Market at 10th', 37.776619, -122.417385, 27, 'San Francisco', '8/23/2013')), (68, (68, 'Yerba Buena Center of the Arts (3rd @ Howard)', 37.784878, -122.401014, 19, 'San Francisco', '8/23/2013')), (69, (69, 'San Francisco Caltrain 2 (330 Townsend)', 37.7766, -122.39547, 23, 'San Francisco', '8/23/2013')), (70, (70, 'San Francisco Caltrain (Townsend at 4th)', 37.776617, -122.39526, 19, 'San Francisco', '8/23/2013')), (71, (71, 'Powell at Post (Union Square)', 37.788446, -122.408499, 19, 'San Francisco', '8/23/2013')), (72, (72, 'Civic Center BART (7th at Market)', 37.781039, -122.411748, 23, 'San Francisco', '8/23/2013')), (73, (73, 'Grant Avenue at Columbus Avenue', 37.798522, -122.407245, 15, 'San Francisco', '8/21/2013')), (74, (74, 'Steuart at Market', 37.794139, -122.394434, 23, 'San Francisco', '8/25/2013')), (75, (75, 'Mechanics Plaza (Market at Battery)', 37.7913, -122.399051, 19, 'San Francisco', '8/25/2013')), (76, (76, 'Market at 4th', 37.786305, -122.404966, 19, 'San Francisco', '8/25/2013')), (77, (77, 'Market at Sansome', 37.789625, -122.400811, 27, 'San Francisco', '8/25/2013')), (80, (80, 'Santa Clara County Civic Center', 37.352601, -121.905733, 15, 'San Jose', '12/31/2013')), (82, (82, 'Broadway St at Battery St', 37.798541, -122.400862, 15, 'San Francisco', '1/22/2014')), (83, (83, 'Mezes Park', 37.491269, -122.236234, 15, 'Redwood City', '2/20/2014')), (84, (84, 'Ryland Park', 37.342725, -121.895617, 15, 'San Jose', '4/9/2014'))]"
     ]
    }
   ],
   "source": []
  },
  {
   "cell_type": "code",
   "execution_count": 39,
   "metadata": {},
   "outputs": [],
   "source": [
    "join_values = status_key_value.join(station_key_value)"
   ]
  },
  {
   "cell_type": "code",
   "execution_count": 40,
   "metadata": {},
   "outputs": [
    {
     "name": "stdout",
     "output_type": "stream",
     "text": [
      "[(12, ((12, 10, 9, 2015, 2, 28, 23), (12, 'SJSU 4th at San Carlos', 37.332808, -121.883891, 19, 'San Jose', '8/7/2013')))]"
     ]
    }
   ],
   "source": [
    "join_values.take(1)"
   ]
  },
  {
   "cell_type": "code",
   "execution_count": null,
   "metadata": {},
   "outputs": [],
   "source": []
  },
  {
   "cell_type": "code",
   "execution_count": 41,
   "metadata": {},
   "outputs": [],
   "source": [
    "clean_join = join_values.map( lambda x: (x[0],x[1][0][1],x[1][0][2],x[1][1][1]))"
   ]
  },
  {
   "cell_type": "code",
   "execution_count": 42,
   "metadata": {},
   "outputs": [
    {
     "name": "stdout",
     "output_type": "stream",
     "text": [
      "[(12, 10, 9, 'SJSU 4th at San Carlos'), (12, 10, 9, 'SJSU 4th at San Carlos')]"
     ]
    }
   ],
   "source": [
    "clean_join.take(2)"
   ]
  },
  {
   "cell_type": "code",
   "execution_count": 43,
   "metadata": {},
   "outputs": [],
   "source": [
    "avg_hour = clean_join\\\n",
    "            .keyBy(lambda x:(x[3],x[2]))\\\n",
    "            .mapValues(lambda x: (x[1],1))\\\n",
    "            .reduceByKey(lambda x,y : (x[0]+y[0],x[1]+y[1]))\\\n",
    "            .mapValues(lambda x: x[0]/x[1])"
   ]
  },
  {
   "cell_type": "code",
   "execution_count": 44,
   "metadata": {},
   "outputs": [
    {
     "name": "stdout",
     "output_type": "stream",
     "text": [
      "[(('SJSU 4th at San Carlos', 9), 9.973052138254248), (('SJSU 4th at San Carlos', 5), 13.597754548974061)]"
     ]
    }
   ],
   "source": [
    "avg_hour.take(2)"
   ]
  },
  {
   "cell_type": "code",
   "execution_count": 49,
   "metadata": {},
   "outputs": [
    {
     "name": "stdout",
     "output_type": "stream",
     "text": [
      "[('Yerba Buena Center of the Arts (3rd @ Howard)', 19, 0.0), ('Yerba Buena Center of the Arts (3rd @ Howard)', 18, 0.7314814814814815), ('Yerba Buena Center of the Arts (3rd @ Howard)', 17, 1.8636363636363635), ('Yerba Buena Center of the Arts (3rd @ Howard)', 16, 2.9351351351351354), ('Yerba Buena Center of the Arts (3rd @ Howard)', 15, 3.9548192771084336), ('Yerba Buena Center of the Arts (3rd @ Howard)', 14, 4.969216417910448), ('Yerba Buena Center of the Arts (3rd @ Howard)', 13, 5.938060309698452), ('Yerba Buena Center of the Arts (3rd @ Howard)', 12, 6.9878103837471786), ('Yerba Buena Center of the Arts (3rd @ Howard)', 11, 7.961840628507296), ('Yerba Buena Center of the Arts (3rd @ Howard)', 10, 8.876847290640393)]"
     ]
    }
   ],
   "source": [
    "avg_hour\\\n",
    "    .keyBy(lambda x: x[1])\\\n",
    "    .sortBy(lambda x: x[1],ascending=False)\\\n",
    "    .map(lambda x: (x[1][0][0],x[1][0][1],x[0]))\\\n",
    "    .take(10)"
   ]
  },
  {
   "cell_type": "code",
   "execution_count": 46,
   "metadata": {},
   "outputs": [
    {
     "name": "stdout",
     "output_type": "stream",
     "text": [
      "[(9.973052138254248, (('SJSU 4th at San Carlos', 9), 9.973052138254248))]"
     ]
    }
   ],
   "source": [
    "avg_hour\\\n",
    "    .keyBy(lambda x: x[1]).take(1)"
   ]
  },
  {
   "cell_type": "code",
   "execution_count": null,
   "metadata": {},
   "outputs": [],
   "source": [
    "s3://bigdata-desafio/challenges/u4lec1/household_power_consumption.txt"
   ]
  },
  {
   "cell_type": "code",
   "execution_count": null,
   "metadata": {},
   "outputs": [],
   "source": []
  },
  {
   "cell_type": "code",
   "execution_count": null,
   "metadata": {},
   "outputs": [],
   "source": []
  },
  {
   "cell_type": "code",
   "execution_count": null,
   "metadata": {},
   "outputs": [],
   "source": []
  },
  {
   "cell_type": "code",
   "execution_count": null,
   "metadata": {},
   "outputs": [],
   "source": []
  },
  {
   "cell_type": "markdown",
   "metadata": {},
   "source": [
    "### Desafio\n",
    "####  Moises Quiroz Diaz"
   ]
  },
  {
   "cell_type": "markdown",
   "metadata": {},
   "source": [
    "### Ejercicio 1: Preliminares y datos perdidos"
   ]
  },
  {
   "cell_type": "markdown",
   "metadata": {},
   "source": [
    "    Genere una instancia en AWS EMR y habilite un puerto dinámico para utilizar un notebook\n",
    "    desde JupyterHub.\n",
    "    Genere los objetos SparkConf y SparkContext .\n",
    "    Utilizando Spark , importe el archivo household_power_consumption.txt a un objeto RDD.\n",
    "    El primer registro del archivo corresponde a las etiquetas asociadas a cada columna. Elimínelo\n",
    "    de su RDD.\n",
    "    Cada campo dentro del registro está separado por un ; . Separe cada campo del registro por\n",
    "    éste caracter.\n",
    "    Reporte las siguientes métricas:"
   ]
  },
  {
   "cell_type": "code",
   "execution_count": null,
   "metadata": {},
   "outputs": [],
   "source": [
    "sc #Se asume se autogeneran el conf y contex al estar trabajando dentro de aws con una instancia de spark"
   ]
  },
  {
   "cell_type": "code",
   "execution_count": 51,
   "metadata": {},
   "outputs": [],
   "source": [
    "df = sc.textFile('s3://bigdata-desafio/challenges/u4lec1/household_power_consumption.txt')"
   ]
  },
  {
   "cell_type": "code",
   "execution_count": 62,
   "metadata": {},
   "outputs": [],
   "source": [
    "header = df.first()\n",
    "header = sc.parallelize([header])\n",
    "df = df.subtract(header)"
   ]
  },
  {
   "cell_type": "code",
   "execution_count": 76,
   "metadata": {},
   "outputs": [],
   "source": [
    "df_proc = df\\\n",
    "            .map(lambda x: x.split(';'))\\\n",
    "            .map(lambda x: (str(x[0]),str(x[1]),str(x[2]),str(x[3]),str(x[4]),str(x[5]),str(x[6]),str(x[7]),str(x[8])))"
   ]
  },
  {
   "cell_type": "markdown",
   "metadata": {},
   "source": [
    "\n",
    "    La cantidad total de registros antes de eliminar los datos perdidos.\n",
    "    La cantidad total de registros nulos.\n",
    "    La cantidad de registros nulos por año. ¿En qué año hubo más registros nulos?\n",
    "    La cantidad de registros nulos por mes para el año con una mayor cantidad de registros\n",
    "    nulos. ¿En qué mes hubo más registros nulos?"
   ]
  },
  {
   "cell_type": "code",
   "execution_count": 79,
   "metadata": {},
   "outputs": [
    {
     "name": "stdout",
     "output_type": "stream",
     "text": [
      "la cantidad total de registros antes de eliminar es: 2075259"
     ]
    }
   ],
   "source": [
    "print('la cantidad total de registros antes de eliminar es:',df_proc.count())"
   ]
  },
  {
   "cell_type": "code",
   "execution_count": 88,
   "metadata": {},
   "outputs": [
    {
     "name": "stdout",
     "output_type": "stream",
     "text": [
      "la cantidad total de registros con datos nulos es: 25979"
     ]
    }
   ],
   "source": [
    "nulos = df_proc.keyBy(lambda x: (x[0],x[1]))\\\n",
    "    .filter(lambda x: '?' in x[1])\n",
    "print('la cantidad total de registros con datos nulos es:',nulos.count())"
   ]
  },
  {
   "cell_type": "code",
   "execution_count": 91,
   "metadata": {},
   "outputs": [],
   "source": [
    "perdidos_año = nulos\\\n",
    "                    .map(lambda x:x[0][0].split('/'))\\\n",
    "                    .map(lambda x: x[2])\\\n",
    "                    .map(lambda x: (x,1))\\\n",
    "                    .reduceByKey(lambda x,y : x+y)\\\n",
    "                    .sortBy(lambda x: x[1],ascending=False)\n",
    "\n",
    "perdidos_año_num = perdidos_año.collect()"
   ]
  },
  {
   "cell_type": "code",
   "execution_count": 95,
   "metadata": {},
   "outputs": [
    {
     "name": "stdout",
     "output_type": "stream",
     "text": [
      "El año con mas perdidos fue el 2010 \n",
      " **************************************************\n",
      "Para el año 2010 los datos perdidos fueron 17629\n",
      "Para el año 2009 los datos perdidos fueron 4280\n",
      "Para el año 2007 los datos perdidos fueron 3931\n",
      "Para el año 2008 los datos perdidos fueron 135\n",
      "Para el año 2006 los datos perdidos fueron 4"
     ]
    }
   ],
   "source": [
    "print('El año con mas perdidos fue el 2010','\\n','*'*50)\n",
    "for anio,cantidad in perdidos_año_num:\n",
    "    print('Para el año',anio,'los datos perdidos fueron',cantidad)"
   ]
  },
  {
   "cell_type": "code",
   "execution_count": 101,
   "metadata": {},
   "outputs": [
    {
     "name": "stdout",
     "output_type": "stream",
     "text": [
      "El año con mas perdidos fue el mes 8 \n",
      " **************************************************\n",
      "Para el mes 2010 los datos perdidos fueron 17629\n",
      "Para el mes 2009 los datos perdidos fueron 4280\n",
      "Para el mes 2007 los datos perdidos fueron 3931\n",
      "Para el mes 2008 los datos perdidos fueron 135\n",
      "Para el mes 2006 los datos perdidos fueron 4"
     ]
    }
   ],
   "source": [
    "get_nulos_2010 = nulos\\\n",
    "                    .filter(lambda x:x[0][0].split('/')[2] == '2010')\\\n",
    "                    .map(lambda x:x[0][0].split('/'))\\\n",
    "                    .map(lambda x: x[1])\\\n",
    "                    .map(lambda x: (x,1))\\\n",
    "                    .reduceByKey(lambda x,y : x+y)\\\n",
    "                    .sortBy(lambda x: x[1],ascending=False)\n",
    "\n",
    "get_nulos_2010_num = get_nulos_2010.collect()"
   ]
  },
  {
   "cell_type": "code",
   "execution_count": 102,
   "metadata": {},
   "outputs": [
    {
     "name": "stdout",
     "output_type": "stream",
     "text": [
      "El año con mas perdidos fue el mes 8 \n",
      " **************************************************\n",
      "Para el mes 8 los datos perdidos fueron 7226\n",
      "Para el mes 9 los datos perdidos fueron 5237\n",
      "Para el mes 1 los datos perdidos fueron 3131\n",
      "Para el mes 3 los datos perdidos fueron 2027\n",
      "Para el mes 6 los datos perdidos fueron 2\n",
      "Para el mes 2 los datos perdidos fueron 2\n",
      "Para el mes 10 los datos perdidos fueron 1\n",
      "Para el mes 4 los datos perdidos fueron 1\n",
      "Para el mes 7 los datos perdidos fueron 1\n",
      "Para el mes 5 los datos perdidos fueron 1"
     ]
    }
   ],
   "source": [
    "print('El año con mas perdidos fue el mes 8','\\n','*'*50)\n",
    "for mes,cantidad in get_nulos_2010_num:\n",
    "    print('Para el mes',mes,'los datos perdidos fueron',cantidad)"
   ]
  },
  {
   "cell_type": "markdown",
   "metadata": {},
   "source": [
    "### Ejercicio 2: Preparación de los datos"
   ]
  },
  {
   "cell_type": "markdown",
   "metadata": {},
   "source": [
    "Genere un objeto donde se encuentren sólo aquellos datos sin registros perdidos."
   ]
  },
  {
   "cell_type": "code",
   "execution_count": 106,
   "metadata": {},
   "outputs": [],
   "source": [
    "df_2 = df_proc.keyBy(lambda x: (x[0],x[1]))\\\n",
    "    .filter(lambda x: '?' not in x[1]).map(lambda x:x[1])"
   ]
  },
  {
   "cell_type": "markdown",
   "metadata": {},
   "source": [
    "Con el objeto sin datos perdidos, genere un objeto RDD donde los registro tengan la siguiente\n",
    "estructura:"
   ]
  },
  {
   "cell_type": "code",
   "execution_count": 107,
   "metadata": {},
   "outputs": [
    {
     "name": "stdout",
     "output_type": "stream",
     "text": [
      "[('3/12/2008', '05:15:00', '0.272', '0.052', '245.030', '1.200', '0.000', '0.000', '0.000')]"
     ]
    }
   ],
   "source": [
    "df_2.take(1)"
   ]
  },
  {
   "cell_type": "code",
   "execution_count": 111,
   "metadata": {},
   "outputs": [
    {
     "name": "stdout",
     "output_type": "stream",
     "text": [
      "[(2006, 12, 16, 3.668, 0.51, 233.99, 15.8, 0.0, 1.0)]"
     ]
    }
   ],
   "source": [
    "df_proc_2 = df_2\\\n",
    "            .map(lambda x: (x[0].split('/'),x[2],x[3],x[4],x[5],x[6],x[7],x[8]))\\\n",
    "            .map(lambda x: (x[0][2],x[0][1],x[0][0],x[1],x[2],x[3],x[4],x[5],x[6],x[7]))\\\n",
    "            .map(lambda x: (int(x[0]),int(x[1]),int(x[2]),float(x[3]),float(x[4]),float(x[5]),float(x[6]),float(x[7]),float(x[8])))\\\n",
    "            .sortBy(lambda x: x[0],ascending=True)\n",
    "\n",
    "print(df_proc_2.take(1))\n",
    "\n",
    "\n"
   ]
  },
  {
   "cell_type": "markdown",
   "metadata": {},
   "source": [
    "Devuelva con collect las primeras 5 observaciones"
   ]
  },
  {
   "cell_type": "code",
   "execution_count": 114,
   "metadata": {},
   "outputs": [
    {
     "name": "stdout",
     "output_type": "stream",
     "text": [
      "(2006, 12, 16, 3.666, 0.528, 235.68, 15.8, 0.0, 1.0)\n",
      "(2006, 12, 16, 3.52, 0.522, 235.02, 15.0, 0.0, 2.0)\n",
      "(2006, 12, 16, 3.702, 0.52, 235.09, 15.8, 0.0, 1.0)\n",
      "(2006, 12, 16, 3.7, 0.52, 235.22, 15.8, 0.0, 1.0)\n",
      "(2006, 12, 16, 4.448, 0.498, 232.86, 19.6, 0.0, 1.0)"
     ]
    }
   ],
   "source": [
    "for i in df_proc_2.collect()[0:5]:\n",
    "    print(i)"
   ]
  },
  {
   "cell_type": "code",
   "execution_count": null,
   "metadata": {},
   "outputs": [],
   "source": []
  },
  {
   "cell_type": "markdown",
   "metadata": {},
   "source": [
    "### Ejercicio 3: Patrones globales"
   ]
  },
  {
   "cell_type": "markdown",
   "metadata": {},
   "source": [
    "    Extraiga la media, desviación estándar e intervalos de confianza (a .5 desviaciones estándar)\n",
    "    para las columnas global_activity_power , global_reactive_power , voltage y\n",
    "    global_intensity ."
   ]
  },
  {
   "cell_type": "code",
   "execution_count": null,
   "metadata": {},
   "outputs": [],
   "source": []
  }
 ],
 "metadata": {
  "kernelspec": {
   "display_name": "PySpark3",
   "language": "",
   "name": "pyspark3kernel"
  },
  "language_info": {
   "codemirror_mode": {
    "name": "python",
    "version": 3
   },
   "mimetype": "text/x-python",
   "name": "pyspark3",
   "pygments_lexer": "python3"
  }
 },
 "nbformat": 4,
 "nbformat_minor": 2
}
